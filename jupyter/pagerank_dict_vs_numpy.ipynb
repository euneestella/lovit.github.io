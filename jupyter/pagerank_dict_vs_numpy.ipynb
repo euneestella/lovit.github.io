{
 "cells": [
  {
   "cell_type": "code",
   "execution_count": 1,
   "metadata": {},
   "outputs": [
    {
     "name": "stdout",
     "output_type": "stream",
     "text": [
      "[('4374', 0.1711229946524064),\n",
      " ('178', 0.15040106951871657),\n",
      " ('3241', 0.13101604278074866),\n",
      " ('47952', 0.11296791443850267),\n",
      " ('47953', 0.0962566844919786),\n",
      " ('19538', 0.08088235294117647),\n",
      " ('18991', 0.06684491978609626),\n",
      " ('47954', 0.05414438502673797),\n",
      " ('6038', 0.0427807486631016),\n",
      " ('24102', 0.032754010695187165),\n",
      " ('47955', 0.02406417112299465),\n",
      " ('16903', 0.016711229946524065),\n",
      " ('47956', 0.0106951871657754),\n",
      " ('47957', 0.006016042780748663),\n",
      " ('47958', 0.00267379679144385),\n",
      " ('47959', 0.0006684491978609625)]\n"
     ]
    }
   ],
   "source": [
    "# pre defined casting weight graph\n",
    "# see more data/movie-actor/make_casting_graph.py\n",
    "\n",
    "import pickle\n",
    "from pprint import pprint \n",
    "import sys\n",
    "sys.path.append('/mnt/lovit/git/pagerank/data/movie-actor/')\n",
    "sys.path.append('/mnt/lovit/git/pagerank/')\n",
    "\n",
    "with open('/mnt/lovit/git/pagerank/data/movie-actor/casting_graph.pkl', 'rb') as f:\n",
    "    graph = pickle.load(f)\n",
    "\n",
    "# casting weight of movie = 10001\n",
    "pprint(sorted(graph['10001'].items(), key=lambda x:-x[1]))"
   ]
  },
  {
   "cell_type": "code",
   "execution_count": 2,
   "metadata": {},
   "outputs": [],
   "source": [
    "# create idx to actor name function\n",
    "with open('/mnt/lovit/git/pagerank/data/movie-actor/actors.csv', encoding='utf-8') as f:\n",
    "    next(f)\n",
    "    docs = [line[:-1].split('\\t') for line in f]\n",
    "    # English name if exist else Korean name\n",
    "    _idx2actor = {doc[0]:(doc[2] if doc[2] else doc[1]) for doc in docs}\n",
    "\n",
    "idx2actor = lambda idx: _idx2actor.get(idx, 'Unknown')\n",
    "\n",
    "# create idx to movie name function\n",
    "def append_year_countries(year, countries):\n",
    "    if year and countries:\n",
    "        return ' ({}, {})'.format(year, countries)\n",
    "    elif year:\n",
    "        return ' ({})'.format(year)\n",
    "    elif countries:\n",
    "        return ' ({})'.format(countries)\n",
    "    return ''\n",
    "\n",
    "with open('/mnt/lovit/git/pagerank/data/movie-actor/movies.csv', encoding='utf-8') as f:\n",
    "    next(f)\n",
    "    docs = [line[:-1].split('\\t') for line in f]\n",
    "    _idx2movie = {doc[0]:'{}{}'.format(doc[1], append_year_countries(doc[4], doc[5])) for doc in docs if len(docs)}\n",
    "\n",
    "idx2movie = lambda idx: _idx2movie.get(idx, 'Unknown')"
   ]
  },
  {
   "cell_type": "code",
   "execution_count": 3,
   "metadata": {},
   "outputs": [],
   "source": [
    "from make_casting_graph import oneway_to_bidirected_graph\n",
    "g = oneway_to_bidirected_graph(graph)"
   ]
  },
  {
   "cell_type": "code",
   "execution_count": 4,
   "metadata": {},
   "outputs": [
    {
     "data": {
      "text/plain": [
       "('movie 22682', {'actor 4009': 0.2, 'actor 7995': 0.8})"
      ]
     },
     "execution_count": 4,
     "metadata": {},
     "output_type": "execute_result"
    }
   ],
   "source": [
    "list(g.items())[0]"
   ]
  },
  {
   "cell_type": "code",
   "execution_count": 64,
   "metadata": {},
   "outputs": [
    {
     "data": {
      "text/plain": [
       "265607"
      ]
     },
     "execution_count": 64,
     "metadata": {},
     "output_type": "execute_result"
    }
   ],
   "source": [
    "len(g)"
   ]
  },
  {
   "cell_type": "code",
   "execution_count": 5,
   "metadata": {},
   "outputs": [
    {
     "name": "stdout",
     "output_type": "stream",
     "text": [
      "265607\n"
     ]
    }
   ],
   "source": [
    "# to sparse matrix\n",
    "nodes = set(g.keys())\n",
    "nodes.update({node for wd in g.values() for node in wd})\n",
    "print(len(nodes))"
   ]
  },
  {
   "cell_type": "code",
   "execution_count": 6,
   "metadata": {
    "collapsed": true
   },
   "outputs": [],
   "source": [
    "idx2node = list(sorted(nodes))\n",
    "node2idx = {node:idx for idx, node in enumerate(idx2node)}"
   ]
  },
  {
   "cell_type": "code",
   "execution_count": 56,
   "metadata": {},
   "outputs": [],
   "source": [
    "# create idx to num comments\n",
    "with open('/mnt/lovit/git/pagerank/data/movie-actor/num_comments.txt', encoding='utf-8') as f:\n",
    "    docs = [line[:-1].split('\\t') for line in f]\n",
    "    _idx2numcomments = {movie_idx:int(num) for movie_idx, num in docs}\n",
    "\n",
    "comments_bias = [_idx2numcomments.get(node.split()[1], 0) if 'movie' in node else 0 for node in sorted(node2idx, key=lambda x:node2idx[x])]\n",
    "_sum = sum(comments_bias)\n",
    "comments_bias = np.asarray([b / _sum for b in comments_bias])"
   ]
  },
  {
   "cell_type": "code",
   "execution_count": 7,
   "metadata": {
    "collapsed": true
   },
   "outputs": [],
   "source": [
    "from scipy.sparse import csr_matrix\n",
    "from scipy.sparse import csc_matrix\n",
    "\n",
    "rows = []\n",
    "cols = []\n",
    "data = []\n",
    "\n",
    "for from_node, to_dict in g.items():\n",
    "    from_idx = node2idx[from_node]\n",
    "    for to_node, weight in to_dict.items():\n",
    "        to_idx = node2idx[to_node]\n",
    "        rows.append(from_idx)\n",
    "        cols.append(to_idx)\n",
    "        data.append(weight)\n",
    "\n",
    "#A = csr_matrix((data, (rows, cols)))\n",
    "A = csc_matrix((data, (rows, cols)))"
   ]
  },
  {
   "cell_type": "code",
   "execution_count": 8,
   "metadata": {},
   "outputs": [
    {
     "data": {
      "text/plain": [
       "(265607, 265607)"
      ]
     },
     "execution_count": 8,
     "metadata": {},
     "output_type": "execute_result"
    }
   ],
   "source": [
    "A.shape"
   ]
  },
  {
   "cell_type": "code",
   "execution_count": null,
   "metadata": {
    "collapsed": true
   },
   "outputs": [],
   "source": [
    "import numpy as np\n",
    "from sklearn.preprocessing import normalize"
   ]
  },
  {
   "cell_type": "code",
   "execution_count": 37,
   "metadata": {},
   "outputs": [],
   "source": [
    "# np.dot(A, rank)"
   ]
  },
  {
   "cell_type": "code",
   "execution_count": 21,
   "metadata": {},
   "outputs": [],
   "source": [
    "rank_new = A.dot(rank) # call scipy.sparse safe_sparse_dot()"
   ]
  },
  {
   "cell_type": "code",
   "execution_count": 22,
   "metadata": {},
   "outputs": [
    {
     "data": {
      "text/plain": [
       "(0.9997310802270433, 0.9999999999999993)"
      ]
     },
     "execution_count": 22,
     "metadata": {},
     "output_type": "execute_result"
    }
   ],
   "source": [
    "rank_new.sum(), rank.sum()"
   ]
  },
  {
   "cell_type": "code",
   "execution_count": 23,
   "metadata": {},
   "outputs": [
    {
     "data": {
      "text/plain": [
       "1.0000000000000002"
      ]
     },
     "execution_count": 23,
     "metadata": {},
     "output_type": "execute_result"
    }
   ],
   "source": [
    "rank_new = normalize(rank_new.reshape(1, -1), norm='l1').reshape(-1)\n",
    "rank_new.sum()"
   ]
  },
  {
   "cell_type": "code",
   "execution_count": 25,
   "metadata": {},
   "outputs": [
    {
     "data": {
      "text/plain": [
       "((265607,), (265607,))"
      ]
     },
     "execution_count": 25,
     "metadata": {},
     "output_type": "execute_result"
    }
   ],
   "source": [
    "rank.shape, rank_new.shape"
   ]
  },
  {
   "cell_type": "code",
   "execution_count": 65,
   "metadata": {
    "collapsed": true
   },
   "outputs": [],
   "source": [
    "import time"
   ]
  },
  {
   "cell_type": "code",
   "execution_count": 66,
   "metadata": {},
   "outputs": [
    {
     "name": "stdout",
     "output_type": "stream",
     "text": [
      "iter 1 : diff = 0.281436840863022\n",
      "iter 2 : diff = 0.3970505378527365\n",
      "iter 3 : diff = 0.17598404082440902\n",
      "iter 4 : diff = 0.14807658516192676\n",
      "iter 5 : diff = 0.09962315062320268\n",
      "iter 6 : diff = 0.0765602968138843\n",
      "iter 7 : diff = 0.058114626092355424\n",
      "iter 8 : diff = 0.042949603335787775\n",
      "iter 9 : diff = 0.03410703651803252\n",
      "iter 10 : diff = 0.024663500399523496\n",
      "iter 11 : diff = 0.020053770053409213\n",
      "iter 12 : diff = 0.014331538003882077\n",
      "iter 13 : diff = 0.011801592719125686\n",
      "iter 14 : diff = 0.008385166921666137\n",
      "iter 15 : diff = 0.0069544954062276815\n",
      "iter 16 : diff = 0.004925645467125705\n",
      "iter 17 : diff = 0.004106103285551124\n",
      "iter 18 : diff = 0.002901720075500885\n",
      "iter 19 : diff = 0.002430137343265774\n",
      "iter 20 : diff = 0.0017143036073690432\n",
      "iter 21 : diff = 0.001442295384774437\n",
      "iter 22 : diff = 0.0010158693712554695\n",
      "iter 23 : diff = 0.0008586564597530771\n",
      "iter 24 : diff = 0.0006037068986667392\n",
      "iter 25 : diff = 0.0005127185595059035\n",
      "iter 26 : diff = 0.00035977812698531186\n",
      "iter 27 : diff = 0.0003070013906231215\n",
      "iter 28 : diff = 0.0002150577888443411\n",
      "iter 29 : diff = 0.000184323520834479\n",
      "iter 30 : diff = 0.00012896538325120755\n",
      "0.502016544342041\n"
     ]
    }
   ],
   "source": [
    "t = time.time()\n",
    "\n",
    "max_iter = 30\n",
    "df = 0.85\n",
    "\n",
    "ir = 1 / A.shape[0]\n",
    "rank = np.asarray([ir] * A.shape[0])\n",
    "#bias = np.asarray([ir] * A.shape[0])\n",
    "bias = comments_bias.copy()\n",
    "\n",
    "for n_iter in range(1, max_iter + 1):\n",
    "    rank_new = A.dot(rank) # call scipy.sparse safe_sparse_dot()\n",
    "    rank_new = normalize(rank_new.reshape(1, -1), norm='l1').reshape(-1)\n",
    "    rank_new = df * rank_new + (1 - df) * bias    \n",
    "    diff = abs(rank - rank_new).sum()\n",
    "    rank = rank_new\n",
    "    print('iter {} : diff = {}'.format(n_iter, diff))\n",
    "\n",
    "t = time.time() - t\n",
    "print(t)"
   ]
  },
  {
   "cell_type": "code",
   "execution_count": 62,
   "metadata": {
    "collapsed": true
   },
   "outputs": [],
   "source": [
    "rank_ = {idx2node[idx]:value for idx, value in enumerate(rank)}\n",
    "movierank = {node:value for node, value in rank_.items() if 'movie' in node}\n",
    "actorrank = {node:value for node, value in rank_.items() if 'actor' in node}"
   ]
  },
  {
   "cell_type": "code",
   "execution_count": 68,
   "metadata": {},
   "outputs": [
    {
     "name": "stdout",
     "output_type": "stream",
     "text": [
      "26년 (2012, 한국)\n",
      "부산행 (2016, 한국)\n",
      "디 워 (2007, 한국)\n",
      "곡성(哭聲) (2016, 한국)\n",
      "7번방의 선물 (2013, 한국)\n",
      "인터스텔라 (2014, 미국 영국)\n",
      "인천상륙작전 (2016, 한국)\n",
      "국제시장 (2014, 한국)\n",
      "괴물 (2006, 한국)\n",
      "국가대표 (2009, 한국)\n",
      "암살 (2015, 한국)\n",
      "베테랑 (2015, 한국)\n",
      "아바타 (2009, 미국)\n",
      "연평해전 (2015, 한국)\n",
      "설국열차 (2013, 한국)\n",
      "말할 수 없는 비밀 (2008, 대만)\n",
      "겨울왕국 (2014, 미국)\n",
      "왕의 남자 (2005, 한국)\n",
      "캡틴 아메리카: 시빌 워 (2016, 미국)\n",
      "님아, 그 강을 건너지 마오 (2014, 한국)\n",
      "늑대소년 (2012, 한국)\n",
      "귀향 (2016, 한국)\n",
      "과속스캔들 (2008, 한국)\n",
      "어벤져스: 에이지 오브 울트론 (2015, 미국)\n",
      "세 얼간이 (2011, 인도)\n",
      "다세포 소녀 (2006, 한국)\n",
      "검사외전 (2016, 한국)\n",
      "아저씨 (2010, 한국)\n",
      "군도:민란의 시대 (2014, 한국)\n",
      "광해, 왕이 된 남자 (2012, 한국)\n",
      "해적: 바다로 간 산적 (2014, 한국)\n",
      "해운대 (2009, 한국)\n",
      "터널 (2016, 한국)\n",
      "화려한 휴가 (2007, 한국)\n",
      "아가씨 (2016, 한국)\n",
      "럭키 (2016, 한국)\n",
      "다크 나이트 라이즈 (2012, 미국 영국)\n",
      "다이빙벨 (2014, 한국)\n",
      "덕혜옹주 (2016, 한국)\n",
      "아수라 (2016, 한국)\n",
      "다크 나이트 (2008, 미국)\n",
      "밀정 (2016, 한국)\n",
      "인셉션 (2010, 미국 영국)\n",
      "포화 속으로 (2010, 한국)\n",
      "전우치 (2009, 한국)\n",
      "검은 사제들 (2015, 한국)\n",
      "히말라야 (2015, 한국)\n",
      "트랜스포머 (2007, 미국)\n",
      "7광구 (2011, 한국)\n",
      "좋은 놈, 나쁜 놈, 이상한 놈 (2008, 한국)\n"
     ]
    }
   ],
   "source": [
    "for movie, value in sorted(movierank.items(), key=lambda x:-x[1])[:50]:\n",
    "    movie_idx = movie.split()[1]\n",
    "    #print('{} : {}'.format(idx2movie(movie_idx), value))\n",
    "    print(idx2movie(movie_idx))"
   ]
  },
  {
   "cell_type": "code",
   "execution_count": null,
   "metadata": {
    "collapsed": true
   },
   "outputs": [],
   "source": []
  }
 ],
 "metadata": {
  "kernelspec": {
   "display_name": "Python 3",
   "language": "python",
   "name": "python3"
  },
  "language_info": {
   "codemirror_mode": {
    "name": "ipython",
    "version": 3
   },
   "file_extension": ".py",
   "mimetype": "text/x-python",
   "name": "python",
   "nbconvert_exporter": "python",
   "pygments_lexer": "ipython3",
   "version": "3.6.2"
  }
 },
 "nbformat": 4,
 "nbformat_minor": 2
}
