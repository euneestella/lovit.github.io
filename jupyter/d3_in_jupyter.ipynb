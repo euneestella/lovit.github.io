{
 "cells": [
  {
   "cell_type": "markdown",
   "metadata": {},
   "source": [
    "reference: \n",
    "\n",
    "- https://medium.com/@stallonejacob/d3-in-juypter-notebook-685d6dca75c8\n",
    "- https://github.com/ResidentMario/py_d3"
   ]
  },
  {
   "cell_type": "code",
   "execution_count": 1,
   "metadata": {
    "collapsed": true
   },
   "outputs": [],
   "source": [
    "import jinja2\n",
    "from IPython.display import HTML\n",
    "import json"
   ]
  },
  {
   "cell_type": "code",
   "execution_count": null,
   "metadata": {
    "collapsed": true
   },
   "outputs": [],
   "source": [
    "from IPython.display import Javascript"
   ]
  },
  {
   "cell_type": "markdown",
   "metadata": {},
   "source": [
    "### source\n",
    "\n",
    "- https://bl.ocks.org/mbostock/4063269"
   ]
  },
  {
   "cell_type": "markdown",
   "metadata": {},
   "source": [
    "### jinja2 + IPython.display.HTML 를 이용해서 HTML 띄우기"
   ]
  },
  {
   "cell_type": "code",
   "execution_count": 21,
   "metadata": {
    "collapsed": true
   },
   "outputs": [],
   "source": [
    "hello_html = jinja2.Template(\"\"\"\n",
    "Hello jinja.\n",
    "\n",
    "Soy lovit. <br>\n",
    "Line separate should be html tag.\n",
    "\n",
    "<p>Usage is IPython.display.HTML(<b>jinja2.Template(str_template).render(json_data)</b>)\n",
    "\"\"\")"
   ]
  },
  {
   "cell_type": "code",
   "execution_count": 22,
   "metadata": {},
   "outputs": [
    {
     "data": {
      "text/html": [
       "\n",
       "Hello jinja.\n",
       "\n",
       "Soy lovit. <br>\n",
       "Line separate should be html tag.\n",
       "\n",
       "<p>Usage is IPython.display.HTML(<b>jinja2.Template(str_template).render(json_data)</b>)"
      ],
      "text/plain": [
       "<IPython.core.display.HTML object>"
      ]
     },
     "execution_count": 22,
     "metadata": {},
     "output_type": "execute_result"
    }
   ],
   "source": [
    "HTML(hello_html.render())"
   ]
  },
  {
   "cell_type": "code",
   "execution_count": 45,
   "metadata": {},
   "outputs": [
    {
     "data": {
      "text/html": [
       "\n",
       "<ul>\n",
       "\n",
       "  <li><a href=\"aa\">lovit</a></li>\n",
       "\n",
       "  <li><a href=\"bb\">ioi</a></li>\n",
       "\n",
       "</ul>"
      ],
      "text/plain": [
       "<IPython.core.display.HTML object>"
      ]
     },
     "execution_count": 45,
     "metadata": {},
     "output_type": "execute_result"
    }
   ],
   "source": [
    "SIMPLE_HTML = jinja2.Template(\"\"\"\n",
    "<script type=\"text/javascript\" src=\"test.js\"></script>\n",
    "<div id={{ visid }}></div>\n",
    "<script type=\"text/javascript\">\n",
    "   !function(LDAvis){\n",
    "       new LDAvis(\"#\" + {{ visid }}, {{ vis_json }});\n",
    "   }(LDAvis);\n",
    "</script>\n",
    "\"\"\")"
   ]
  },
  {
   "cell_type": "code",
   "execution_count": 51,
   "metadata": {},
   "outputs": [
    {
     "data": {
      "text/html": [
       "\n",
       "<script type=\"text/javascript\" src=\"test.js\"></script>\n",
       "<script src=\"https://d3js.org/d3.v5.min.js\"></script>\n",
       "lovit"
      ],
      "text/plain": [
       "<IPython.core.display.HTML object>"
      ]
     },
     "execution_count": 51,
     "metadata": {},
     "output_type": "execute_result"
    }
   ],
   "source": [
    "SIMPLE_HTML = jinja2.Template(\"\"\"\n",
    "<script type=\"text/javascript\" src=\"test.js\"></script>\n",
    "<script src=\"https://d3js.org/d3.v5.min.js\"></script>\n",
    "{{ name }}\n",
    "\"\"\")\n",
    "\n",
    "HTML(SIMPLE_HTML.render({'name': 'lovit'}))"
   ]
  },
  {
   "cell_type": "code",
   "execution_count": 86,
   "metadata": {},
   "outputs": [
    {
     "data": {
      "text/html": [
       "\n",
       "<script type=\"text/javascript\" src=\"test.js\"></script>\n",
       "<script src=\"https://d3js.org/d3.v5.min.js\"></script>\n",
       "<div>\n",
       "<script type=\"text/javascript\">\n",
       "    <svg width=\"500px\" height=\"500px\">\n",
       "        <circle r=\"20\" cx=\"50\" cy=\"20\"/>\n",
       "    </svg>\n",
       "</script>\n",
       "</div>\n",
       "hihi"
      ],
      "text/plain": [
       "<IPython.core.display.HTML object>"
      ]
     },
     "execution_count": 86,
     "metadata": {},
     "output_type": "execute_result"
    }
   ],
   "source": [
    "SIMPLE_HTML = jinja2.Template(\"\"\"\n",
    "<script type=\"text/javascript\" src=\"test.js\"></script>\n",
    "<script src=\"https://d3js.org/d3.v5.min.js\"></script>\n",
    "<div>\n",
    "<script type=\"text/javascript\">\n",
    "    <svg width=\"500px\" height=\"500px\">\n",
    "        <circle r=\"20\" cx=\"50\" cy=\"20\"/>\n",
    "    </svg>\n",
    "</script>\n",
    "</div>\n",
    "hihi\n",
    "\"\"\")\n",
    "\n",
    "data = {'radius':3}\n",
    "data = json.dumps(data)\n",
    "\n",
    "HTML(SIMPLE_HTML.render())"
   ]
  },
  {
   "cell_type": "code",
   "execution_count": 9,
   "metadata": {},
   "outputs": [
    {
     "data": {
      "text/html": [
       "\n",
       "<svg width=\"200px\" height=\"200px\">\n",
       "<circle r=\"50\" cx=\"100\" cy=\"100\" fill=\"red\"/>\n",
       "</svg>"
      ],
      "text/plain": [
       "<IPython.core.display.HTML object>"
      ]
     },
     "execution_count": 9,
     "metadata": {},
     "output_type": "execute_result"
    }
   ],
   "source": [
    "SIMPLE_HTML = jinja2.Template(\"\"\"\n",
    "<svg width=\"200px\" height=\"200px\">\n",
    "<circle r=\"{{ radius }}\" cx=\"100\" cy=\"100\" fill=\"red\"/>\n",
    "</svg>\n",
    "\"\"\")\n",
    "\n",
    "data = {'radius':50}\n",
    "\n",
    "HTML(SIMPLE_HTML.render(data))"
   ]
  },
  {
   "cell_type": "code",
   "execution_count": 12,
   "metadata": {},
   "outputs": [
    {
     "data": {
      "text/html": [
       "\n",
       "<svg width=\"500px\" height=\"200px\">\n",
       "var circles = svg.selectAll(.circle).data($data)\n",
       "</svg>"
      ],
      "text/plain": [
       "<IPython.core.display.HTML object>"
      ]
     },
     "execution_count": 12,
     "metadata": {},
     "output_type": "execute_result"
    }
   ],
   "source": [
    "SIMPLE_HTML = jinja2.Template(\"\"\"\n",
    "<svg width=\"500px\" height=\"200px\">\n",
    "var circles = svg.selectAll(.circle).data($data)\n",
    "circles.transition().attr(\"cr\", function(d){ return cr(d.radius); })\n",
    "</svg>\n",
    "\"\"\")\n",
    "\n",
    "data = {\"data\": [{\"radius\": 30*i} for i in range(1,4)]}\n",
    "data = {\"data\": json.dumps(data['data'])}\n",
    "\n",
    "HTML(SIMPLE_HTML.render(data))"
   ]
  },
  {
   "cell_type": "code",
   "execution_count": 60,
   "metadata": {},
   "outputs": [
    {
     "data": {
      "text/html": [
       "\n",
       "<script type=\"text/javascript\" src=\"test.js\"></script>\n",
       "<script src=\"https://d3js.org/d3.v5.min.js\"></script>\n",
       "lovit\n",
       "<script type=\"text/javascript\">\n",
       "    var message = say_my_name(lovit);\n",
       "    document.write(message)\n",
       "</script>"
      ],
      "text/plain": [
       "<IPython.core.display.HTML object>"
      ]
     },
     "execution_count": 60,
     "metadata": {},
     "output_type": "execute_result"
    }
   ],
   "source": [
    "SIMPLE_HTML = jinja2.Template(\"\"\"\n",
    "<script type=\"text/javascript\" src=\"test.js\"></script>\n",
    "<script src=\"https://d3js.org/d3.v5.min.js\"></script>\n",
    "{{ head }}\n",
    "<script type=\"text/javascript\">\n",
    "    var message = say_my_name({{ data }});\n",
    "    document.write(message)\n",
    "</script>\n",
    "\"\"\")\n",
    "\n",
    "data = {'name':'lovit'}\n",
    "data = json.dumps(data)\n",
    "\n",
    "HTML(SIMPLE_HTML.render({'head':'test',\n",
    "                         'data': data\n",
    "                        }))"
   ]
  },
  {
   "cell_type": "markdown",
   "metadata": {},
   "source": [
    "### JavaScript 코드 분리해서 .js 파일로 만들기"
   ]
  },
  {
   "cell_type": "code",
   "execution_count": 35,
   "metadata": {
    "collapsed": true
   },
   "outputs": [],
   "source": [
    "demo_html = jinja2.Template(\"\"\"\n",
    "<svg width=\"960\" height=\"960\" font-family=\"sans-serif\" font-size=\"10\" text-anchor=\"middle\"></svg>\n",
    "<script src=\"https://d3js.org/d3.v4.min.js\"></script>\n",
    "<script src=\"bubble_chart.js\"></script>\n",
    "<script type=\"text/javascript\">\n",
    "   !function(BubbleChart){\n",
    "       new BubbleChart({{ file_path }});\n",
    "   }(BubbleChart);\n",
    "</script>\n",
    "\"\"\")"
   ]
  },
  {
   "cell_type": "code",
   "execution_count": 36,
   "metadata": {},
   "outputs": [
    {
     "data": {
      "text/html": [
       "\n",
       "<svg width=\"960\" height=\"960\" font-family=\"sans-serif\" font-size=\"10\" text-anchor=\"middle\"></svg>\n",
       "<script src=\"https://d3js.org/d3.v4.min.js\"></script>\n",
       "<script src=\"bubble_chart.js\"></script>\n",
       "<script type=\"text/javascript\">\n",
       "   !function(BubbleChart){\n",
       "       new BubbleChart(flare.csv);\n",
       "   }(BubbleChart);\n",
       "</script>"
      ],
      "text/plain": [
       "<IPython.core.display.HTML object>"
      ]
     },
     "execution_count": 36,
     "metadata": {},
     "output_type": "execute_result"
    }
   ],
   "source": [
    "HTML(demo_html.render({'file_path': 'flare.csv'}))"
   ]
  },
  {
   "cell_type": "markdown",
   "metadata": {},
   "source": [
    "### jinja2 Template 를 이용해서 HTML 만들기"
   ]
  },
  {
   "cell_type": "code",
   "execution_count": null,
   "metadata": {
    "collapsed": true
   },
   "outputs": [],
   "source": []
  },
  {
   "cell_type": "markdown",
   "metadata": {},
   "source": [
    "### Rendering 할 데이터 만들기"
   ]
  },
  {
   "cell_type": "code",
   "execution_count": null,
   "metadata": {
    "collapsed": true
   },
   "outputs": [],
   "source": []
  },
  {
   "cell_type": "markdown",
   "metadata": {},
   "source": [
    "### Visualization"
   ]
  },
  {
   "cell_type": "code",
   "execution_count": null,
   "metadata": {
    "collapsed": true
   },
   "outputs": [],
   "source": []
  },
  {
   "cell_type": "code",
   "execution_count": null,
   "metadata": {
    "collapsed": true
   },
   "outputs": [],
   "source": [
    "SIMPLE_HTML = jinja2.Template(\"\"\"\n",
    "<script type=\"text/javascript\" src=\"{{ d3_url }}\"></script>\n",
    "<script type=\"text/javascript\" src=\"{{ ldavis_url }}\"></script>\n",
    "<link rel=\"stylesheet\" type=\"text/css\" href=\"{{ ldavis_css_url }}\">\n",
    "<div id={{ visid }}></div>\n",
    "<script type=\"text/javascript\">\n",
    "   !function(LDAvis){\n",
    "       new LDAvis(\"#\" + {{ visid }}, {{ vis_json }});\n",
    "   }(LDAvis);\n",
    "</script>"
   ]
  }
 ],
 "metadata": {
  "kernelspec": {
   "display_name": "Python 3",
   "language": "python",
   "name": "python3"
  },
  "language_info": {
   "codemirror_mode": {
    "name": "ipython",
    "version": 3
   },
   "file_extension": ".py",
   "mimetype": "text/x-python",
   "name": "python",
   "nbconvert_exporter": "python",
   "pygments_lexer": "ipython3",
   "version": "3.6.2"
  }
 },
 "nbformat": 4,
 "nbformat_minor": 2
}
