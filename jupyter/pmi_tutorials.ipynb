{
 "cells": [
  {
   "cell_type": "markdown",
   "metadata": {},
   "source": [
    "## dense matrix"
   ]
  },
  {
   "cell_type": "code",
   "execution_count": 1,
   "metadata": {},
   "outputs": [
    {
     "data": {
      "text/plain": [
       "array([[3, 0, 0],\n",
       "       [0, 2, 0],\n",
       "       [1, 0, 1],\n",
       "       [2, 0, 1]])"
      ]
     },
     "execution_count": 1,
     "metadata": {},
     "output_type": "execute_result"
    }
   ],
   "source": [
    "import numpy as np\n",
    "\n",
    "x = np.array([[3, 0, 0], \n",
    "              [0, 2, 0],\n",
    "              [1, 0, 1],\n",
    "              [2, 0, 1]\n",
    "             ])\n",
    "x"
   ]
  },
  {
   "cell_type": "code",
   "execution_count": 2,
   "metadata": {},
   "outputs": [
    {
     "name": "stdout",
     "output_type": "stream",
     "text": [
      "[0.3 0.2 0.2 0.3]\n",
      "[0.6 0.2 0.2]\n"
     ]
    }
   ],
   "source": [
    "# marginal probability\n",
    "px = x.sum(axis=1) / x.sum()\n",
    "py = x.sum(axis=0) / x.sum()\n",
    "\n",
    "print(px)\n",
    "print(py)"
   ]
  },
  {
   "cell_type": "code",
   "execution_count": 3,
   "metadata": {},
   "outputs": [
    {
     "name": "stdout",
     "output_type": "stream",
     "text": [
      "[[0.3 0.  0. ]\n",
      " [0.  0.2 0. ]\n",
      " [0.1 0.  0.1]\n",
      " [0.2 0.  0.1]]\n"
     ]
    }
   ],
   "source": [
    "# convert x to probability matrix\n",
    "pxy = x / x.sum()\n",
    "print(pxy)"
   ]
  },
  {
   "cell_type": "code",
   "execution_count": 4,
   "metadata": {},
   "outputs": [
    {
     "data": {
      "text/plain": [
       "array([[0.3, 0. , 0. , 0. ],\n",
       "       [0. , 0.2, 0. , 0. ],\n",
       "       [0. , 0. , 0.2, 0. ],\n",
       "       [0. , 0. , 0. , 0.3]])"
      ]
     },
     "execution_count": 4,
     "metadata": {},
     "output_type": "execute_result"
    }
   ],
   "source": [
    "# diagonalize px & py for matrix multiplication\n",
    "# (4, 4) by (4, 3) by (3, 3) = (4, 3)\n",
    "np.diag(px)"
   ]
  },
  {
   "cell_type": "code",
   "execution_count": 5,
   "metadata": {},
   "outputs": [
    {
     "data": {
      "text/plain": [
       "array([[3.33333333, 0.        , 0.        , 0.        ],\n",
       "       [0.        , 5.        , 0.        , 0.        ],\n",
       "       [0.        , 0.        , 5.        , 0.        ],\n",
       "       [0.        , 0.        , 0.        , 3.33333333]])"
      ]
     },
     "execution_count": 5,
     "metadata": {},
     "output_type": "execute_result"
    }
   ],
   "source": [
    "# inverse elements if the element is greater than 0\n",
    "np.diag(np.array([0 if pxi == 0 else 1/pxi for pxi in px]))"
   ]
  },
  {
   "cell_type": "code",
   "execution_count": 6,
   "metadata": {},
   "outputs": [
    {
     "name": "stdout",
     "output_type": "stream",
     "text": [
      "(4, 4)\n",
      "(3, 3)\n"
     ]
    }
   ],
   "source": [
    "# inverse element diagonal matrix of px and py\n",
    "px_diag = np.diag(np.array([0 if pxi == 0 else 1/pxi for pxi in px]))\n",
    "py_diag = np.diag(np.array([0 if pyi == 0 else 1/pyi for pyi in py]))\n",
    "\n",
    "print(px_diag.shape)\n",
    "print(py_diag.shape)"
   ]
  },
  {
   "cell_type": "code",
   "execution_count": 7,
   "metadata": {},
   "outputs": [
    {
     "data": {
      "text/plain": [
       "array([[1.66666667, 0.        , 0.        ],\n",
       "       [0.        , 5.        , 0.        ],\n",
       "       [0.83333333, 0.        , 2.5       ],\n",
       "       [1.11111111, 0.        , 1.66666667]])"
      ]
     },
     "execution_count": 7,
     "metadata": {},
     "output_type": "execute_result"
    }
   ],
   "source": [
    "# logarithm is not applied yet\n",
    "exp_pmi = px_diag.dot(pxy).dot(py_diag)\n",
    "\n",
    "exp_pmi"
   ]
  },
  {
   "cell_type": "code",
   "execution_count": 8,
   "metadata": {},
   "outputs": [
    {
     "name": "stdout",
     "output_type": "stream",
     "text": [
      "(1, 1), exp_pmi = 5.0, manually = 4.999999999999999\n",
      "(2, 2), exp_pmi = 2.5, manually = 2.4999999999999996\n",
      "(3, 0), exp_pmi = 1.1111111111111114, manually = 1.1111111111111112\n",
      "(3, 2), exp_pmi = 1.666666666666667, manually = 1.6666666666666667\n"
     ]
    }
   ],
   "source": [
    "# check value\n",
    "# difference cause by truncation error\n",
    "for i in range(x.shape[0]):\n",
    "    for j in range(x.shape[1]):\n",
    "        exp_pmi_ij = exp_pmi[i,j]\n",
    "        manually_ij = pxy[i,j] / (px[i] * py[j])\n",
    "        if not (exp_pmi_ij == manually_ij):\n",
    "            print('({}, {}), exp_pmi = {}, manually = {}'.format(\n",
    "                i, j, exp_pmi_ij, manually_ij))"
   ]
  },
  {
   "cell_type": "code",
   "execution_count": 9,
   "metadata": {},
   "outputs": [
    {
     "name": "stdout",
     "output_type": "stream",
     "text": [
      "(0, 0) = 0.5108256237659907 (exp = 1.6666666666666667)\n",
      "(1, 1) = 1.6094379124341003 (exp = 4.999999999999999)\n",
      "(2, 2) = 0.9162907318741551 (exp = 2.5)\n",
      "(3, 0) = 0.10536051565782655 (exp = 1.1111111111111114)\n",
      "(3, 2) = 0.5108256237659908 (exp = 1.666666666666667)\n"
     ]
    }
   ],
   "source": [
    "# PPMI  = max(0, PMI)\n",
    "# Select (i, j) pairs having greater pmi value\n",
    "#   and store the value into dok_matrix for fast retrieval\n",
    "\n",
    "from scipy.sparse import dok_matrix\n",
    "\n",
    "# PPMI using threshold\n",
    "min_exp_pmi = 1\n",
    "\n",
    "rows, cols = np.where(exp_pmi > min_exp_pmi)\n",
    "pmi_dok = dok_matrix(exp_pmi.shape)\n",
    "\n",
    "for i, j in zip(rows, cols):\n",
    "    # apply logarithm\n",
    "    pmi_dok[i,j] = np.log(exp_pmi[i,j])\n",
    "\n",
    "for position, pmi_ij in pmi_dok.items():\n",
    "    print('{} = {} (exp = {})'.format(\n",
    "        position, pmi_ij, np.exp(pmi_ij)))"
   ]
  },
  {
   "cell_type": "markdown",
   "metadata": {},
   "source": [
    "## sparse matrix"
   ]
  },
  {
   "cell_type": "code",
   "execution_count": 10,
   "metadata": {},
   "outputs": [
    {
     "name": "stdout",
     "output_type": "stream",
     "text": [
      "17170 17729 15043 16990 17161\n"
     ]
    }
   ],
   "source": [
    "from scipy.io import mmread\n",
    "\n",
    "x = mmread('/mnt/lovit/git/retrieval_bot/tmp/mc50_word_context.mtx').tocsr()\n",
    "with open('/mnt/lovit/git/retrieval_bot/tmp/mc50_vectorizer.vocab', encoding='utf-8') as f:\n",
    "    idx2vocab = [word.strip() for word in f]\n",
    "\n",
    "vocab2idx = {vocab:idx for idx, vocab in enumerate(idx2vocab)}\n",
    "print(vocab2idx['뭐먹'], vocab2idx['어디'], vocab2idx['피자'], vocab2idx['치킨'], vocab2idx['지하철'])"
   ]
  },
  {
   "cell_type": "code",
   "execution_count": 11,
   "metadata": {},
   "outputs": [
    {
     "data": {
      "text/plain": [
       "(17761, 17761)"
      ]
     },
     "execution_count": 11,
     "metadata": {},
     "output_type": "execute_result"
    }
   ],
   "source": [
    "x.shape"
   ]
  },
  {
   "cell_type": "code",
   "execution_count": 12,
   "metadata": {},
   "outputs": [
    {
     "name": "stdout",
     "output_type": "stream",
     "text": [
      "(1, 17761) (1, 17761) (17761, 17761)\n"
     ]
    }
   ],
   "source": [
    "# convert x to probability matrix & marginal probability \n",
    "px = (x.sum(axis=1) / x.sum()).reshape(-1)\n",
    "py = (x.sum(axis=0) / x.sum()).reshape(-1)\n",
    "pxy = x / x.sum()\n",
    "\n",
    "print(px.shape, py.shape, pxy.shape)"
   ]
  },
  {
   "cell_type": "code",
   "execution_count": 13,
   "metadata": {
    "collapsed": true
   },
   "outputs": [],
   "source": [
    "# transform px and py to diagonal matrix\n",
    "# using scipy.sparse.diags\n",
    "\n",
    "from scipy.sparse import diags\n",
    "\n",
    "px_diag = diags(px.tolist()[0])\n",
    "py_diag = diags((py).tolist()[0])"
   ]
  },
  {
   "cell_type": "code",
   "execution_count": 14,
   "metadata": {},
   "outputs": [
    {
     "data": {
      "text/plain": [
       "(17761, 17761)"
      ]
     },
     "execution_count": 14,
     "metadata": {},
     "output_type": "execute_result"
    }
   ],
   "source": [
    "px_diag.shape"
   ]
  },
  {
   "cell_type": "code",
   "execution_count": 15,
   "metadata": {},
   "outputs": [
    {
     "name": "stdout",
     "output_type": "stream",
     "text": [
      "<class 'numpy.ndarray'>\n",
      "(1, 17761)\n"
     ]
    }
   ],
   "source": [
    "print(type(px_diag.data))\n",
    "print(px_diag.data.shape)"
   ]
  },
  {
   "cell_type": "code",
   "execution_count": 16,
   "metadata": {
    "collapsed": true
   },
   "outputs": [],
   "source": [
    "# inverse element diagonal matrix of px and py with alpha smoothing\n",
    "\n",
    "alpha = 0.0001 # acts as p(y) threshold\n",
    "\n",
    "px_diag.data[0] = np.asarray([0 if v == 0 else 1/v for v in px_diag.data[0]])\n",
    "py_diag.data[0] = np.asarray([0 if v == 0 else 1/(v + alpha) for v in py_diag.data[0]])"
   ]
  },
  {
   "cell_type": "code",
   "execution_count": 17,
   "metadata": {},
   "outputs": [
    {
     "data": {
      "text/plain": [
       "(scipy.sparse.dia.dia_matrix,\n",
       " scipy.sparse.csr.csr_matrix,\n",
       " scipy.sparse.dia.dia_matrix)"
      ]
     },
     "execution_count": 17,
     "metadata": {},
     "output_type": "execute_result"
    }
   ],
   "source": [
    "type(px_diag), type(pxy), type(py_diag), "
   ]
  },
  {
   "cell_type": "code",
   "execution_count": 18,
   "metadata": {},
   "outputs": [
    {
     "data": {
      "text/plain": [
       "(17761, 17761)"
      ]
     },
     "execution_count": 18,
     "metadata": {},
     "output_type": "execute_result"
    }
   ],
   "source": [
    "exp_pmi = px_diag.dot(pxy).dot(py_diag)\n",
    "\n",
    "exp_pmi.shape"
   ]
  },
  {
   "cell_type": "code",
   "execution_count": 19,
   "metadata": {
    "collapsed": true
   },
   "outputs": [],
   "source": [
    "# PPMI using threshold\n",
    "min_exp_pmi = 1\n",
    "\n",
    "# because exp_pmi is sparse matrix and type of exp_pmi.data is numpy.ndarray\n",
    "indices = np.where(exp_pmi.data > min_exp_pmi)[0]"
   ]
  },
  {
   "cell_type": "code",
   "execution_count": 36,
   "metadata": {},
   "outputs": [
    {
     "name": "stdout",
     "output_type": "stream",
     "text": [
      "1e+02 %"
     ]
    }
   ],
   "source": [
    "pmi_dok = dok_matrix(exp_pmi.shape)\n",
    "\n",
    "# prepare data (rows, cols, data)\n",
    "rows, cols = exp_pmi.nonzero()\n",
    "data = exp_pmi.data\n",
    "\n",
    "# enumerate function for printing status\n",
    "for _n_idx, idx in enumerate(indices):\n",
    "    \n",
    "    # print current status\n",
    "    if _n_idx % 10000 == 0:\n",
    "        print('\\r{:.3} %'.format(100 * _n_idx / indices.shape[0]), flush=True, end='')\n",
    "        \n",
    "    # apply logarithm\n",
    "    pmi_dok[rows[idx], cols[idx]] = np.log(data[idx])"
   ]
  },
  {
   "cell_type": "code",
   "execution_count": 20,
   "metadata": {},
   "outputs": [
    {
     "ename": "IndexError",
     "evalue": "index out of bounds",
     "output_type": "error",
     "traceback": [
      "\u001b[0;31m---------------------------------------------------------------------------\u001b[0m",
      "\u001b[0;31mIndexError\u001b[0m                                Traceback (most recent call last)",
      "\u001b[0;32m<ipython-input-20-833594d7cf70>\u001b[0m in \u001b[0;36m<module>\u001b[0;34m()\u001b[0m\n\u001b[1;32m      3\u001b[0m         \u001b[0mterm_1_idx\u001b[0m \u001b[0;34m=\u001b[0m \u001b[0mvocab2idx\u001b[0m\u001b[0;34m[\u001b[0m\u001b[0mterm_1\u001b[0m\u001b[0;34m]\u001b[0m\u001b[0;34m\u001b[0m\u001b[0m\n\u001b[1;32m      4\u001b[0m         \u001b[0mterm_2_idx\u001b[0m \u001b[0;34m=\u001b[0m \u001b[0mvocab2idx\u001b[0m\u001b[0;34m[\u001b[0m\u001b[0mterm_2\u001b[0m\u001b[0;34m]\u001b[0m\u001b[0;34m\u001b[0m\u001b[0m\n\u001b[0;32m----> 5\u001b[0;31m         \u001b[0mpmi_12\u001b[0m \u001b[0;34m=\u001b[0m \u001b[0mpmi_dok\u001b[0m\u001b[0;34m[\u001b[0m\u001b[0mterm_1_idx\u001b[0m\u001b[0;34m,\u001b[0m \u001b[0mterm_2_idx\u001b[0m\u001b[0;34m]\u001b[0m\u001b[0;34m\u001b[0m\u001b[0m\n\u001b[0m\u001b[1;32m      6\u001b[0m         \u001b[0mprint\u001b[0m\u001b[0;34m(\u001b[0m\u001b[0;34m'PPMI({}, {}) = {}'\u001b[0m\u001b[0;34m.\u001b[0m\u001b[0mformat\u001b[0m\u001b[0;34m(\u001b[0m\u001b[0mterm_1\u001b[0m\u001b[0;34m,\u001b[0m \u001b[0mterm_2\u001b[0m\u001b[0;34m,\u001b[0m \u001b[0mpmi_12\u001b[0m\u001b[0;34m)\u001b[0m\u001b[0;34m)\u001b[0m\u001b[0;34m\u001b[0m\u001b[0m\n",
      "\u001b[0;32m/home/lovit/anaconda2/envs/scrapper/lib/python3.6/site-packages/scipy/sparse/dok.py\u001b[0m in \u001b[0;36m__getitem__\u001b[0;34m(self, index)\u001b[0m\n\u001b[1;32m    158\u001b[0m                 \u001b[0mi\u001b[0m \u001b[0;34m+=\u001b[0m \u001b[0mself\u001b[0m\u001b[0;34m.\u001b[0m\u001b[0mshape\u001b[0m\u001b[0;34m[\u001b[0m\u001b[0;36m0\u001b[0m\u001b[0;34m]\u001b[0m\u001b[0;34m\u001b[0m\u001b[0m\n\u001b[1;32m    159\u001b[0m             \u001b[0;32mif\u001b[0m \u001b[0mi\u001b[0m \u001b[0;34m<\u001b[0m \u001b[0;36m0\u001b[0m \u001b[0;32mor\u001b[0m \u001b[0mi\u001b[0m \u001b[0;34m>=\u001b[0m \u001b[0mself\u001b[0m\u001b[0;34m.\u001b[0m\u001b[0mshape\u001b[0m\u001b[0;34m[\u001b[0m\u001b[0;36m0\u001b[0m\u001b[0;34m]\u001b[0m\u001b[0;34m:\u001b[0m\u001b[0;34m\u001b[0m\u001b[0m\n\u001b[0;32m--> 160\u001b[0;31m                 \u001b[0;32mraise\u001b[0m \u001b[0mIndexError\u001b[0m\u001b[0;34m(\u001b[0m\u001b[0;34m'index out of bounds'\u001b[0m\u001b[0;34m)\u001b[0m\u001b[0;34m\u001b[0m\u001b[0m\n\u001b[0m\u001b[1;32m    161\u001b[0m             \u001b[0;32mif\u001b[0m \u001b[0mj\u001b[0m \u001b[0;34m<\u001b[0m \u001b[0;36m0\u001b[0m\u001b[0;34m:\u001b[0m\u001b[0;34m\u001b[0m\u001b[0m\n\u001b[1;32m    162\u001b[0m                 \u001b[0mj\u001b[0m \u001b[0;34m+=\u001b[0m \u001b[0mself\u001b[0m\u001b[0;34m.\u001b[0m\u001b[0mshape\u001b[0m\u001b[0;34m[\u001b[0m\u001b[0;36m1\u001b[0m\u001b[0;34m]\u001b[0m\u001b[0;34m\u001b[0m\u001b[0m\n",
      "\u001b[0;31mIndexError\u001b[0m: index out of bounds"
     ]
    }
   ],
   "source": [
    "for term_1 in ['뭐먹', '어디']:\n",
    "    for term_2 in ['피자', '치킨', '지하철']:\n",
    "        term_1_idx = vocab2idx[term_1]\n",
    "        term_2_idx = vocab2idx[term_2]\n",
    "        pmi_12 = pmi_dok[term_1_idx, term_2_idx]\n",
    "        print('PPMI({}, {}) = {}'.format(term_1, term_2, pmi_12))"
   ]
  },
  {
   "cell_type": "code",
   "execution_count": 21,
   "metadata": {},
   "outputs": [
    {
     "ename": "IndexError",
     "evalue": "index (15043) out of range -4 to 3)",
     "output_type": "error",
     "traceback": [
      "\u001b[0;31m---------------------------------------------------------------------------\u001b[0m",
      "\u001b[0;31mIndexError\u001b[0m                                Traceback (most recent call last)",
      "\u001b[0;32m<ipython-input-21-f0c251234625>\u001b[0m in \u001b[0;36m<module>\u001b[0;34m()\u001b[0m\n\u001b[0;32m----> 1\u001b[0;31m \u001b[0msubmatrix\u001b[0m \u001b[0;34m=\u001b[0m \u001b[0mpmi_dok\u001b[0m\u001b[0;34m[\u001b[0m\u001b[0mterm_2_idx\u001b[0m\u001b[0;34m,\u001b[0m\u001b[0;34m:\u001b[0m\u001b[0;34m]\u001b[0m\u001b[0;34m.\u001b[0m\u001b[0mtocsr\u001b[0m\u001b[0;34m(\u001b[0m\u001b[0;34m)\u001b[0m\u001b[0;34m\u001b[0m\u001b[0m\n\u001b[0m\u001b[1;32m      2\u001b[0m \u001b[0mcontexts\u001b[0m \u001b[0;34m=\u001b[0m \u001b[0msubmatrix\u001b[0m\u001b[0;34m.\u001b[0m\u001b[0mnonzero\u001b[0m\u001b[0;34m(\u001b[0m\u001b[0;34m)\u001b[0m\u001b[0;34m[\u001b[0m\u001b[0;36m1\u001b[0m\u001b[0;34m]\u001b[0m\u001b[0;34m\u001b[0m\u001b[0m\n\u001b[1;32m      3\u001b[0m \u001b[0mvalues\u001b[0m \u001b[0;34m=\u001b[0m \u001b[0msubmatrix\u001b[0m\u001b[0;34m.\u001b[0m\u001b[0mdata\u001b[0m\u001b[0;34m\u001b[0m\u001b[0m\n\u001b[1;32m      4\u001b[0m \u001b[0mmost_relateds\u001b[0m \u001b[0;34m=\u001b[0m \u001b[0;34m[\u001b[0m\u001b[0;34m(\u001b[0m\u001b[0midx\u001b[0m\u001b[0;34m,\u001b[0m \u001b[0mvalue\u001b[0m\u001b[0;34m)\u001b[0m \u001b[0;32mfor\u001b[0m \u001b[0midx\u001b[0m\u001b[0;34m,\u001b[0m \u001b[0mvalue\u001b[0m \u001b[0;32min\u001b[0m \u001b[0mzip\u001b[0m\u001b[0;34m(\u001b[0m\u001b[0mcontexts\u001b[0m\u001b[0;34m,\u001b[0m \u001b[0mvalues\u001b[0m\u001b[0;34m)\u001b[0m\u001b[0;34m]\u001b[0m\u001b[0;34m\u001b[0m\u001b[0m\n\u001b[1;32m      5\u001b[0m \u001b[0mmost_relateds\u001b[0m \u001b[0;34m=\u001b[0m \u001b[0msorted\u001b[0m\u001b[0;34m(\u001b[0m\u001b[0mmost_relateds\u001b[0m\u001b[0;34m,\u001b[0m \u001b[0mkey\u001b[0m\u001b[0;34m=\u001b[0m\u001b[0;32mlambda\u001b[0m \u001b[0mx\u001b[0m\u001b[0;34m:\u001b[0m\u001b[0;34m-\u001b[0m\u001b[0mx\u001b[0m\u001b[0;34m[\u001b[0m\u001b[0;36m1\u001b[0m\u001b[0;34m]\u001b[0m\u001b[0;34m)\u001b[0m\u001b[0;34m[\u001b[0m\u001b[0;34m:\u001b[0m\u001b[0mtopk\u001b[0m\u001b[0;34m]\u001b[0m\u001b[0;34m\u001b[0m\u001b[0m\n",
      "\u001b[0;32m/home/lovit/anaconda2/envs/scrapper/lib/python3.6/site-packages/scipy/sparse/dok.py\u001b[0m in \u001b[0;36m__getitem__\u001b[0;34m(self, index)\u001b[0m\n\u001b[1;32m    193\u001b[0m         \u001b[0;32mif\u001b[0m \u001b[0mmin_i\u001b[0m \u001b[0;34m<\u001b[0m \u001b[0;34m-\u001b[0m\u001b[0mself\u001b[0m\u001b[0;34m.\u001b[0m\u001b[0mshape\u001b[0m\u001b[0;34m[\u001b[0m\u001b[0;36m0\u001b[0m\u001b[0;34m]\u001b[0m \u001b[0;32mor\u001b[0m \u001b[0mi\u001b[0m\u001b[0;34m.\u001b[0m\u001b[0mmax\u001b[0m\u001b[0;34m(\u001b[0m\u001b[0;34m)\u001b[0m \u001b[0;34m>=\u001b[0m \u001b[0mself\u001b[0m\u001b[0;34m.\u001b[0m\u001b[0mshape\u001b[0m\u001b[0;34m[\u001b[0m\u001b[0;36m0\u001b[0m\u001b[0;34m]\u001b[0m\u001b[0;34m:\u001b[0m\u001b[0;34m\u001b[0m\u001b[0m\n\u001b[1;32m    194\u001b[0m             raise IndexError('index (%d) out of range -%d to %d)' %\n\u001b[0;32m--> 195\u001b[0;31m                              (i.min(), self.shape[0], self.shape[0]-1))\n\u001b[0m\u001b[1;32m    196\u001b[0m         \u001b[0;32mif\u001b[0m \u001b[0mmin_i\u001b[0m \u001b[0;34m<\u001b[0m \u001b[0;36m0\u001b[0m\u001b[0;34m:\u001b[0m\u001b[0;34m\u001b[0m\u001b[0m\n\u001b[1;32m    197\u001b[0m             \u001b[0mi\u001b[0m \u001b[0;34m=\u001b[0m \u001b[0mi\u001b[0m\u001b[0;34m.\u001b[0m\u001b[0mcopy\u001b[0m\u001b[0;34m(\u001b[0m\u001b[0;34m)\u001b[0m\u001b[0;34m\u001b[0m\u001b[0m\n",
      "\u001b[0;31mIndexError\u001b[0m: index (15043) out of range -4 to 3)"
     ]
    }
   ],
   "source": [
    "submatrix = pmi_dok[term_2_idx,:].tocsr()\n",
    "contexts = submatrix.nonzero()[1]\n",
    "values = submatrix.data\n",
    "most_relateds = [(idx, value) for idx, value in zip(contexts, values)]\n",
    "most_relateds = sorted(most_relateds, key=lambda x:-x[1])[:topk]"
   ]
  },
  {
   "cell_type": "markdown",
   "metadata": {},
   "source": [
    "## using soynlp"
   ]
  },
  {
   "cell_type": "code",
   "execution_count": 22,
   "metadata": {},
   "outputs": [
    {
     "name": "stdout",
     "output_type": "stream",
     "text": [
      "computing pmi was done                              \n"
     ]
    }
   ],
   "source": [
    "import sys\n",
    "sys.path.append('/mnt/lovit/git/soynlp/')\n",
    "from soynlp.word import pmi\n",
    "pmi_soynlp = pmi(x, verbose=True)"
   ]
  },
  {
   "cell_type": "code",
   "execution_count": 23,
   "metadata": {},
   "outputs": [
    {
     "name": "stdout",
     "output_type": "stream",
     "text": [
      "PPMI(뭐먹, 피자) = 3.0861874233694397\n",
      "PPMI(뭐먹, 치킨) = 3.8521326246077767\n",
      "PPMI(뭐먹, 지하철) = 0.0\n",
      "PPMI(어디, 피자) = 0.0\n",
      "PPMI(어디, 치킨) = 0.4396905736037917\n",
      "PPMI(어디, 지하철) = 2.2598710194560514\n"
     ]
    }
   ],
   "source": [
    "for term_1 in ['뭐먹', '어디']:\n",
    "    for term_2 in ['피자', '치킨', '지하철']:\n",
    "        term_1_idx = vocab2idx[term_1]\n",
    "        term_2_idx = vocab2idx[term_2]\n",
    "        pmi_12 = pmi_soynlp[term_1_idx, term_2_idx]\n",
    "        print('PPMI({}, {}) = {}'.format(term_1, term_2, pmi_12))"
   ]
  },
  {
   "cell_type": "code",
   "execution_count": null,
   "metadata": {
    "collapsed": true
   },
   "outputs": [],
   "source": [
    "from soynlp"
   ]
  }
 ],
 "metadata": {
  "kernelspec": {
   "display_name": "Python 3",
   "language": "python",
   "name": "python3"
  },
  "language_info": {
   "codemirror_mode": {
    "name": "ipython",
    "version": 3
   },
   "file_extension": ".py",
   "mimetype": "text/x-python",
   "name": "python",
   "nbconvert_exporter": "python",
   "pygments_lexer": "ipython3",
   "version": "3.6.2"
  }
 },
 "nbformat": 4,
 "nbformat_minor": 2
}
