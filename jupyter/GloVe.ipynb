{
 "cells": [
  {
   "cell_type": "code",
   "execution_count": 1,
   "metadata": {},
   "outputs": [
    {
     "name": "stdout",
     "output_type": "stream",
     "text": [
      "Create (word, contexts) matrix\n",
      "  - counting word frequency from 223356 sents, mem=0.098 Gb\n",
      "  - scanning (word, context) pairs from 223356 sents, mem=0.692 Gb\n",
      "  - (word, context) matrix was constructed. shape = (36002, 36002)                    \n",
      "  - done\n"
     ]
    }
   ],
   "source": [
    "import config\n",
    "\n",
    "from soynlp.utils import DoublespaceLineCorpus\n",
    "from soynlp.vectorizer import sent_to_word_contexts_matrix\n",
    "\n",
    "corpus_path = config.data_directory + '/corpus_10days/news/2016-10-20_article_all_normed_ltokenize.txt'\n",
    "corpus = DoublespaceLineCorpus(corpus_path, iter_sent=True)\n",
    "\n",
    "x, idx2vocab = sent_to_word_contexts_matrix(\n",
    "    corpus,\n",
    "    windows=3,\n",
    "    min_tf=10,\n",
    "    tokenizer=lambda x:x.split(), # (default) lambda x:x.split(),\n",
    "    dynamic_weight=True,\n",
    "    verbose=True)"
   ]
  },
  {
   "cell_type": "code",
   "execution_count": 2,
   "metadata": {},
   "outputs": [
    {
     "data": {
      "text/plain": [
       "(36002, 36002)"
      ]
     },
     "execution_count": 2,
     "metadata": {},
     "output_type": "execute_result"
    }
   ],
   "source": [
    "x.shape"
   ]
  },
  {
   "cell_type": "markdown",
   "metadata": {},
   "source": [
    "    class Glove(object):\n",
    "        \"\"\"\n",
    "        Class for estimating GloVe word embeddings using the\n",
    "        corpus coocurrence matrix.\n",
    "        \"\"\"\n",
    "\n",
    "        def fit(self, matrix, epochs=5, no_threads=2, verbose=False):\n",
    "            \"\"\"\n",
    "            Estimate the word embeddings.\n",
    "            Parameters:\n",
    "            - scipy.sparse.coo_matrix matrix: coocurrence matrix\n",
    "            - int epochs: number of training epochs\n",
    "            - int no_threads: number of training threads\n",
    "            - bool verbose: print progress messages if True\n",
    "            \"\"\"\n",
    "            ...\n"
   ]
  },
  {
   "cell_type": "code",
   "execution_count": 3,
   "metadata": {},
   "outputs": [
    {
     "name": "stdout",
     "output_type": "stream",
     "text": [
      "Performing 30 training epochs with 4 threads\n",
      "Epoch 0\n",
      "Epoch 1\n",
      "Epoch 2\n",
      "Epoch 3\n",
      "Epoch 4\n",
      "Epoch 5\n",
      "Epoch 6\n",
      "Epoch 7\n",
      "Epoch 8\n",
      "Epoch 9\n",
      "Epoch 10\n",
      "Epoch 11\n",
      "Epoch 12\n",
      "Epoch 13\n",
      "Epoch 14\n",
      "Epoch 15\n",
      "Epoch 16\n",
      "Epoch 17\n",
      "Epoch 18\n",
      "Epoch 19\n",
      "Epoch 20\n",
      "Epoch 21\n",
      "Epoch 22\n",
      "Epoch 23\n",
      "Epoch 24\n",
      "Epoch 25\n",
      "Epoch 26\n",
      "Epoch 27\n",
      "Epoch 28\n",
      "Epoch 29\n",
      "CPU times: user 11min 19s, sys: 144 ms, total: 11min 19s\n",
      "Wall time: 2min 54s\n"
     ]
    }
   ],
   "source": [
    "%%time\n",
    "from glove import Glove\n",
    "\n",
    "glove = Glove(no_components=100, learning_rate=0.05)\n",
    "glove.fit(x.tocoo(), epochs=30, no_threads=4, verbose=True)"
   ]
  },
  {
   "cell_type": "markdown",
   "metadata": {},
   "source": [
    "    class Glove(object):\n",
    "        \"\"\"\n",
    "        Class for estimating GloVe word embeddings using the\n",
    "        corpus coocurrence matrix.\n",
    "        \"\"\"\n",
    "\n",
    "        def add_dictionary(self, dictionary):\n",
    "            \"\"\"\n",
    "            Supply a word-id dictionary to allow similarity queries.\n",
    "            \"\"\"\n",
    "\n"
   ]
  },
  {
   "cell_type": "code",
   "execution_count": 4,
   "metadata": {
    "collapsed": true
   },
   "outputs": [],
   "source": [
    "dictionary = {vocab:idx for idx, vocab in enumerate(idx2vocab)}\n",
    "glove.add_dictionary(dictionary)"
   ]
  },
  {
   "cell_type": "code",
   "execution_count": 6,
   "metadata": {
    "scrolled": false
   },
   "outputs": [
    {
     "name": "stdout",
     "output_type": "stream",
     "text": [
      "\n",
      "아이오아이\n",
      "[('신용재', 0.6330379191527024),\n",
      " ('빅브레인', 0.5123793494284452),\n",
      " ('전소미', 0.5114836971245029),\n",
      " ('춘천시', 0.5013883818565743),\n",
      " ('남남서쪽', 0.499423588901108),\n",
      " ('교수협의회', 0.48165639085548845),\n",
      " ('에이핑크', 0.4751089790222733),\n",
      " ('스카이컨벤션웨딩', 0.4639742051458616),\n",
      " ('너무너무너무', 0.462583507196116)]\n",
      "\n",
      "아프리카\n",
      "[('오세아니아', 0.5468469915590192),\n",
      " ('아시아', 0.523738394896139),\n",
      " ('밴쯔', 0.5164662410586703),\n",
      " ('지역', 0.5157234799324472),\n",
      " ('유럽', 0.500360932766298),\n",
      " ('맨스에비뉴', 0.4916878088569188),\n",
      " ('서해안', 0.48839876263481596),\n",
      " ('연준은행', 0.484459463846144),\n",
      " ('태평양', 0.47942268656046266)]\n",
      "\n",
      "밴쯔\n",
      "[('페란테', 0.6780002382000481),\n",
      " ('히들스턴', 0.6550006153192783),\n",
      " ('역북지구', 0.6537082697322909),\n",
      " ('왕씨', 0.6506106387525962),\n",
      " ('구윤재', 0.6441480886063712),\n",
      " ('러에코', 0.6434737034372586),\n",
      " ('제보자', 0.6405363650424534),\n",
      " ('고어', 0.6350559752278742),\n",
      " ('대너', 0.6302981702705076)]\n",
      "\n",
      "박근혜\n",
      "[('대통령', 0.7529166024278048),\n",
      " ('노무현', 0.6699908024338649),\n",
      " ('정권', 0.6686890352854226),\n",
      " ('백승렬', 0.6513448409075263),\n",
      " ('역적패당', 0.6403554473185094),\n",
      " ('정부', 0.6166839784332149),\n",
      " ('박', 0.571792613357599),\n",
      " ('이광호', 0.550166908779221),\n",
      " ('두테르테', 0.5422480740957556)]\n",
      "\n",
      "뉴스\n",
      "[('현입니다', 0.819612312950141),\n",
      " ('가치', 0.7630079154494215),\n",
      " ('마이데일리', 0.7214891287035086),\n",
      " ('보이는', 0.6759771139575933),\n",
      " ('리얼타임', 0.6738568392104681),\n",
      " ('김예', 0.6590989024662507),\n",
      " ('정시내', 0.6506927415957275),\n",
      " ('진입니다', 0.6489588170525953),\n",
      " ('기다립니다', 0.6422357898566843)]\n",
      "\n",
      "날씨\n",
      "[('이어지겠습니다', 0.8611663792822556),\n",
      " ('추운', 0.724908620169696),\n",
      " ('더운', 0.6388291772108462),\n",
      " ('전해드렸습니다', 0.6301136337494954),\n",
      " ('쌀쌀', 0.5774350954856228),\n",
      " ('더위', 0.5452092599553275),\n",
      " ('갑가량', 0.538140787504157),\n",
      " ('깊어가는', 0.5372461144813684),\n",
      " ('이사철', 0.5287278313540662)]\n",
      "\n",
      "이화여대\n",
      "[('최경희', 0.6632205764963207),\n",
      " ('총장', 0.6340522083999887),\n",
      " ('서대문구', 0.6129763424962433),\n",
      " ('모모영화관', 0.5960197229239046),\n",
      " ('교수들', 0.5803278096413228),\n",
      " ('이대', 0.5728685480969222),\n",
      " ('특혜', 0.5685909584200574),\n",
      " ('입학', 0.5502085485986352),\n",
      " ('아트하우스', 0.5262137502807905)]\n",
      "\n",
      "아프리카발톱개구리\n",
      "[('시안', 0.600572206092991),\n",
      " ('서양발톱개구리', 0.5991358516679871),\n",
      " ('파란만장', 0.5902278288618804),\n",
      " ('배체수', 0.5806066350483978),\n",
      " ('김채규', 0.5707353041324303),\n",
      " ('레시피', 0.5671180159122027),\n",
      " ('228', 0.5644619046762358),\n",
      " ('빈폴아웃도어', 0.562192341647385),\n",
      " ('딸인', 0.5431421672272223)]\n"
     ]
    }
   ],
   "source": [
    "from pprint import pprint\n",
    "\n",
    "words = '아이오아이 아프리카 밴쯔 박근혜 뉴스 날씨 이화여대 아프리카발톱개구리'.split()\n",
    "for word in words:\n",
    "    print('\\n{}'.format(word))\n",
    "    pprint(glove.most_similar(word, number=10))"
   ]
  },
  {
   "cell_type": "code",
   "execution_count": 7,
   "metadata": {},
   "outputs": [
    {
     "name": "stdout",
     "output_type": "stream",
     "text": [
      "(36002, 100)\n",
      "<class 'numpy.ndarray'>\n"
     ]
    }
   ],
   "source": [
    "print(glove.word_vectors.shape)\n",
    "print(type(glove.word_vectors))"
   ]
  },
  {
   "cell_type": "code",
   "execution_count": 8,
   "metadata": {},
   "outputs": [
    {
     "name": "stdout",
     "output_type": "stream",
     "text": [
      "(36002,)\n",
      "<class 'numpy.ndarray'>\n"
     ]
    }
   ],
   "source": [
    "print(glove.word_biases.shape)\n",
    "print(type(glove.word_biases))"
   ]
  },
  {
   "cell_type": "code",
   "execution_count": 9,
   "metadata": {},
   "outputs": [
    {
     "name": "stdout",
     "output_type": "stream",
     "text": [
      "<class 'numpy.ndarray'>\n",
      "(36002,)\n"
     ]
    }
   ],
   "source": [
    "import numpy as np\n",
    "\n",
    "vocab_frequency = np.asarray(x.sum(axis=0)).reshape(-1)\n",
    "print(type(vocab_frequency))\n",
    "print(vocab_frequency.shape)"
   ]
  },
  {
   "cell_type": "code",
   "execution_count": 10,
   "metadata": {},
   "outputs": [
    {
     "data": {
      "text/plain": [
       "(0.13917726082382556, 3.717865648249997e-155)"
      ]
     },
     "execution_count": 10,
     "metadata": {},
     "output_type": "execute_result"
    }
   ],
   "source": [
    "import scipy as sp\n",
    "sp.stats.pearsonr(glove.word_biases, vocab_frequency)"
   ]
  },
  {
   "cell_type": "code",
   "execution_count": 11,
   "metadata": {},
   "outputs": [
    {
     "data": {
      "text/plain": [
       "(0.13022318865789767, 6.383992827394151e-136)"
      ]
     },
     "execution_count": 11,
     "metadata": {},
     "output_type": "execute_result"
    }
   ],
   "source": [
    "sp.stats.pearsonr(glove.word_biases, np.log(vocab_frequency + 1))"
   ]
  },
  {
   "cell_type": "code",
   "execution_count": 12,
   "metadata": {},
   "outputs": [
    {
     "name": "stdout",
     "output_type": "stream",
     "text": [
      "correlation of 0 ~ 200 frequent words = 0.903466\n",
      "correlation of 200 ~ 400 frequent words = 0.039069\n",
      "correlation of 400 ~ 600 frequent words = 0.063367\n",
      "correlation of 600 ~ 800 frequent words = 0.082983\n",
      "correlation of 800 ~ 1000 frequent words = -0.063851\n",
      "correlation of 1000 ~ 1200 frequent words = -0.044165\n",
      "correlation of 1200 ~ 1400 frequent words = -0.105217\n",
      "correlation of 1400 ~ 1600 frequent words = 0.026320\n",
      "correlation of 1600 ~ 1800 frequent words = 0.057185\n",
      "correlation of 1800 ~ 2000 frequent words = -0.094153\n",
      "correlation of 2000 ~ 2200 frequent words = 0.028439\n",
      "correlation of 2200 ~ 2400 frequent words = 0.077549\n",
      "correlation of 2400 ~ 2600 frequent words = -0.001549\n",
      "correlation of 2600 ~ 2800 frequent words = 0.072927\n",
      "correlation of 2800 ~ 3000 frequent words = -0.029316\n",
      "correlation of 3000 ~ 3200 frequent words = 0.013317\n",
      "correlation of 3200 ~ 3400 frequent words = 0.089424\n",
      "correlation of 3400 ~ 3600 frequent words = 0.100484\n",
      "correlation of 3600 ~ 3800 frequent words = 0.019684\n",
      "correlation of 3800 ~ 4000 frequent words = -0.073185\n"
     ]
    }
   ],
   "source": [
    "bin_size = 200\n",
    "num_bin = 20\n",
    "\n",
    "for i in range(num_bin):\n",
    "    b = i * bin_size\n",
    "    e = (i + 1) * bin_size\n",
    "    indices = vocab_frequency.argsort()[::-1][b:e]\n",
    "    corr, p_value = sp.stats.pearsonr(\n",
    "        glove.word_biases[indices],\n",
    "        np.log(vocab_frequency[indices])\n",
    "    )\n",
    "    print('correlation of {} ~ {} frequent words = {:f}'.format(\n",
    "        b, e, corr))"
   ]
  },
  {
   "cell_type": "markdown",
   "metadata": {},
   "source": [
    "## Cooccurrence vs PMI"
   ]
  },
  {
   "cell_type": "code",
   "execution_count": 24,
   "metadata": {},
   "outputs": [
    {
     "name": "stdout",
     "output_type": "stream",
     "text": [
      "Create (word, contexts) matrix\n",
      "  - counting word frequency from 223356 sents, mem=0.762 Gb\n",
      "  - scanning (word, context) pairs from 223356 sents, mem=1.148 Gb\n",
      "  - (word, context) matrix was constructed. shape = (36002, 36002)                    \n",
      "  - done\n",
      "computing pmi was done                              \n"
     ]
    }
   ],
   "source": [
    "corpus_path = config.data_directory + '/corpus_10days/news/2016-10-20_article_all_normed_ltokenize.txt'\n",
    "corpus = DoublespaceLineCorpus(corpus_path, iter_sent=True)\n",
    "\n",
    "x, idx2vocab = sent_to_word_contexts_matrix(\n",
    "    corpus,\n",
    "    windows=3,\n",
    "    min_tf=10,\n",
    "    tokenizer=lambda x:x.split(), # (default) lambda x:x.split(),\n",
    "    dynamic_weight=True,\n",
    "    verbose=True)\n",
    "\n",
    "from soynlp.word import pmi\n",
    "\n",
    "pmi_dok = pmi(\n",
    "    x,\n",
    "    min_pmi=0,\n",
    "    alpha=0.0001,\n",
    "    verbose=True)"
   ]
  },
  {
   "cell_type": "code",
   "execution_count": 28,
   "metadata": {},
   "outputs": [],
   "source": [
    "pmi_coo = pmi_dok.tocoo()\n",
    "pmi_coo.data = np.exp(pmi_coo.data)"
   ]
  },
  {
   "cell_type": "code",
   "execution_count": 29,
   "metadata": {},
   "outputs": [
    {
     "name": "stdout",
     "output_type": "stream",
     "text": [
      "Performing 10 training epochs with 4 threads\n",
      "Epoch 0\n",
      "Epoch 1\n",
      "Epoch 2\n",
      "Epoch 3\n",
      "Epoch 4\n",
      "Epoch 5\n",
      "Epoch 6\n",
      "Epoch 7\n",
      "Epoch 8\n",
      "Epoch 9\n"
     ]
    }
   ],
   "source": [
    "glove = Glove(no_components=100, learning_rate=0.05)\n",
    "glove.fit(pmi_coo, epochs=10, no_threads=4, verbose=True)\n",
    "\n",
    "dictionary = {vocab:idx for idx, vocab in enumerate(idx2vocab)}\n",
    "glove.add_dictionary(dictionary)"
   ]
  },
  {
   "cell_type": "code",
   "execution_count": 30,
   "metadata": {},
   "outputs": [
    {
     "name": "stdout",
     "output_type": "stream",
     "text": [
      "\n",
      "아이오아이\n",
      "[('신용재', 0.7914284209632875),\n",
      " ('세븐', 0.7489299970993364),\n",
      " ('완전체', 0.71126339593965),\n",
      " ('빅브레인', 0.6741679949075243),\n",
      " ('너무너무너무', 0.6738632698821577),\n",
      " ('바스타즈', 0.6465278467299003),\n",
      " ('전소미', 0.6440235347213449),\n",
      " ('에스에프나인', 0.6310242247797081),\n",
      " ('최유정', 0.6294763752012386)]\n",
      "\n",
      "아프리카\n",
      "[('오세아니아', 0.7241348027333279),\n",
      " ('밴쯔', 0.7018811286614235),\n",
      " ('발톱', 0.6872967933505756),\n",
      " ('순방', 0.6829228441116788),\n",
      " ('남미', 0.671354948555566),\n",
      " ('대기오염', 0.6670380713287991),\n",
      " ('중남미', 0.652867547635567),\n",
      " ('연수', 0.6428026341834174),\n",
      " ('연합군', 0.6420441710452911)]\n",
      "\n",
      "밴쯔\n",
      "[('괴담', 0.843470048705245),\n",
      " ('출신들', 0.8312542079825843),\n",
      " ('동국대학교', 0.8267818230809405),\n",
      " ('대도서관', 0.82376742132087),\n",
      " ('발톱', 0.8229074783810726),\n",
      " ('어우러지는', 0.8208860999048154),\n",
      " ('운용사들', 0.8173702382642954),\n",
      " ('청년위원회', 0.8173343666943348),\n",
      " ('정시내', 0.8165243983617699)]\n",
      "\n",
      "박근혜\n",
      "[('백승렬', 0.7634579650936018),\n",
      " ('뉴시스', 0.685499446709774),\n",
      " ('전진', 0.6719308223698037),\n",
      " ('역적패당', 0.6608761405192142),\n",
      " ('최진석', 0.632234850897908),\n",
      " ('취임식', 0.6292328420776633),\n",
      " ('고양', 0.6213567051579064),\n",
      " ('가소로운', 0.6070345021031475),\n",
      " ('채송무기자', 0.6030256127188223)]\n",
      "\n",
      "뉴스\n",
      "[('기다립니다', 0.7985958219069741),\n",
      " ('미란다', 0.7691541069677353),\n",
      " ('가치', 0.7424305835084496),\n",
      " ('화제성', 0.7129867295401258),\n",
      " ('리얼타임', 0.7039427259203597),\n",
      " ('머니투데이', 0.6758547178732666),\n",
      " ('마이데일리', 0.6668856211641927),\n",
      " ('뉴미디어', 0.6538011865500841),\n",
      " ('돈이', 0.6437536320258749)]\n",
      "\n",
      "날씨\n",
      "[('추운', 0.7513865264032459),\n",
      " ('이어지겠습니다', 0.7080465312188575),\n",
      " ('쌀쌀', 0.6993007524490659),\n",
      " ('더운', 0.6866646957285709),\n",
      " ('맑은', 0.6657510227892054),\n",
      " ('전해드렸습니다', 0.6455435279422913),\n",
      " ('청명한', 0.6054966193907588),\n",
      " ('보이겠다', 0.6032325790693291),\n",
      " ('완연한', 0.5935774986847026)]\n",
      "\n",
      "이화여대\n",
      "[('최경희', 0.7370892021188855),\n",
      " ('아트하우스', 0.708358889552762),\n",
      " ('서대문구', 0.6906925904029806),\n",
      " ('특혜입학', 0.6529625219640144),\n",
      " ('교수협의회', 0.645106409628693),\n",
      " ('모모영화관', 0.6427129459452823),\n",
      " ('입학', 0.6242928082287664),\n",
      " ('게시판', 0.6182194956539536),\n",
      " ('교수들', 0.6168390492078353)]\n",
      "\n",
      "아프리카발톱개구리\n",
      "[('서양발톱개구리', 0.8009054913492537),\n",
      " ('유전체', 0.7993569164282132),\n",
      " ('보이자', 0.7586143401441201),\n",
      " ('진이', 0.7570679225598747),\n",
      " ('해독', 0.7558452485223126),\n",
      " ('억엔', 0.7503497219116173),\n",
      " ('239', 0.7431286489123393),\n",
      " ('원하면', 0.7309820073059993),\n",
      " ('2600', 0.7272823670322898)]\n"
     ]
    }
   ],
   "source": [
    "words = '아이오아이 아프리카 밴쯔 박근혜 뉴스 날씨 이화여대 아프리카발톱개구리'.split()\n",
    "for word in words:\n",
    "    print('\\n{}'.format(word))\n",
    "    pprint(glove.most_similar(word, number=10))"
   ]
  },
  {
   "cell_type": "markdown",
   "metadata": {},
   "source": [
    "## input is X or log X?"
   ]
  },
  {
   "cell_type": "code",
   "execution_count": 13,
   "metadata": {
    "collapsed": true
   },
   "outputs": [],
   "source": [
    "x_log = x.copy()\n",
    "x_log.data = np.log(x_log.data)"
   ]
  },
  {
   "cell_type": "code",
   "execution_count": 14,
   "metadata": {},
   "outputs": [
    {
     "name": "stdout",
     "output_type": "stream",
     "text": [
      "Performing 30 training epochs with 4 threads\n",
      "Epoch 0\n",
      "Epoch 1\n",
      "Epoch 2\n",
      "Epoch 3\n",
      "Epoch 4\n",
      "Epoch 5\n",
      "Epoch 6\n",
      "Epoch 7\n",
      "Epoch 8\n",
      "Epoch 9\n",
      "Epoch 10\n",
      "Epoch 11\n",
      "Epoch 12\n",
      "Epoch 13\n",
      "Epoch 14\n",
      "Epoch 15\n",
      "Epoch 16\n",
      "Epoch 17\n",
      "Epoch 18\n",
      "Epoch 19\n",
      "Epoch 20\n",
      "Epoch 21\n",
      "Epoch 22\n",
      "Epoch 23\n",
      "Epoch 24\n",
      "Epoch 25\n",
      "Epoch 26\n",
      "Epoch 27\n",
      "Epoch 28\n",
      "Epoch 29\n",
      "CPU times: user 11min 4s, sys: 168 ms, total: 11min 4s\n",
      "Wall time: 2min 50s\n"
     ]
    }
   ],
   "source": [
    "%%time\n",
    "from glove import Glove\n",
    "\n",
    "glove_log = Glove(no_components=100, learning_rate=0.05)\n",
    "glove_log.fit(x_log.tocoo(), epochs=30, no_threads=4, verbose=True)"
   ]
  },
  {
   "cell_type": "code",
   "execution_count": 15,
   "metadata": {
    "collapsed": true
   },
   "outputs": [],
   "source": [
    "glove_log.add_dictionary(dictionary)"
   ]
  },
  {
   "cell_type": "code",
   "execution_count": 16,
   "metadata": {},
   "outputs": [
    {
     "name": "stdout",
     "output_type": "stream",
     "text": [
      "\n",
      "아이오아이\n",
      "[('토크쇼', 0.714453936019567),\n",
      " ('정보위', 0.7036633406860543),\n",
      " ('마주', 0.7032775745889824),\n",
      " ('알레포', 0.6726947920305449),\n",
      " ('크루즈', 0.6585095182682378),\n",
      " ('중학교', 0.6554945811709223),\n",
      " ('경계', 0.6521894532401543),\n",
      " ('일방적', 0.6479916391944842),\n",
      " ('운영위원회', 0.6432933923521571)]\n",
      "\n",
      "아프리카\n",
      "[('도를', 0.8322087201781329),\n",
      " ('보수', 0.8032509461006283),\n",
      " ('급등', 0.795653345410944),\n",
      " ('변호사', 0.7941358153127909),\n",
      " ('서명', 0.7846240109991088),\n",
      " ('기조', 0.7843483922600653),\n",
      " ('대피', 0.7781592999464791),\n",
      " ('핵무기', 0.7769994447356362),\n",
      " ('물가', 0.7761496793459782)]\n",
      "\n",
      "박근혜\n",
      "[('매각', 0.4404301725962579),\n",
      " ('살갑고', 0.4380179217211654),\n",
      " ('독일', 0.40669228538130314),\n",
      " ('호', 0.4045846109016733),\n",
      " ('조직', 0.4042742124774094),\n",
      " ('개봉', 0.40327956421652233),\n",
      " ('야당', 0.4024726352164049),\n",
      " ('6시', 0.393807253461551),\n",
      " ('재단', 0.39283910729643584)]\n",
      "\n",
      "뉴스\n",
      "[('진입니다', 0.582575755753948),\n",
      " ('권리', 0.5579738691321225),\n",
      " ('것처럼', 0.49352934460591424),\n",
      " ('인프라', 0.4830418505515455),\n",
      " ('강남', 0.4822897994943563),\n",
      " ('한화', 0.46749752669912326),\n",
      " ('케미', 0.463372856816332),\n",
      " ('요인', 0.4588276125303769),\n",
      " ('스마트', 0.45521685500613185)]\n",
      "\n",
      "날씨\n",
      "[('비만', 0.8216263956748286),\n",
      " ('법무부', 0.8213940683438239),\n",
      " ('학점', 0.8105348614081644),\n",
      " ('자원', 0.8010282645187987),\n",
      " ('사면', 0.8007160472486237),\n",
      " ('패턴', 0.8003610488581597),\n",
      " ('전주시', 0.7984130392645912),\n",
      " ('그곳', 0.7983267876163318),\n",
      " ('소장', 0.795950273839296)]\n",
      "\n",
      "이화여대\n",
      "[('상대방', 0.655893806370367),\n",
      " ('항목', 0.6492401979558543),\n",
      " ('용인', 0.6320485977410635),\n",
      " ('컴백', 0.6246636638514967),\n",
      " ('조달', 0.6177076039634929),\n",
      " ('정비', 0.6133438349332108),\n",
      " ('승객', 0.6124542066792575),\n",
      " ('운용', 0.6092985617333094),\n",
      " ('연주', 0.6090028217997888)]\n",
      "\n",
      "아프리카발톱개구리\n",
      "[('공동협력창구', 0.8065355271640533),\n",
      " ('쏜', 0.8017030930852327),\n",
      " ('연예계', 0.7770958769115268),\n",
      " ('차기작', 0.7745548968704735),\n",
      " ('앵커', 0.770852823772588),\n",
      " ('어두운', 0.7662286453854776),\n",
      " ('산업화', 0.7656217422190136),\n",
      " ('왕자', 0.7654503977736056),\n",
      " ('사위', 0.7643209581732988)]\n"
     ]
    }
   ],
   "source": [
    "from pprint import pprint\n",
    "\n",
    "words = '아이오아이 아프리카 박근혜 뉴스 날씨 이화여대 아프리카발톱개구리'.split()\n",
    "for word in words:\n",
    "    print('\\n{}'.format(word))\n",
    "    pprint(glove_log.most_similar(word, number=10))"
   ]
  },
  {
   "cell_type": "markdown",
   "metadata": {},
   "source": [
    "## Use only noun"
   ]
  },
  {
   "cell_type": "code",
   "execution_count": 17,
   "metadata": {},
   "outputs": [
    {
     "name": "stdout",
     "output_type": "stream",
     "text": [
      "Create (word, contexts) matrix\n",
      "  - counting word frequency from 30001 sents, mem=0.482 Gb\n",
      "  - scanning (word, context) pairs from 30001 sents, mem=0.883 Gb\n",
      "  - (word, context) matrix was constructed. shape = (24907, 24907)                    \n",
      "  - done\n"
     ]
    },
    {
     "data": {
      "text/plain": [
       "(24907, 24907)"
      ]
     },
     "execution_count": 17,
     "metadata": {},
     "output_type": "execute_result"
    }
   ],
   "source": [
    "corpus_path = config.data_directory + 'corpus_10days/news/2016-10-20_article_all_normed_nountokenized.txt'\n",
    "corpus = DoublespaceLineCorpus(corpus_path, iter_sent=True)\n",
    "\n",
    "x, idx2vocab = sent_to_word_contexts_matrix(\n",
    "    corpus,\n",
    "    windows=3,\n",
    "    min_tf=10,\n",
    "    tokenizer=lambda x:x.split(), # (default) lambda x:x.split(),\n",
    "    dynamic_weight=True,\n",
    "    verbose=True)\n",
    "\n",
    "x.shape"
   ]
  },
  {
   "cell_type": "code",
   "execution_count": 18,
   "metadata": {},
   "outputs": [
    {
     "name": "stdout",
     "output_type": "stream",
     "text": [
      "Performing 50 training epochs with 4 threads\n",
      "Epoch 0\n",
      "Epoch 1\n",
      "Epoch 2\n",
      "Epoch 3\n",
      "Epoch 4\n",
      "Epoch 5\n",
      "Epoch 6\n",
      "Epoch 7\n",
      "Epoch 8\n",
      "Epoch 9\n",
      "Epoch 10\n",
      "Epoch 11\n",
      "Epoch 12\n",
      "Epoch 13\n",
      "Epoch 14\n",
      "Epoch 15\n",
      "Epoch 16\n",
      "Epoch 17\n",
      "Epoch 18\n",
      "Epoch 19\n",
      "Epoch 20\n",
      "Epoch 21\n",
      "Epoch 22\n",
      "Epoch 23\n",
      "Epoch 24\n",
      "Epoch 25\n",
      "Epoch 26\n",
      "Epoch 27\n",
      "Epoch 28\n",
      "Epoch 29\n",
      "Epoch 30\n",
      "Epoch 31\n",
      "Epoch 32\n",
      "Epoch 33\n",
      "Epoch 34\n",
      "Epoch 35\n",
      "Epoch 36\n",
      "Epoch 37\n",
      "Epoch 38\n",
      "Epoch 39\n",
      "Epoch 40\n",
      "Epoch 41\n",
      "Epoch 42\n",
      "Epoch 43\n",
      "Epoch 44\n",
      "Epoch 45\n",
      "Epoch 46\n",
      "Epoch 47\n",
      "Epoch 48\n",
      "Epoch 49\n",
      "CPU times: user 17min 24s, sys: 208 ms, total: 17min 24s\n",
      "Wall time: 4min 28s\n"
     ]
    }
   ],
   "source": [
    "%%time\n",
    "from glove import Glove\n",
    "\n",
    "glove = Glove(no_components=100, learning_rate=0.05)\n",
    "glove.fit(x.tocoo(), epochs=50, no_threads=4, verbose=True)"
   ]
  },
  {
   "cell_type": "code",
   "execution_count": 20,
   "metadata": {},
   "outputs": [
    {
     "name": "stdout",
     "output_type": "stream",
     "text": [
      "\n",
      "아이오아이\n",
      "[('신용재', 0.5805331729320036),\n",
      " ('너무너무너무', 0.5741224744112465),\n",
      " ('완전체', 0.5726943482665132),\n",
      " ('정채연', 0.5021193024856118),\n",
      " ('엠카운트다운', 0.4530081679972609),\n",
      " ('상큼', 0.4245737037567245),\n",
      " ('전소미', 0.41846291947213665),\n",
      " ('세븐', 0.40930687997524856),\n",
      " ('에이핑크', 0.40125288862530734)]\n",
      "\n",
      "아프리카\n",
      "[('밴쯔', 0.7481097142457359),\n",
      " ('대도서관', 0.6069598956105416),\n",
      " ('남미', 0.5616162470321773),\n",
      " ('윰댕', 0.47132781819711234),\n",
      " ('중남미', 0.44717903427322764),\n",
      " ('태평양', 0.4393260339807186),\n",
      " ('특수관계자', 0.4368596996605185),\n",
      " ('아시아', 0.4131500263233034),\n",
      " ('30만명', 0.404283440142136)]\n",
      "\n",
      "밴쯔\n",
      "[('아프리카', 0.7481097142457359),\n",
      " ('대도서관', 0.5698692430747861),\n",
      " ('윰댕', 0.5521730368818649),\n",
      " ('남미', 0.5073757989578754),\n",
      " ('중남미', 0.5032227200370767),\n",
      " ('구주', 0.5027751709863969),\n",
      " ('특수관계자', 0.4916473575900808),\n",
      " ('게스트하우스', 0.4816951876666276),\n",
      " ('끌면서', 0.47871655211856484)]\n",
      "\n",
      "박근혜\n",
      "[('대통령', 0.7230460227501027),\n",
      " ('역적패당', 0.6157415625599676),\n",
      " ('비선', 0.6054084124585757),\n",
      " ('전진', 0.584424604313606),\n",
      " ('정권', 0.5754621621205595),\n",
      " ('2002년', 0.5634767683670936),\n",
      " ('백승', 0.553383803864207),\n",
      " ('정부', 0.5495400960438639),\n",
      " ('노무현', 0.5421891834846654)]\n",
      "\n",
      "뉴스\n",
      "[('여러분', 0.7108262763885468),\n",
      " ('마이데일리', 0.7089973906735032),\n",
      " ('리얼', 0.7000888449844799),\n",
      " ('미란다', 0.683087163269771),\n",
      " ('가치', 0.6717613880187876),\n",
      " ('화제성이', 0.6321656869612744),\n",
      " ('머니투데이', 0.6311807477479158),\n",
      " ('제보', 0.6164892200486225),\n",
      " ('노믹스', 0.6046397058897299)]\n",
      "\n",
      "날씨\n",
      "[('추운', 0.6980775926720497),\n",
      " ('쌀쌀', 0.653824405673329),\n",
      " ('완연', 0.5768284407607406),\n",
      " ('가을', 0.561169902677408),\n",
      " ('캐스터', 0.548426749305603),\n",
      " ('선선', 0.5459101895192049),\n",
      " ('청명', 0.48645408408894003),\n",
      " ('깊어가는', 0.47989683390265975),\n",
      " ('전해드렸습니다', 0.47929898746882343)]\n",
      "\n",
      "이화여대\n",
      "[('총장', 0.6747063996495303),\n",
      " ('최경희', 0.6728031453308236),\n",
      " ('경북대', 0.671970053469028),\n",
      " ('입학', 0.6115546944165755),\n",
      " ('서대문구', 0.6074949117945047),\n",
      " ('특혜입학', 0.6062445476170416),\n",
      " ('이대', 0.6000738043820523),\n",
      " ('특혜', 0.5960310082482347),\n",
      " ('사퇴', 0.5817451762305149)]\n",
      "\n",
      "아프리카발톱개구리\n",
      "[('유전체', 0.6463626504742837),\n",
      " ('서양발톱개구리', 0.5378989272172292),\n",
      " ('해독', 0.45593493081047465),\n",
      " ('화목', 0.4464086925926326),\n",
      " ('1700', 0.4446085505048336),\n",
      " ('신한은행', 0.4432438865533663),\n",
      " ('체외수정', 0.4428776987784046),\n",
      " ('건국대', 0.4354539384518442),\n",
      " ('오뚜기', 0.4310764100911919)]\n"
     ]
    }
   ],
   "source": [
    "dictionary = {vocab:idx for idx, vocab in enumerate(idx2vocab)}\n",
    "glove.add_dictionary(dictionary)\n",
    "\n",
    "words = '아이오아이 아프리카 밴쯔 박근혜 뉴스 날씨 이화여대 아프리카발톱개구리'.split()\n",
    "for word in words:\n",
    "    print('\\n{}'.format(word))\n",
    "    pprint(glove.most_similar(word, number=10))"
   ]
  },
  {
   "cell_type": "code",
   "execution_count": 21,
   "metadata": {},
   "outputs": [
    {
     "name": "stdout",
     "output_type": "stream",
     "text": [
      "<class 'numpy.ndarray'>\n",
      "(24907,)\n"
     ]
    }
   ],
   "source": [
    "import numpy as np\n",
    "\n",
    "vocab_frequency = np.asarray(x.sum(axis=0)).reshape(-1)\n",
    "print(type(vocab_frequency))\n",
    "print(vocab_frequency.shape)"
   ]
  },
  {
   "cell_type": "code",
   "execution_count": 22,
   "metadata": {},
   "outputs": [
    {
     "name": "stdout",
     "output_type": "stream",
     "text": [
      "correlation of 0 ~ 200 frequent words = 0.550328\n",
      "correlation of 200 ~ 400 frequent words = 0.114059\n",
      "correlation of 400 ~ 600 frequent words = 0.159792\n",
      "correlation of 600 ~ 800 frequent words = 0.111992\n",
      "correlation of 800 ~ 1000 frequent words = -0.045210\n",
      "correlation of 1000 ~ 1200 frequent words = 0.104710\n",
      "correlation of 1200 ~ 1400 frequent words = 0.147151\n",
      "correlation of 1400 ~ 1600 frequent words = 0.054132\n",
      "correlation of 1600 ~ 1800 frequent words = -0.058026\n",
      "correlation of 1800 ~ 2000 frequent words = 0.085568\n",
      "correlation of 2000 ~ 2200 frequent words = 0.066846\n",
      "correlation of 2200 ~ 2400 frequent words = 0.106371\n",
      "correlation of 2400 ~ 2600 frequent words = 0.012924\n",
      "correlation of 2600 ~ 2800 frequent words = -0.031278\n",
      "correlation of 2800 ~ 3000 frequent words = 0.139948\n",
      "correlation of 3000 ~ 3200 frequent words = 0.011712\n",
      "correlation of 3200 ~ 3400 frequent words = 0.035133\n",
      "correlation of 3400 ~ 3600 frequent words = -0.068364\n",
      "correlation of 3600 ~ 3800 frequent words = 0.178145\n",
      "correlation of 3800 ~ 4000 frequent words = -0.033905\n"
     ]
    }
   ],
   "source": [
    "bin_size = 200\n",
    "num_bin = 20\n",
    "\n",
    "for i in range(num_bin):\n",
    "    b = i * bin_size\n",
    "    e = (i + 1) * bin_size\n",
    "    indices = vocab_frequency.argsort()[::-1][b:e]\n",
    "    corr, p_value = sp.stats.pearsonr(\n",
    "        glove.word_biases[indices],\n",
    "        np.log(vocab_frequency[indices])\n",
    "    )\n",
    "    print('correlation of {} ~ {} frequent words = {:f}'.format(\n",
    "        b, e, corr))"
   ]
  },
  {
   "cell_type": "code",
   "execution_count": null,
   "metadata": {
    "collapsed": true
   },
   "outputs": [],
   "source": []
  }
 ],
 "metadata": {
  "kernelspec": {
   "display_name": "Python 3",
   "language": "python",
   "name": "python3"
  },
  "language_info": {
   "codemirror_mode": {
    "name": "ipython",
    "version": 3
   },
   "file_extension": ".py",
   "mimetype": "text/x-python",
   "name": "python",
   "nbconvert_exporter": "python",
   "pygments_lexer": "ipython3",
   "version": "3.6.2"
  }
 },
 "nbformat": 4,
 "nbformat_minor": 2
}
