{
 "cells": [
  {
   "cell_type": "code",
   "execution_count": 2,
   "metadata": {},
   "outputs": [
    {
     "name": "stdout",
     "output_type": "stream",
     "text": [
      "Create (word, contexts) matrix\n",
      "  - counting word frequency from 30001 sents, mem=0.085 Gb\n",
      "  - scanning (word, context) pairs from 30001 sents, mem=0.601 Gb\n",
      "  - (word, context) matrix was constructed. shape = (24907, 24907)                    \n",
      "  - done\n"
     ]
    }
   ],
   "source": [
    "import sys\n",
    "sys.path.append('/mnt/lovit/git/soynlp/')\n",
    "\n",
    "from soynlp.utils import DoublespaceLineCorpus\n",
    "from soynlp.vectorizer import sent_to_word_contexts_matrix\n",
    "\n",
    "corpus_path = '/mnt/lovit/works/fastcampus_text_ml/2nd/data/corpus_10days/news/2016-10-20_article_all_normed_nountokenized.txt'\n",
    "corpus = DoublespaceLineCorpus(corpus_path, iter_sent=True)\n",
    "\n",
    "x, idx2vocab = sent_to_word_contexts_matrix(\n",
    "    corpus,\n",
    "    windows=3,\n",
    "    min_tf=10,\n",
    "    tokenizer=lambda x:x.split(), # (default) lambda x:x.split(),\n",
    "    dynamic_weight=True,\n",
    "    verbose=True)"
   ]
  },
  {
   "cell_type": "code",
   "execution_count": 3,
   "metadata": {},
   "outputs": [
    {
     "data": {
      "text/plain": [
       "(24907, 24907)"
      ]
     },
     "execution_count": 3,
     "metadata": {},
     "output_type": "execute_result"
    }
   ],
   "source": [
    "x.shape"
   ]
  },
  {
   "cell_type": "markdown",
   "metadata": {},
   "source": [
    "    class Glove(object):\n",
    "        \"\"\"\n",
    "        Class for estimating GloVe word embeddings using the\n",
    "        corpus coocurrence matrix.\n",
    "        \"\"\"\n",
    "\n",
    "        def fit(self, matrix, epochs=5, no_threads=2, verbose=False):\n",
    "            \"\"\"\n",
    "            Estimate the word embeddings.\n",
    "            Parameters:\n",
    "            - scipy.sparse.coo_matrix matrix: coocurrence matrix\n",
    "            - int epochs: number of training epochs\n",
    "            - int no_threads: number of training threads\n",
    "            - bool verbose: print progress messages if True\n",
    "            \"\"\"\n",
    "            ...\n"
   ]
  },
  {
   "cell_type": "code",
   "execution_count": 6,
   "metadata": {},
   "outputs": [
    {
     "name": "stdout",
     "output_type": "stream",
     "text": [
      "Performing 10 training epochs with 4 threads\n",
      "Epoch 0\n",
      "Epoch 1\n",
      "Epoch 2\n",
      "Epoch 3\n",
      "Epoch 4\n",
      "Epoch 5\n",
      "Epoch 6\n",
      "Epoch 7\n",
      "Epoch 8\n",
      "Epoch 9\n",
      "CPU times: user 3min 24s, sys: 20 ms, total: 3min 24s\n",
      "Wall time: 52.6 s\n"
     ]
    }
   ],
   "source": [
    "%%time\n",
    "from glove import Glove\n",
    "\n",
    "glove = Glove(no_components=100, learning_rate=0.05)\n",
    "glove.fit(x.tocoo(), epochs=10, no_threads=4, verbose=True)"
   ]
  },
  {
   "cell_type": "markdown",
   "metadata": {},
   "source": [
    "    class Glove(object):\n",
    "        \"\"\"\n",
    "        Class for estimating GloVe word embeddings using the\n",
    "        corpus coocurrence matrix.\n",
    "        \"\"\"\n",
    "\n",
    "        def add_dictionary(self, dictionary):\n",
    "            \"\"\"\n",
    "            Supply a word-id dictionary to allow similarity queries.\n",
    "            \"\"\"\n",
    "\n"
   ]
  },
  {
   "cell_type": "code",
   "execution_count": 7,
   "metadata": {
    "collapsed": true
   },
   "outputs": [],
   "source": [
    "dictionary = {vocab:idx for idx, vocab in enumerate(idx2vocab)}"
   ]
  },
  {
   "cell_type": "code",
   "execution_count": 8,
   "metadata": {
    "collapsed": true
   },
   "outputs": [],
   "source": [
    "glove.add_dictionary(dictionary)"
   ]
  },
  {
   "cell_type": "code",
   "execution_count": 55,
   "metadata": {},
   "outputs": [
    {
     "name": "stdout",
     "output_type": "stream",
     "text": [
      "\n",
      "아이오아이\n",
      "[('완전체', 0.8110422744510709),\n",
      " ('신용재', 0.7714571475478809),\n",
      " ('너무너무너무', 0.7215638366243295),\n",
      " ('개헌론자', 0.686157851347118),\n",
      " ('홈플러스', 0.6179901481976946),\n",
      " ('메르세데스', 0.6116926738502735),\n",
      " ('에이핑크', 0.5982829613872631),\n",
      " ('벤츠', 0.5979917733415333),\n",
      " ('산골', 0.5888233714205227)]\n",
      "\n",
      "아프리카\n",
      "[('밴쯔', 0.7313049966795623),\n",
      " ('대중소기업협력재단', 0.5966980195934859),\n",
      " ('자원봉사단', 0.5757705075858978),\n",
      " ('비상식량', 0.5669954560028978),\n",
      " ('아시아', 0.5379778598627764),\n",
      " ('방송사', 0.5369378429569682),\n",
      " ('태평양', 0.5357861391625623),\n",
      " ('홈쇼핑', 0.5354333151012627),\n",
      " ('연준', 0.5346106313898341)]\n",
      "\n",
      "박근혜\n",
      "[('역적패당', 0.8742352455386201),\n",
      " ('대통령', 0.8144689554935732),\n",
      " ('취임식', 0.7822032376162812),\n",
      " ('노무현', 0.7685164882471495),\n",
      " ('2002년', 0.753336645290518),\n",
      " ('포로', 0.753204440099081),\n",
      " ('핵심사업', 0.7405972261337707),\n",
      " ('방북', 0.735674823178534),\n",
      " ('이복형', 0.7290167256216834)]\n",
      "\n",
      "뉴스\n",
      "[('여러분', 0.8518878027673972),\n",
      " ('미란다', 0.8499598965893723),\n",
      " ('머니투데이', 0.8282909648811618),\n",
      " ('리얼', 0.8262764154211826),\n",
      " ('마이데일리', 0.8185270159522261),\n",
      " ('실시간', 0.7989755272659063),\n",
      " ('가치', 0.7961546646565258),\n",
      " ('제보', 0.7961260804483045),\n",
      " ('744', 0.7891251496839351)]\n",
      "\n",
      "날씨\n",
      "[('쌀쌀', 0.8770311298900487),\n",
      " ('추운', 0.8101002205920754),\n",
      " ('완연', 0.7161494158029725),\n",
      " ('선선', 0.715834037517375),\n",
      " ('깊어가는', 0.6974223129107108),\n",
      " ('가을', 0.6666742716779965),\n",
      " ('청명', 0.6196120255209459),\n",
      " ('야릇', 0.6049985458475587),\n",
      " ('동쪽', 0.6044579714845582)]\n",
      "\n",
      "이화여대\n",
      "[('최경희', 0.8410315639777086),\n",
      " ('이대', 0.8135755564011615),\n",
      " ('경북대', 0.7838793698892904),\n",
      " ('총장', 0.7770233224597033),\n",
      " ('교수들', 0.755252561741414),\n",
      " ('체육과학부', 0.739880683292867),\n",
      " ('교수협의회', 0.7365757694297626),\n",
      " ('특혜입학', 0.7178246542200507),\n",
      " ('입학', 0.7120545443512493)]\n",
      "\n",
      "아프리카발톱개구리\n",
      "[('유전체', 0.8981500432489912),\n",
      " ('해독', 0.8267504827859944),\n",
      " ('서양발톱개구리', 0.7623687657399252),\n",
      " ('개구리', 0.7509379518788777),\n",
      " ('챌린지', 0.7414582197967464),\n",
      " ('재학생', 0.7036939764523797),\n",
      " ('늑골', 0.6816646282750716),\n",
      " ('4배체', 0.6802523368865305),\n",
      " ('서울청', 0.6739378962754814)]\n"
     ]
    }
   ],
   "source": [
    "from pprint import pprint\n",
    "\n",
    "words = '아이오아이 아프리카 박근혜 뉴스 날씨 이화여대 아프리카발톱개구리'.split()\n",
    "for word in words:\n",
    "    print('\\n{}'.format(word))\n",
    "    pprint(glove.most_similar(word, number=10))"
   ]
  },
  {
   "cell_type": "code",
   "execution_count": 21,
   "metadata": {},
   "outputs": [
    {
     "name": "stdout",
     "output_type": "stream",
     "text": [
      "(24907, 100)\n",
      "<class 'numpy.ndarray'>\n"
     ]
    }
   ],
   "source": [
    "print(glove.word_vectors.shape)\n",
    "print(type(glove.word_vectors))"
   ]
  },
  {
   "cell_type": "code",
   "execution_count": 22,
   "metadata": {},
   "outputs": [
    {
     "name": "stdout",
     "output_type": "stream",
     "text": [
      "(24907,)\n",
      "<class 'numpy.ndarray'>\n"
     ]
    }
   ],
   "source": [
    "print(glove.word_biases.shape)\n",
    "print(type(glove.word_biases))"
   ]
  },
  {
   "cell_type": "code",
   "execution_count": 32,
   "metadata": {},
   "outputs": [
    {
     "name": "stdout",
     "output_type": "stream",
     "text": [
      "<class 'numpy.ndarray'>\n",
      "(24907,)\n"
     ]
    }
   ],
   "source": [
    "import numpy as np\n",
    "\n",
    "vocab_frequency = np.asarray(x.sum(axis=0)).reshape(-1)\n",
    "print(type(vocab_frequency))\n",
    "print(vocab_frequency.shape)"
   ]
  },
  {
   "cell_type": "code",
   "execution_count": 33,
   "metadata": {},
   "outputs": [
    {
     "data": {
      "text/plain": [
       "(0.22297902936046934, 3.5819032631339966e-278)"
      ]
     },
     "execution_count": 33,
     "metadata": {},
     "output_type": "execute_result"
    }
   ],
   "source": [
    "import scipy as sp\n",
    "sp.stats.pearsonr(glove.word_biases, vocab_frequency)"
   ]
  },
  {
   "cell_type": "code",
   "execution_count": 34,
   "metadata": {},
   "outputs": [
    {
     "data": {
      "text/plain": [
       "(0.43664360593289386, 0.0)"
      ]
     },
     "execution_count": 34,
     "metadata": {},
     "output_type": "execute_result"
    }
   ],
   "source": [
    "sp.stats.pearsonr(glove.word_biases, np.log(vocab_frequency))"
   ]
  },
  {
   "cell_type": "code",
   "execution_count": 47,
   "metadata": {},
   "outputs": [
    {
     "name": "stdout",
     "output_type": "stream",
     "text": [
      "correlation of 0 ~ 200 frequent words = 0.575500\n",
      "correlation of 200 ~ 400 frequent words = 0.018898\n",
      "correlation of 400 ~ 600 frequent words = 0.110320\n",
      "correlation of 600 ~ 800 frequent words = 0.089869\n",
      "correlation of 800 ~ 1000 frequent words = -0.031591\n",
      "correlation of 1000 ~ 1200 frequent words = 0.113555\n",
      "correlation of 1200 ~ 1400 frequent words = 0.164107\n",
      "correlation of 1400 ~ 1600 frequent words = 0.088576\n",
      "correlation of 1600 ~ 1800 frequent words = -0.069694\n",
      "correlation of 1800 ~ 2000 frequent words = 0.113063\n",
      "correlation of 2000 ~ 2200 frequent words = 0.075235\n",
      "correlation of 2200 ~ 2400 frequent words = 0.085103\n",
      "correlation of 2400 ~ 2600 frequent words = 0.004857\n",
      "correlation of 2600 ~ 2800 frequent words = -0.013375\n",
      "correlation of 2800 ~ 3000 frequent words = 0.122389\n",
      "correlation of 3000 ~ 3200 frequent words = -0.023897\n",
      "correlation of 3200 ~ 3400 frequent words = 0.045011\n",
      "correlation of 3400 ~ 3600 frequent words = -0.060463\n",
      "correlation of 3600 ~ 3800 frequent words = 0.179952\n",
      "correlation of 3800 ~ 4000 frequent words = -0.012873\n"
     ]
    }
   ],
   "source": [
    "bin_size = 200\n",
    "num_bin = 20\n",
    "\n",
    "for i in range(num_bin):\n",
    "    b = i * bin_size\n",
    "    e = (i + 1) * bin_size\n",
    "    indices = vocab_frequency.argsort()[::-1][b:e]\n",
    "    corr, p_value = sp.stats.pearsonr(\n",
    "        glove.word_biases[indices],\n",
    "        np.log(vocab_frequency[indices])\n",
    "    )\n",
    "    print('correlation of {} ~ {} frequent words = {:f}'.format(\n",
    "        b, e, corr))"
   ]
  },
  {
   "cell_type": "code",
   "execution_count": 48,
   "metadata": {
    "collapsed": true
   },
   "outputs": [],
   "source": [
    "x_log = x.copy()\n",
    "x_log.data = np.log(x_log.data)"
   ]
  },
  {
   "cell_type": "code",
   "execution_count": 49,
   "metadata": {},
   "outputs": [
    {
     "name": "stdout",
     "output_type": "stream",
     "text": [
      "Performing 10 training epochs with 4 threads\n",
      "Epoch 0\n",
      "Epoch 1\n",
      "Epoch 2\n",
      "Epoch 3\n",
      "Epoch 4\n",
      "Epoch 5\n",
      "Epoch 6\n",
      "Epoch 7\n",
      "Epoch 8\n",
      "Epoch 9\n",
      "CPU times: user 3min 20s, sys: 32 ms, total: 3min 20s\n",
      "Wall time: 51.6 s\n"
     ]
    }
   ],
   "source": [
    "%%time\n",
    "from glove import Glove\n",
    "\n",
    "glove_log = Glove(no_components=100, learning_rate=0.05)\n",
    "glove_log.fit(x_log.tocoo(), epochs=10, no_threads=4, verbose=True)"
   ]
  },
  {
   "cell_type": "code",
   "execution_count": 58,
   "metadata": {
    "collapsed": true
   },
   "outputs": [],
   "source": [
    "glove_log.add_dictionary(dictionary)"
   ]
  },
  {
   "cell_type": "code",
   "execution_count": 59,
   "metadata": {},
   "outputs": [
    {
     "name": "stdout",
     "output_type": "stream",
     "text": [
      "\n",
      "아이오아이\n",
      "[('저유가', 0.6763766934512719),\n",
      " ('자활사업', 0.6762899551714665),\n",
      " ('개막식', 0.6748371592492104),\n",
      " ('24년', 0.6708396305297788),\n",
      " ('금융투자업계', 0.666910025191982),\n",
      " ('김장', 0.6658309910286825),\n",
      " ('희현', 0.6607676843999316),\n",
      " ('두산그룹', 0.6577247539629182),\n",
      " ('결실', 0.6574939949167108)]\n",
      "\n",
      "아프리카\n",
      "[('토지', 0.5250511879809441),\n",
      " ('여론조사', 0.5077297609615892),\n",
      " ('여행주간', 0.5037917226552694),\n",
      " ('심은경', 0.4987474151148324),\n",
      " ('모색', 0.4958612904573909),\n",
      " ('후원', 0.49222607794925727),\n",
      " ('이대호', 0.49202697420582975),\n",
      " ('2000', 0.4898551354924104),\n",
      " ('국내외', 0.4795965814975639)]\n",
      "\n",
      "박근혜\n",
      "[('제기', 0.717966820803743),\n",
      " ('얘기', 0.7137186259032721),\n",
      " ('그래서', 0.7115330709333866),\n",
      " ('경제', 0.7073272566137323),\n",
      " ('시대', 0.7066019149574528),\n",
      " ('실제', 0.7055290121013276),\n",
      " ('미국', 0.6970868537549029),\n",
      " ('있다고', 0.6968010651676112),\n",
      " ('중요', 0.6966457843195364)]\n",
      "\n",
      "뉴스\n",
      "[('자세', 0.7091585480589409),\n",
      " ('화제성이', 0.701761400919492),\n",
      " ('수가', 0.6902325753881542),\n",
      " ('한다고', 0.6726047361489028),\n",
      " ('기회', 0.6620048779251585),\n",
      " ('소개', 0.6620014728778199),\n",
      " ('이같', 0.6567035657784946),\n",
      " ('온라인', 0.6565954638464246),\n",
      " ('담당', 0.6546790670795346)]\n",
      "\n",
      "날씨\n",
      "[('패딩', 0.5916965062976652),\n",
      " ('파괴력', 0.5887011670835294),\n",
      " ('파타고니아', 0.5858314822917396),\n",
      " ('영등포구', 0.5819280908278596),\n",
      " ('300억', 0.5794671369571422),\n",
      " ('토익', 0.5787630053864208),\n",
      " ('미수용', 0.5777701580176127),\n",
      " ('신호', 0.5748595255017944),\n",
      " ('행적', 0.5724425685826986)]\n",
      "\n",
      "이화여대\n",
      "[('분양', 0.6105487034385315),\n",
      " ('2013년', 0.5930330905487493),\n",
      " ('남성', 0.5167875987013241),\n",
      " ('하지', 0.5164265785281239),\n",
      " ('화신', 0.5081389517074743),\n",
      " ('점에서', 0.5078884692951838),\n",
      " ('대선', 0.4860163884741926),\n",
      " ('역시', 0.47374659509635125),\n",
      " ('적용', 0.47174924321393863)]\n",
      "\n",
      "아프리카발톱개구리\n",
      "[('거시', 0.8719421043720176),\n",
      " ('안드로이드페이', 0.8671385027235191),\n",
      " ('네이처리퍼블릭', 0.8651939889428205),\n",
      " ('양강', 0.8623514044137162),\n",
      " ('스테', 0.8590710351730071),\n",
      " ('모기지', 0.8584224837970864),\n",
      " ('성희롱', 0.8581157031840846),\n",
      " ('모듈', 0.8580687687600501),\n",
      " ('비현실적', 0.8548349871287431)]\n"
     ]
    }
   ],
   "source": [
    "from pprint import pprint\n",
    "\n",
    "words = '아이오아이 아프리카 박근혜 뉴스 날씨 이화여대 아프리카발톱개구리'.split()\n",
    "for word in words:\n",
    "    print('\\n{}'.format(word))\n",
    "    pprint(glove_log.most_similar(word, number=10))"
   ]
  },
  {
   "cell_type": "code",
   "execution_count": null,
   "metadata": {
    "collapsed": true
   },
   "outputs": [],
   "source": []
  }
 ],
 "metadata": {
  "kernelspec": {
   "display_name": "Python 3",
   "language": "python",
   "name": "python3"
  },
  "language_info": {
   "codemirror_mode": {
    "name": "ipython",
    "version": 3
   },
   "file_extension": ".py",
   "mimetype": "text/x-python",
   "name": "python",
   "nbconvert_exporter": "python",
   "pygments_lexer": "ipython3",
   "version": "3.6.2"
  }
 },
 "nbformat": 4,
 "nbformat_minor": 2
}
