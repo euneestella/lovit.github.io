{
 "cells": [
  {
   "cell_type": "code",
   "execution_count": 27,
   "metadata": {},
   "outputs": [
    {
     "name": "stdout",
     "output_type": "stream",
     "text": [
      "Create (word, contexts) matrix\n",
      "  - counting word frequency from 223356 sents, mem=1.565 Gb\n",
      "  - scanning (word, context) pairs from 223356 sents, mem=1.904 Gb\n",
      "  - (word, context) matrix was constructed. shape = (36002, 36002)                    \n",
      "  - done\n"
     ]
    }
   ],
   "source": [
    "import config\n",
    "\n",
    "from soynlp.utils import DoublespaceLineCorpus\n",
    "from soynlp.vectorizer import sent_to_word_contexts_matrix\n",
    "\n",
    "corpus_path = config.data_directory + '/corpus_10days/news/2016-10-20_article_all_normed_ltokenize.txt'\n",
    "corpus = DoublespaceLineCorpus(corpus_path, iter_sent=True)\n",
    "\n",
    "x, idx2vocab = sent_to_word_contexts_matrix(\n",
    "    corpus,\n",
    "    windows=3,\n",
    "    min_tf=10,\n",
    "    tokenizer=lambda x:x.split(), # (default) lambda x:x.split(),\n",
    "    dynamic_weight=True,\n",
    "    verbose=True)"
   ]
  },
  {
   "cell_type": "code",
   "execution_count": 2,
   "metadata": {},
   "outputs": [
    {
     "data": {
      "text/plain": [
       "(36002, 36002)"
      ]
     },
     "execution_count": 2,
     "metadata": {},
     "output_type": "execute_result"
    }
   ],
   "source": [
    "x.shape"
   ]
  },
  {
   "cell_type": "markdown",
   "metadata": {},
   "source": [
    "    class Glove(object):\n",
    "        \"\"\"\n",
    "        Class for estimating GloVe word embeddings using the\n",
    "        corpus coocurrence matrix.\n",
    "        \"\"\"\n",
    "\n",
    "        def fit(self, matrix, epochs=5, no_threads=2, verbose=False):\n",
    "            \"\"\"\n",
    "            Estimate the word embeddings.\n",
    "            Parameters:\n",
    "            - scipy.sparse.coo_matrix matrix: coocurrence matrix\n",
    "            - int epochs: number of training epochs\n",
    "            - int no_threads: number of training threads\n",
    "            - bool verbose: print progress messages if True\n",
    "            \"\"\"\n",
    "            ...\n"
   ]
  },
  {
   "cell_type": "code",
   "execution_count": 28,
   "metadata": {},
   "outputs": [
    {
     "name": "stdout",
     "output_type": "stream",
     "text": [
      "Performing 5 training epochs with 4 threads\n",
      "Epoch 0\n",
      "Epoch 1\n",
      "Epoch 2\n",
      "Epoch 3\n",
      "Epoch 4\n",
      "CPU times: user 1min 51s, sys: 16 ms, total: 1min 51s\n",
      "Wall time: 28.8 s\n"
     ]
    }
   ],
   "source": [
    "%%time\n",
    "from glove import Glove\n",
    "\n",
    "glove = Glove(no_components=100, learning_rate=0.05, max_count=30)\n",
    "glove.fit(x.tocoo(), epochs=5, no_threads=4, verbose=True)"
   ]
  },
  {
   "cell_type": "markdown",
   "metadata": {},
   "source": [
    "    class Glove(object):\n",
    "        \"\"\"\n",
    "        Class for estimating GloVe word embeddings using the\n",
    "        corpus coocurrence matrix.\n",
    "        \"\"\"\n",
    "\n",
    "        def add_dictionary(self, dictionary):\n",
    "            \"\"\"\n",
    "            Supply a word-id dictionary to allow similarity queries.\n",
    "            \"\"\"\n",
    "\n"
   ]
  },
  {
   "cell_type": "code",
   "execution_count": 29,
   "metadata": {
    "collapsed": true
   },
   "outputs": [],
   "source": [
    "dictionary = {vocab:idx for idx, vocab in enumerate(idx2vocab)}\n",
    "glove.add_dictionary(dictionary)"
   ]
  },
  {
   "cell_type": "code",
   "execution_count": 30,
   "metadata": {
    "scrolled": false
   },
   "outputs": [
    {
     "name": "stdout",
     "output_type": "stream",
     "text": [
      "\n",
      "아이오아이\n",
      " - 빅브레인 (0.825536)\n",
      " - 에이핑크 (0.755784)\n",
      " - 샤이니 (0.742245)\n",
      " - 신용재 (0.738495)\n",
      " - 63 (0.735941)\n",
      " - 흡연자 (0.724316)\n",
      " - 변호사 (0.720277)\n",
      " - 49가구 (0.715663)\n",
      " - 47 (0.713656)\n",
      "\n",
      "아프리카\n",
      " - 인도네시아 (0.788612)\n",
      " - 터키 (0.786974)\n",
      " - 위원회 (0.758486)\n",
      " - 관리관 (0.756677)\n",
      " - 의회 (0.751656)\n",
      " - 프랑스 (0.749682)\n",
      " - 아내 (0.740632)\n",
      " - 지자체 (0.737634)\n",
      " - 독일 (0.735503)\n",
      "\n",
      "밴쯔\n",
      " - 마이크로소프트 (0.881536)\n",
      " - 평론가 (0.873967)\n",
      " - 러에코 (0.862367)\n",
      " - 부산교통공사 (0.860085)\n",
      " - 전소미 (0.857028)\n",
      " - 왕씨 (0.851574)\n",
      " - 주택금융공사 (0.844223)\n",
      " - 스트레인지 (0.840058)\n",
      " - 컵스 (0.836951)\n",
      "\n",
      "박근혜\n",
      " - 백승렬 (0.837885)\n",
      " - 대통령 (0.813706)\n",
      " - 모아소아 (0.790270)\n",
      " - 강지우 (0.788004)\n",
      " - 김준배 (0.768029)\n",
      " - 박준형 (0.764778)\n",
      " - 집현실 (0.754623)\n",
      " - 정 (0.751644)\n",
      " - 영상공모 (0.751037)\n",
      "\n",
      "뉴스\n",
      " - 현입니다 (0.927284)\n",
      " - 돈이 (0.897314)\n",
      " - 리얼타임 (0.845308)\n",
      " - 정시내 (0.844449)\n",
      " - 보이는 (0.841029)\n",
      " - 머니 (0.816798)\n",
      " - 가치 (0.806059)\n",
      " - 마이데일리 (0.802414)\n",
      " - 머니투데이 (0.792055)\n",
      "\n",
      "날씨\n",
      " - 쌀쌀 (0.724462)\n",
      " - 담배 (0.719716)\n",
      " - 이어지겠습니다 (0.702675)\n",
      " - 추운 (0.692823)\n",
      " - 갑가량 (0.679861)\n",
      " - 줄기 (0.647080)\n",
      " - 용어 (0.635079)\n",
      " - 상륙 (0.631704)\n",
      " - 시나리오 (0.630096)\n",
      "\n",
      "이화여대\n",
      " - 특혜 (0.778369)\n",
      " - 스크린도어 (0.763423)\n",
      " - 최경희 (0.759194)\n",
      " - 입학 (0.718168)\n",
      " - 시리아 (0.706562)\n",
      " - 이대 (0.704481)\n",
      " - 안전문 (0.697390)\n",
      " - 김포공항역 (0.696953)\n",
      " - 아프리카 (0.693793)\n",
      "\n",
      "아프리카발톱개구리\n",
      " - 소유자 (0.835964)\n",
      " - 유전체 (0.818744)\n",
      " - 졸리 (0.785759)\n",
      " - 이엑스아이디 (0.772902)\n",
      " - 신한카드 (0.771019)\n",
      " - 재정적자 (0.769369)\n",
      " - 서태지 (0.768912)\n",
      " - 최고경영자 (0.760701)\n",
      " - 페레스 (0.760445)\n"
     ]
    }
   ],
   "source": [
    "from pprint import pprint\n",
    "\n",
    "words = '아이오아이 아프리카 밴쯔 박근혜 뉴스 날씨 이화여대 아프리카발톱개구리'.split()\n",
    "for word in words:\n",
    "    print('\\n{}'.format(word))\n",
    "    similars = glove.most_similar(word, number=10)\n",
    "    for sim_word, sim in similars:\n",
    "        print(' - {} ({:f})'.format(sim_word, sim))"
   ]
  },
  {
   "cell_type": "code",
   "execution_count": 31,
   "metadata": {},
   "outputs": [
    {
     "name": "stdout",
     "output_type": "stream",
     "text": [
      "(36002, 100)\n",
      "<class 'numpy.ndarray'>\n"
     ]
    }
   ],
   "source": [
    "print(glove.word_vectors.shape)\n",
    "print(type(glove.word_vectors))"
   ]
  },
  {
   "cell_type": "code",
   "execution_count": 32,
   "metadata": {},
   "outputs": [
    {
     "name": "stdout",
     "output_type": "stream",
     "text": [
      "(36002,)\n",
      "<class 'numpy.ndarray'>\n"
     ]
    }
   ],
   "source": [
    "print(glove.word_biases.shape)\n",
    "print(type(glove.word_biases))"
   ]
  },
  {
   "cell_type": "code",
   "execution_count": 33,
   "metadata": {},
   "outputs": [
    {
     "name": "stdout",
     "output_type": "stream",
     "text": [
      "<class 'numpy.ndarray'>\n",
      "(36002,)\n"
     ]
    }
   ],
   "source": [
    "import numpy as np\n",
    "\n",
    "vocab_frequency = np.asarray(x.sum(axis=0)).reshape(-1)\n",
    "print(type(vocab_frequency))\n",
    "print(vocab_frequency.shape)"
   ]
  },
  {
   "cell_type": "code",
   "execution_count": 34,
   "metadata": {},
   "outputs": [
    {
     "data": {
      "text/plain": [
       "(0.1768017150356146, 1.3044250082638122e-250)"
      ]
     },
     "execution_count": 34,
     "metadata": {},
     "output_type": "execute_result"
    }
   ],
   "source": [
    "import scipy as sp\n",
    "sp.stats.pearsonr(glove.word_biases, vocab_frequency)"
   ]
  },
  {
   "cell_type": "code",
   "execution_count": 35,
   "metadata": {},
   "outputs": [
    {
     "data": {
      "text/plain": [
       "(0.43208580547485437, 0.0)"
      ]
     },
     "execution_count": 35,
     "metadata": {},
     "output_type": "execute_result"
    }
   ],
   "source": [
    "sp.stats.pearsonr(glove.word_biases, np.log(vocab_frequency + 1))"
   ]
  },
  {
   "cell_type": "code",
   "execution_count": 36,
   "metadata": {},
   "outputs": [
    {
     "name": "stdout",
     "output_type": "stream",
     "text": [
      "correlation of 0 ~ 200 frequent words = 0.842055\n",
      "correlation of 200 ~ 400 frequent words = 0.000998\n",
      "correlation of 400 ~ 600 frequent words = 0.043573\n",
      "correlation of 600 ~ 800 frequent words = 0.101054\n",
      "correlation of 800 ~ 1000 frequent words = 0.015101\n",
      "correlation of 1000 ~ 1200 frequent words = -0.034661\n",
      "correlation of 1200 ~ 1400 frequent words = -0.125970\n",
      "correlation of 1400 ~ 1600 frequent words = 0.048151\n",
      "correlation of 1600 ~ 1800 frequent words = 0.080136\n",
      "correlation of 1800 ~ 2000 frequent words = -0.071327\n",
      "correlation of 2000 ~ 2200 frequent words = 0.074374\n",
      "correlation of 2200 ~ 2400 frequent words = 0.076970\n",
      "correlation of 2400 ~ 2600 frequent words = 0.009619\n",
      "correlation of 2600 ~ 2800 frequent words = 0.093729\n",
      "correlation of 2800 ~ 3000 frequent words = -0.065978\n",
      "correlation of 3000 ~ 3200 frequent words = 0.041012\n",
      "correlation of 3200 ~ 3400 frequent words = 0.073790\n",
      "correlation of 3400 ~ 3600 frequent words = 0.120550\n",
      "correlation of 3600 ~ 3800 frequent words = 0.000758\n",
      "correlation of 3800 ~ 4000 frequent words = -0.068946\n"
     ]
    }
   ],
   "source": [
    "bin_size = 200\n",
    "num_bin = 20\n",
    "\n",
    "for i in range(num_bin):\n",
    "    b = i * bin_size\n",
    "    e = (i + 1) * bin_size\n",
    "    indices = vocab_frequency.argsort()[::-1][b:e]\n",
    "    corr, p_value = sp.stats.pearsonr(\n",
    "        glove.word_biases[indices],\n",
    "        np.log(vocab_frequency[indices])\n",
    "    )\n",
    "    print('top {} ~ {} frequent words = {:f}'.format(\n",
    "        b, e, corr))"
   ]
  },
  {
   "cell_type": "markdown",
   "metadata": {},
   "source": [
    "## Cooccurrence vs PMI"
   ]
  },
  {
   "cell_type": "code",
   "execution_count": 37,
   "metadata": {},
   "outputs": [
    {
     "name": "stdout",
     "output_type": "stream",
     "text": [
      "Create (word, contexts) matrix\n",
      "  - counting word frequency from 223356 sents, mem=1.603 Gb\n",
      "  - scanning (word, context) pairs from 223356 sents, mem=1.933 Gb\n",
      "  - (word, context) matrix was constructed. shape = (36002, 36002)                    \n",
      "  - done\n",
      "computing pmi was done                              \n"
     ]
    }
   ],
   "source": [
    "corpus_path = config.data_directory + '/corpus_10days/news/2016-10-20_article_all_normed_ltokenize.txt'\n",
    "corpus = DoublespaceLineCorpus(corpus_path, iter_sent=True)\n",
    "\n",
    "x, idx2vocab = sent_to_word_contexts_matrix(\n",
    "    corpus,\n",
    "    windows=3,\n",
    "    min_tf=10,\n",
    "    tokenizer=lambda x:x.split(), # (default) lambda x:x.split(),\n",
    "    dynamic_weight=True,\n",
    "    verbose=True)\n",
    "\n",
    "from soynlp.word import pmi\n",
    "\n",
    "pmi_dok = pmi(\n",
    "    x,\n",
    "    min_pmi=0,\n",
    "    alpha=0.0001,\n",
    "    verbose=True)"
   ]
  },
  {
   "cell_type": "code",
   "execution_count": 13,
   "metadata": {
    "collapsed": true
   },
   "outputs": [],
   "source": [
    "pmi_coo = pmi_dok.tocoo()\n",
    "pmi_coo.data = np.exp(pmi_coo.data)"
   ]
  },
  {
   "cell_type": "code",
   "execution_count": 38,
   "metadata": {},
   "outputs": [
    {
     "name": "stdout",
     "output_type": "stream",
     "text": [
      "Performing 10 training epochs with 4 threads\n",
      "Epoch 0\n",
      "Epoch 1\n",
      "Epoch 2\n",
      "Epoch 3\n",
      "Epoch 4\n",
      "Epoch 5\n",
      "Epoch 6\n",
      "Epoch 7\n",
      "Epoch 8\n",
      "Epoch 9\n"
     ]
    }
   ],
   "source": [
    "glove = Glove(no_components=100, learning_rate=0.05, max_count=3)\n",
    "glove.fit(pmi_coo, epochs=10, no_threads=4, verbose=True)\n",
    "\n",
    "dictionary = {vocab:idx for idx, vocab in enumerate(idx2vocab)}\n",
    "glove.add_dictionary(dictionary)"
   ]
  },
  {
   "cell_type": "code",
   "execution_count": 39,
   "metadata": {},
   "outputs": [
    {
     "name": "stdout",
     "output_type": "stream",
     "text": [
      "\n",
      "아이오아이\n",
      " - 세븐 (0.821385)\n",
      " - 에이핑크 (0.818971)\n",
      " - 몬스타엑스 (0.787898)\n",
      " - 보이그룹 (0.764891)\n",
      " - 조해진 (0.752306)\n",
      " - 오블리스 (0.748496)\n",
      " - 에일리 (0.747067)\n",
      " - 익산 (0.745284)\n",
      " - ㅣ이정아 (0.744192)\n",
      "\n",
      "아프리카\n",
      " - 태평양지사 (0.697227)\n",
      " - 한번씩 (0.688202)\n",
      " - 넘기고 (0.686094)\n",
      " - 태평양 (0.685456)\n",
      " - 부천 (0.683222)\n",
      " - 22억원 (0.678707)\n",
      " - 사이언스 (0.678692)\n",
      " - 바닷가 (0.667071)\n",
      " - 찾았던 (0.665898)\n",
      "\n",
      "밴쯔\n",
      " - 분양광고 (0.966198)\n",
      " - 프라다 (0.958264)\n",
      " - 30만명 (0.952945)\n",
      " - 취득세 (0.949870)\n",
      " - 기억상실 (0.946373)\n",
      " - 심씨 (0.943394)\n",
      " - 상표권 (0.939953)\n",
      " - 탐구 (0.936034)\n",
      " - 계열회사 (0.930536)\n",
      "\n",
      "박근혜\n",
      " - 역적패당 (0.589079)\n",
      " - 주체위성들 (0.588547)\n",
      " - 대통령 (0.580765)\n",
      " - 정권 (0.565015)\n",
      " - 내자 (0.516892)\n",
      " - 취임식 (0.510350)\n",
      " - 노무현 (0.506976)\n",
      " - 가소로운 (0.490007)\n",
      " - 채송무기자 (0.486237)\n",
      "\n",
      "뉴스\n",
      " - 기다립니다 (0.755410)\n",
      " - 머니투데이 (0.658422)\n",
      " - 리얼타임 (0.644828)\n",
      " - 가치 (0.625832)\n",
      " - 뉴미디어 (0.599867)\n",
      " - 마이데일리 (0.563720)\n",
      " - 보이는 (0.555548)\n",
      " - 화제성 (0.550258)\n",
      " - 미란다 (0.533638)\n",
      "\n",
      "날씨\n",
      " - 이어지겠습니다 (0.801522)\n",
      " - 불어오는 (0.668363)\n",
      " - 더운 (0.642125)\n",
      " - 쌀쌀 (0.637030)\n",
      " - 맑고 (0.631879)\n",
      " - 맑은 (0.606140)\n",
      " - 선선 (0.580214)\n",
      " - 완연한 (0.577185)\n",
      " - 보이겠습니다 (0.565806)\n",
      "\n",
      "이화여대\n",
      " - 입학 (0.657255)\n",
      " - 이대 (0.651385)\n",
      " - 모모영화관 (0.631653)\n",
      " - 정유라씨 (0.622455)\n",
      " - 아트하우스 (0.619704)\n",
      " - 총장 (0.589111)\n",
      " - 특혜 (0.585906)\n",
      " - 정유연 (0.559671)\n",
      " - 교수들 (0.555434)\n",
      "\n",
      "아프리카발톱개구리\n",
      " - 사드배치 (0.884393)\n",
      " - 백성 (0.858467)\n",
      " - 토마토 (0.852164)\n",
      " - 꾸렸다 (0.849076)\n",
      " - 톈궁 (0.838271)\n",
      " - 로버트 (0.837727)\n",
      " - 대박이 (0.833167)\n",
      " - 당겨 (0.829372)\n",
      " - 초상화 (0.825091)\n"
     ]
    }
   ],
   "source": [
    "words = '아이오아이 아프리카 밴쯔 박근혜 뉴스 날씨 이화여대 아프리카발톱개구리'.split()\n",
    "for word in words:\n",
    "    print('\\n{}'.format(word))\n",
    "    similars = glove.most_similar(word, number=10)\n",
    "    for sim_word, sim in similars:\n",
    "        print(' - {} ({:f})'.format(sim_word, sim))"
   ]
  },
  {
   "cell_type": "markdown",
   "metadata": {},
   "source": [
    "## input is X or log X?"
   ]
  },
  {
   "cell_type": "code",
   "execution_count": 40,
   "metadata": {
    "collapsed": true
   },
   "outputs": [],
   "source": [
    "x_log = x.copy()\n",
    "x_log.data = np.log(x_log.data)"
   ]
  },
  {
   "cell_type": "code",
   "execution_count": 41,
   "metadata": {},
   "outputs": [
    {
     "name": "stdout",
     "output_type": "stream",
     "text": [
      "Performing 5 training epochs with 4 threads\n",
      "Epoch 0\n",
      "Epoch 1\n",
      "Epoch 2\n",
      "Epoch 3\n",
      "Epoch 4\n",
      "CPU times: user 1min 51s, sys: 16 ms, total: 1min 51s\n",
      "Wall time: 28.8 s\n"
     ]
    }
   ],
   "source": [
    "%%time\n",
    "from glove import Glove\n",
    "\n",
    "glove_log = Glove(no_components=100, learning_rate=0.05, max_count=3)\n",
    "glove_log.fit(x_log.tocoo(), epochs=5, no_threads=4, verbose=True)"
   ]
  },
  {
   "cell_type": "code",
   "execution_count": 42,
   "metadata": {
    "collapsed": true
   },
   "outputs": [],
   "source": [
    "glove_log.add_dictionary(dictionary)"
   ]
  },
  {
   "cell_type": "code",
   "execution_count": 43,
   "metadata": {},
   "outputs": [
    {
     "name": "stdout",
     "output_type": "stream",
     "text": [
      "\n",
      "아이오아이\n",
      " - 세븐 (0.821385)\n",
      " - 에이핑크 (0.818971)\n",
      " - 몬스타엑스 (0.787898)\n",
      " - 보이그룹 (0.764891)\n",
      " - 조해진 (0.752306)\n",
      " - 오블리스 (0.748496)\n",
      " - 에일리 (0.747067)\n",
      " - 익산 (0.745284)\n",
      " - ㅣ이정아 (0.744192)\n",
      "\n",
      "아프리카\n",
      " - 태평양지사 (0.697227)\n",
      " - 한번씩 (0.688202)\n",
      " - 넘기고 (0.686094)\n",
      " - 태평양 (0.685456)\n",
      " - 부천 (0.683222)\n",
      " - 22억원 (0.678707)\n",
      " - 사이언스 (0.678692)\n",
      " - 바닷가 (0.667071)\n",
      " - 찾았던 (0.665898)\n",
      "\n",
      "박근혜\n",
      " - 역적패당 (0.589079)\n",
      " - 주체위성들 (0.588547)\n",
      " - 대통령 (0.580765)\n",
      " - 정권 (0.565015)\n",
      " - 내자 (0.516892)\n",
      " - 취임식 (0.510350)\n",
      " - 노무현 (0.506976)\n",
      " - 가소로운 (0.490007)\n",
      " - 채송무기자 (0.486237)\n",
      "\n",
      "뉴스\n",
      " - 기다립니다 (0.755410)\n",
      " - 머니투데이 (0.658422)\n",
      " - 리얼타임 (0.644828)\n",
      " - 가치 (0.625832)\n",
      " - 뉴미디어 (0.599867)\n",
      " - 마이데일리 (0.563720)\n",
      " - 보이는 (0.555548)\n",
      " - 화제성 (0.550258)\n",
      " - 미란다 (0.533638)\n",
      "\n",
      "날씨\n",
      " - 이어지겠습니다 (0.801522)\n",
      " - 불어오는 (0.668363)\n",
      " - 더운 (0.642125)\n",
      " - 쌀쌀 (0.637030)\n",
      " - 맑고 (0.631879)\n",
      " - 맑은 (0.606140)\n",
      " - 선선 (0.580214)\n",
      " - 완연한 (0.577185)\n",
      " - 보이겠습니다 (0.565806)\n",
      "\n",
      "이화여대\n",
      " - 입학 (0.657255)\n",
      " - 이대 (0.651385)\n",
      " - 모모영화관 (0.631653)\n",
      " - 정유라씨 (0.622455)\n",
      " - 아트하우스 (0.619704)\n",
      " - 총장 (0.589111)\n",
      " - 특혜 (0.585906)\n",
      " - 정유연 (0.559671)\n",
      " - 교수들 (0.555434)\n",
      "\n",
      "아프리카발톱개구리\n",
      " - 사드배치 (0.884393)\n",
      " - 백성 (0.858467)\n",
      " - 토마토 (0.852164)\n",
      " - 꾸렸다 (0.849076)\n",
      " - 톈궁 (0.838271)\n",
      " - 로버트 (0.837727)\n",
      " - 대박이 (0.833167)\n",
      " - 당겨 (0.829372)\n",
      " - 초상화 (0.825091)\n"
     ]
    }
   ],
   "source": [
    "from pprint import pprint\n",
    "\n",
    "words = '아이오아이 아프리카 박근혜 뉴스 날씨 이화여대 아프리카발톱개구리'.split()\n",
    "for word in words:\n",
    "    print('\\n{}'.format(word))\n",
    "    similars = glove.most_similar(word, number=10)\n",
    "    for sim_word, sim in similars:\n",
    "        print(' - {} ({:f})'.format(sim_word, sim))"
   ]
  },
  {
   "cell_type": "markdown",
   "metadata": {},
   "source": [
    "## Use only noun"
   ]
  },
  {
   "cell_type": "code",
   "execution_count": 44,
   "metadata": {},
   "outputs": [
    {
     "name": "stdout",
     "output_type": "stream",
     "text": [
      "Create (word, contexts) matrix\n",
      "  - counting word frequency from 30001 sents, mem=1.610 Gb\n",
      "  - scanning (word, context) pairs from 30001 sents, mem=1.877 Gb\n",
      "  - (word, context) matrix was constructed. shape = (24907, 24907)                    \n",
      "  - done\n"
     ]
    },
    {
     "data": {
      "text/plain": [
       "(24907, 24907)"
      ]
     },
     "execution_count": 44,
     "metadata": {},
     "output_type": "execute_result"
    }
   ],
   "source": [
    "corpus_path = config.data_directory + 'corpus_10days/news/2016-10-20_article_all_normed_nountokenized.txt'\n",
    "corpus = DoublespaceLineCorpus(corpus_path, iter_sent=True)\n",
    "\n",
    "x, idx2vocab = sent_to_word_contexts_matrix(\n",
    "    corpus,\n",
    "    windows=3,\n",
    "    min_tf=10,\n",
    "    tokenizer=lambda x:x.split(), # (default) lambda x:x.split(),\n",
    "    dynamic_weight=True,\n",
    "    verbose=True)\n",
    "\n",
    "x.shape"
   ]
  },
  {
   "cell_type": "code",
   "execution_count": 45,
   "metadata": {},
   "outputs": [
    {
     "name": "stdout",
     "output_type": "stream",
     "text": [
      "Performing 5 training epochs with 4 threads\n",
      "Epoch 0\n",
      "Epoch 1\n",
      "Epoch 2\n",
      "Epoch 3\n",
      "Epoch 4\n",
      "CPU times: user 1min 43s, sys: 8 ms, total: 1min 43s\n",
      "Wall time: 26.4 s\n"
     ]
    }
   ],
   "source": [
    "%%time\n",
    "from glove import Glove\n",
    "\n",
    "glove = Glove(no_components=100, learning_rate=0.05, max_count=30)\n",
    "glove.fit(x.tocoo(), epochs=5, no_threads=4, verbose=True)"
   ]
  },
  {
   "cell_type": "code",
   "execution_count": 46,
   "metadata": {},
   "outputs": [
    {
     "name": "stdout",
     "output_type": "stream",
     "text": [
      "\n",
      "아이오아이\n",
      " - 신용재 (0.788213)\n",
      " - 완전체 (0.783201)\n",
      " - 너무너무너무 (0.746413)\n",
      " - 성진환 (0.661771)\n",
      " - 에이핑크 (0.653405)\n",
      " - 정채연 (0.651380)\n",
      " - 공포증 (0.614557)\n",
      " - 몬스타엑스 (0.600836)\n",
      " - 김규 (0.600183)\n",
      "\n",
      "아프리카\n",
      " - 밴쯔 (0.764979)\n",
      " - 동남아시아 (0.627443)\n",
      " - 댈러스 (0.618848)\n",
      " - 중동 (0.611323)\n",
      " - 뉴욕증시 (0.582824)\n",
      " - 자원봉사단 (0.582330)\n",
      " - 매체들 (0.574021)\n",
      " - 비상식량 (0.561443)\n",
      " - 현장경영 (0.558286)\n",
      "\n",
      "밴쯔\n",
      " - 대도서관 (0.814754)\n",
      " - 아프리카 (0.764979)\n",
      " - 주간아이돌 (0.716317)\n",
      " - 관료 (0.699244)\n",
      " - 남미 (0.697823)\n",
      " - 바이어 (0.693456)\n",
      " - 중남미 (0.689812)\n",
      " - 이천시 (0.677001)\n",
      " - 캄보디아 (0.674063)\n",
      "\n",
      "박근혜\n",
      " - 역적패당 (0.873995)\n",
      " - 대통령 (0.788461)\n",
      " - 2002년 (0.731508)\n",
      " - 취임식 (0.728809)\n",
      " - 비선 (0.717803)\n",
      " - 방북 (0.712427)\n",
      " - 핵심사업 (0.703182)\n",
      " - 노무현 (0.703076)\n",
      " - 전진 (0.686775)\n",
      "\n",
      "뉴스\n",
      " - 미란다 (0.896527)\n",
      " - 여러분 (0.883907)\n",
      " - 마이데일리 (0.858831)\n",
      " - 제보 (0.835693)\n",
      " - 리얼 (0.820783)\n",
      " - 취재원과 (0.818968)\n",
      " - 공감 (0.812822)\n",
      " - 721 (0.811476)\n",
      " - 1105 (0.800457)\n",
      "\n",
      "날씨\n",
      " - 쌀쌀 (0.841931)\n",
      " - 추운 (0.828799)\n",
      " - 강원영동 (0.633724)\n",
      " - 아침 (0.627951)\n",
      " - 대체 (0.618444)\n",
      " - 선선 (0.617151)\n",
      " - 새벽 (0.601603)\n",
      " - 완연 (0.594135)\n",
      " - 가을 (0.585142)\n",
      "\n",
      "이화여대\n",
      " - 최경희 (0.839193)\n",
      " - 이대 (0.833560)\n",
      " - 경북대 (0.784429)\n",
      " - 교수들 (0.770273)\n",
      " - 총장 (0.763659)\n",
      " - 교수협의회 (0.749605)\n",
      " - 입학 (0.746445)\n",
      " - 특혜 (0.736045)\n",
      " - 사퇴 (0.730386)\n",
      "\n",
      "아프리카발톱개구리\n",
      " - 유전체 (0.880671)\n",
      " - 해독 (0.815927)\n",
      " - 서양발톱개구리 (0.812986)\n",
      " - 개구리 (0.721810)\n",
      " - 1700 (0.706803)\n",
      " - 4배체 (0.680280)\n",
      " - 늑골 (0.647205)\n",
      " - 체외수정 (0.639412)\n",
      " - 경품행사 (0.635621)\n"
     ]
    }
   ],
   "source": [
    "dictionary = {vocab:idx for idx, vocab in enumerate(idx2vocab)}\n",
    "glove.add_dictionary(dictionary)\n",
    "\n",
    "words = '아이오아이 아프리카 밴쯔 박근혜 뉴스 날씨 이화여대 아프리카발톱개구리'.split()\n",
    "for word in words:\n",
    "    print('\\n{}'.format(word))\n",
    "    similars = glove.most_similar(word, number=10)\n",
    "    for sim_word, sim in similars:\n",
    "        print(' - {} ({:f})'.format(sim_word, sim))"
   ]
  },
  {
   "cell_type": "code",
   "execution_count": 47,
   "metadata": {},
   "outputs": [
    {
     "name": "stdout",
     "output_type": "stream",
     "text": [
      "<class 'numpy.ndarray'>\n",
      "(24907,)\n"
     ]
    }
   ],
   "source": [
    "import numpy as np\n",
    "\n",
    "vocab_frequency = np.asarray(x.sum(axis=0)).reshape(-1)\n",
    "print(type(vocab_frequency))\n",
    "print(vocab_frequency.shape)"
   ]
  },
  {
   "cell_type": "code",
   "execution_count": 48,
   "metadata": {},
   "outputs": [
    {
     "name": "stdout",
     "output_type": "stream",
     "text": [
      "correlation of 0 ~ 200 frequent words = 0.540041\n",
      "correlation of 200 ~ 400 frequent words = 0.026582\n",
      "correlation of 400 ~ 600 frequent words = 0.107916\n",
      "correlation of 600 ~ 800 frequent words = 0.078556\n",
      "correlation of 800 ~ 1000 frequent words = -0.015475\n",
      "correlation of 1000 ~ 1200 frequent words = 0.110209\n",
      "correlation of 1200 ~ 1400 frequent words = 0.151474\n",
      "correlation of 1400 ~ 1600 frequent words = 0.095489\n",
      "correlation of 1600 ~ 1800 frequent words = -0.063102\n",
      "correlation of 1800 ~ 2000 frequent words = 0.084501\n",
      "correlation of 2000 ~ 2200 frequent words = 0.055400\n",
      "correlation of 2200 ~ 2400 frequent words = 0.084159\n",
      "correlation of 2400 ~ 2600 frequent words = 0.007878\n",
      "correlation of 2600 ~ 2800 frequent words = -0.006996\n",
      "correlation of 2800 ~ 3000 frequent words = 0.124360\n",
      "correlation of 3000 ~ 3200 frequent words = -0.019789\n",
      "correlation of 3200 ~ 3400 frequent words = 0.053977\n",
      "correlation of 3400 ~ 3600 frequent words = -0.050349\n",
      "correlation of 3600 ~ 3800 frequent words = 0.189509\n",
      "correlation of 3800 ~ 4000 frequent words = -0.012976\n"
     ]
    }
   ],
   "source": [
    "bin_size = 200\n",
    "num_bin = 20\n",
    "\n",
    "for i in range(num_bin):\n",
    "    b = i * bin_size\n",
    "    e = (i + 1) * bin_size\n",
    "    indices = vocab_frequency.argsort()[::-1][b:e]\n",
    "    corr, p_value = sp.stats.pearsonr(\n",
    "        glove.word_biases[indices],\n",
    "        np.log(vocab_frequency[indices])\n",
    "    )\n",
    "    print('correlation of {} ~ {} frequent words = {:f}'.format(\n",
    "        b, e, corr))"
   ]
  },
  {
   "cell_type": "code",
   "execution_count": null,
   "metadata": {
    "collapsed": true
   },
   "outputs": [],
   "source": []
  }
 ],
 "metadata": {
  "kernelspec": {
   "display_name": "Python 3",
   "language": "python",
   "name": "python3"
  },
  "language_info": {
   "codemirror_mode": {
    "name": "ipython",
    "version": 3
   },
   "file_extension": ".py",
   "mimetype": "text/x-python",
   "name": "python",
   "nbconvert_exporter": "python",
   "pygments_lexer": "ipython3",
   "version": "3.6.2"
  }
 },
 "nbformat": 4,
 "nbformat_minor": 2
}
