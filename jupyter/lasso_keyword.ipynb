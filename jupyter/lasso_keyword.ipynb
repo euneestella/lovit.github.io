{
 "cells": [
  {
   "cell_type": "code",
   "execution_count": 1,
   "metadata": {},
   "outputs": [
    {
     "name": "stdout",
     "output_type": "stream",
     "text": [
      "dict_keys(['x', 'word2index', 'index2word'])\n"
     ]
    }
   ],
   "source": [
    "import pickle\n",
    "with open('/mnt/lovit/works/fastcampus_text_deeplearning/5th/data/corpus_10days/models/params_keywords', 'rb') as f:\n",
    "    params = pickle.load(f)\n",
    "print(params.keys())"
   ]
  },
  {
   "cell_type": "code",
   "execution_count": 2,
   "metadata": {
    "collapsed": true
   },
   "outputs": [],
   "source": [
    "X = params['x']\n",
    "idx2vocab = params['index2word']\n",
    "vocab2idx = params['word2index']"
   ]
  },
  {
   "cell_type": "code",
   "execution_count": 4,
   "metadata": {},
   "outputs": [
    {
     "name": "stdout",
     "output_type": "stream",
     "text": [
      "(30091, 9774)\n",
      "5537\n"
     ]
    }
   ],
   "source": [
    "print(X.shape) # (30091, 9774)\n",
    "print(vocab2idx['아이오아이']) # 5537"
   ]
  },
  {
   "cell_type": "code",
   "execution_count": 6,
   "metadata": {
    "collapsed": true
   },
   "outputs": [],
   "source": [
    "csr_matrix?"
   ]
  },
  {
   "cell_type": "code",
   "execution_count": 7,
   "metadata": {
    "collapsed": true
   },
   "outputs": [],
   "source": [
    "from scipy.sparse import csr_matrix\n",
    "\n",
    "rows, cols = X.nonzero()\n",
    "data = X.data\n",
    "\n",
    "# Create X_. tf matrix that dosen't have term '아이오아이'\n",
    "rows_, cols_, data_ = [], [], []\n",
    "for r, c, d in zip(rows, cols, data):\n",
    "    if c == 5537:\n",
    "        continue\n",
    "    rows_.append(r)\n",
    "    cols_.append(c)\n",
    "    data_.append(d)\n",
    "X_ = csr_matrix((data_, (rows_, cols_)))\n",
    "\n",
    "# Create Y. 1 if a doc has '아이오아이' term else 0\n",
    "pos_set = set(X[:,5537].nonzero()[0]) \n",
    "Y = [1 if r in pos_set else 0 for r in range(X.shape[0])]"
   ]
  },
  {
   "cell_type": "code",
   "execution_count": 10,
   "metadata": {},
   "outputs": [
    {
     "name": "stdout",
     "output_type": "stream",
     "text": [
      "number of positive docs = 97\n",
      "nonzero elements: 1934111 -> 1934014\n"
     ]
    }
   ],
   "source": [
    "print('number of positive docs = {}'.format(len(pos_set)))\n",
    "print('nonzero elements: {} -> {}'.format(X.nnz, X_.nnz))"
   ]
  },
  {
   "cell_type": "code",
   "execution_count": 12,
   "metadata": {},
   "outputs": [
    {
     "data": {
      "text/plain": [
       "LogisticRegression(C=1.0, class_weight=None, dual=False, fit_intercept=True,\n",
       "          intercept_scaling=1, max_iter=100, multi_class='ovr', n_jobs=1,\n",
       "          penalty='l1', random_state=None, solver='liblinear', tol=0.0001,\n",
       "          verbose=0, warm_start=False)"
      ]
     },
     "execution_count": 12,
     "metadata": {},
     "output_type": "execute_result"
    }
   ],
   "source": [
    "from sklearn.linear_model import LogisticRegression\n",
    "\n",
    "logistic = LogisticRegression(penalty='l1')\n",
    "logistic.fit(X_, Y)"
   ]
  },
  {
   "cell_type": "code",
   "execution_count": 14,
   "metadata": {},
   "outputs": [
    {
     "name": "stdout",
     "output_type": "stream",
     "text": [
      "(9774,)\n"
     ]
    }
   ],
   "source": [
    "coef = logistic.coef_.reshape(-1)\n",
    "print(coef.shape)"
   ]
  },
  {
   "cell_type": "code",
   "execution_count": 21,
   "metadata": {},
   "outputs": [
    {
     "name": "stdout",
     "output_type": "stream",
     "text": [
      "너무너무너무 선의 산들 엠카운트다운 챔피언 사나 드림 뮤직 먹고 완전체 일산 세련 같이 뉴스1스타 컴백 소속사 곡으로 보컬 열창 만나게 인사 마무리 박진영 선보 무대 수출 서울신문 활동 다이아 유정 인기 매력 등장 카메라 개인 고양시 비타민 수준 멤버들 걸그룹 한편 1위 예능 순위 세븐 발매 야구 불독 다비치 파워풀 이날 걸크러쉬 신용재 화려 프로듀스101 반전 일간스포츠 프로그램 스마트폰 트와이스 키미 일산동구 프로듀스 기자 "
     ]
    }
   ],
   "source": [
    "for vocab_idx, w in sorted(enumerate(coef), key=lambda x:-x[1])[:100]:\n",
    "    if w <= 0:\n",
    "        break\n",
    "    print(idx2vocab[vocab_idx], end=' ')"
   ]
  },
  {
   "cell_type": "markdown",
   "metadata": {
    "collapsed": true
   },
   "source": [
    "## regression regularization"
   ]
  },
  {
   "cell_type": "code",
   "execution_count": 40,
   "metadata": {},
   "outputs": [
    {
     "data": {
      "text/plain": [
       "array([[  0.  ],\n",
       "       [  1.  ],\n",
       "       [  1.21],\n",
       "       [  9.  ],\n",
       "       [ 30.25],\n",
       "       [ 32.49],\n",
       "       [ 49.  ],\n",
       "       [ 81.  ]])"
      ]
     },
     "execution_count": 40,
     "metadata": {},
     "output_type": "execute_result"
    }
   ],
   "source": [
    "X**2"
   ]
  },
  {
   "cell_type": "code",
   "execution_count": 44,
   "metadata": {
    "collapsed": true
   },
   "outputs": [],
   "source": [
    "import numpy as np\n",
    "Y = np.asarray([1, 2, 3, 2.2, 4, 4.5, 3.2, 6]).reshape(-1,1)\n",
    "X = np.asarray([0, 1, 1.1, 3, 5.5, 5.7, 7, 9]).reshape(-1,1)\n",
    "X_ = np.concatenate((X ** 2, X ** 3, np.sqrt(X)), axis=1)"
   ]
  },
  {
   "cell_type": "code",
   "execution_count": 45,
   "metadata": {},
   "outputs": [
    {
     "data": {
      "text/plain": [
       "(8, 3)"
      ]
     },
     "execution_count": 45,
     "metadata": {},
     "output_type": "execute_result"
    }
   ],
   "source": [
    "X_.shape"
   ]
  },
  {
   "cell_type": "code",
   "execution_count": 46,
   "metadata": {},
   "outputs": [
    {
     "data": {
      "text/plain": [
       "Ridge(alpha=0.0, copy_X=True, fit_intercept=False, max_iter=None,\n",
       "   normalize=False, random_state=None, solver='auto', tol=0.001)"
      ]
     },
     "execution_count": 46,
     "metadata": {},
     "output_type": "execute_result"
    }
   ],
   "source": [
    "from sklearn.linear_model import Ridge\n",
    "\n",
    "regression = Ridge(alpha=0.0, fit_intercept=False)\n",
    "regression.fit(X_, Y)"
   ]
  },
  {
   "cell_type": "code",
   "execution_count": 48,
   "metadata": {},
   "outputs": [
    {
     "data": {
      "text/plain": [
       "array([[ 0.        ],\n",
       "       [ 2.18007342],\n",
       "       [ 2.26875011],\n",
       "       [ 3.14427867],\n",
       "       [ 3.58327988],\n",
       "       [ 3.6332599 ],\n",
       "       [ 4.13477447],\n",
       "       [ 5.84158582]])"
      ]
     },
     "execution_count": 48,
     "metadata": {},
     "output_type": "execute_result"
    }
   ],
   "source": [
    "regression.predict(X_)"
   ]
  },
  {
   "cell_type": "code",
   "execution_count": 49,
   "metadata": {},
   "outputs": [
    {
     "data": {
      "text/plain": [
       "array([[-0.13340119,  0.01337005,  2.30010455]])"
      ]
     },
     "execution_count": 49,
     "metadata": {},
     "output_type": "execute_result"
    }
   ],
   "source": [
    "regression.coef_"
   ]
  },
  {
   "cell_type": "code",
   "execution_count": null,
   "metadata": {
    "collapsed": true
   },
   "outputs": [],
   "source": []
  }
 ],
 "metadata": {
  "kernelspec": {
   "display_name": "Python 3",
   "language": "python",
   "name": "python3"
  },
  "language_info": {
   "codemirror_mode": {
    "name": "ipython",
    "version": 3
   },
   "file_extension": ".py",
   "mimetype": "text/x-python",
   "name": "python",
   "nbconvert_exporter": "python",
   "pygments_lexer": "ipython3",
   "version": "3.6.1"
  }
 },
 "nbformat": 4,
 "nbformat_minor": 2
}
