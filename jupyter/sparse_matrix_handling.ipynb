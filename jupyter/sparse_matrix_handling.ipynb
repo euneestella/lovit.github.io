{
 "cells": [
  {
   "cell_type": "markdown",
   "metadata": {},
   "source": [
    "[[1, 0, 0, 0, 2],\n",
    " [0, 3, 0, 4, 0],\n",
    " [0, 0, 0, 0, 0]\n",
    " [5, 0, 0, 6, 0]]"
   ]
  },
  {
   "cell_type": "code",
   "execution_count": 3,
   "metadata": {},
   "outputs": [
    {
     "name": "stdout",
     "output_type": "stream",
     "text": [
      "[[1 0 0 0 2]\n",
      " [0 3 0 4 0]\n",
      " [0 0 0 0 0]\n",
      " [5 0 0 6 0]]\n"
     ]
    }
   ],
   "source": [
    "import numpy as np\n",
    "\n",
    "x = [[1, 0, 0, 0, 2],\n",
    "     [0, 3, 0, 4, 0],\n",
    "     [0, 0, 0, 0, 0],\n",
    "     [5, 0, 0, 6, 0]]\n",
    "x = np.asarray(x)\n",
    "print(x)"
   ]
  },
  {
   "cell_type": "code",
   "execution_count": 16,
   "metadata": {
    "collapsed": true
   },
   "outputs": [],
   "source": [
    "rows = [0, 0, 1, 1, 3, 3]\n",
    "cols = [0, 4, 1, 3, 0, 3]\n",
    "data = [1, 2, 3, 4, 5, 6]"
   ]
  },
  {
   "cell_type": "code",
   "execution_count": 19,
   "metadata": {},
   "outputs": [
    {
     "data": {
      "text/plain": [
       "matrix([[1, 0, 0, 0, 2],\n",
       "        [0, 3, 0, 4, 0],\n",
       "        [0, 0, 0, 0, 0],\n",
       "        [5, 0, 0, 6, 0]], dtype=int64)"
      ]
     },
     "execution_count": 19,
     "metadata": {},
     "output_type": "execute_result"
    }
   ],
   "source": [
    "csr_matrix((data, (rows, cols))).todense()"
   ]
  },
  {
   "cell_type": "code",
   "execution_count": null,
   "metadata": {
    "collapsed": true
   },
   "outputs": [],
   "source": []
  },
  {
   "cell_type": "markdown",
   "metadata": {},
   "source": [
    "## dok matrix"
   ]
  },
  {
   "cell_type": "code",
   "execution_count": 5,
   "metadata": {
    "collapsed": true
   },
   "outputs": [],
   "source": [
    "from scipy.sparse import csr_matrix\n",
    "from scipy.sparse import coo_matrix\n",
    "from scipy.sparse import csc_matrix\n",
    "from scipy.sparse import dok_matrix\n",
    "\n",
    "dok = dok_matrix(x)"
   ]
  },
  {
   "cell_type": "code",
   "execution_count": 8,
   "metadata": {},
   "outputs": [
    {
     "data": {
      "text/plain": [
       "dict_keys([(0, 0), (0, 4), (1, 1), (1, 3), (3, 0), (3, 3)])"
      ]
     },
     "execution_count": 8,
     "metadata": {},
     "output_type": "execute_result"
    }
   ],
   "source": [
    "dok.keys()"
   ]
  },
  {
   "cell_type": "code",
   "execution_count": 9,
   "metadata": {},
   "outputs": [
    {
     "data": {
      "text/plain": [
       "dict_values([1, 2, 3, 4, 5, 6])"
      ]
     },
     "execution_count": 9,
     "metadata": {},
     "output_type": "execute_result"
    }
   ],
   "source": [
    "dok.values()"
   ]
  },
  {
   "cell_type": "code",
   "execution_count": 10,
   "metadata": {},
   "outputs": [
    {
     "name": "stdout",
     "output_type": "stream",
     "text": [
      "(0, 0) = 1\n",
      "(0, 4) = 2\n",
      "(1, 1) = 3\n",
      "(1, 3) = 4\n",
      "(3, 0) = 5\n",
      "(3, 3) = 6\n"
     ]
    }
   ],
   "source": [
    "for key, value in dok.items():\n",
    "    print('{} = {}'.format(key, value))"
   ]
  },
  {
   "cell_type": "code",
   "execution_count": 11,
   "metadata": {},
   "outputs": [
    {
     "data": {
      "text/plain": [
       "6"
      ]
     },
     "execution_count": 11,
     "metadata": {},
     "output_type": "execute_result"
    }
   ],
   "source": [
    "dok.nnz"
   ]
  },
  {
   "cell_type": "code",
   "execution_count": 13,
   "metadata": {},
   "outputs": [
    {
     "name": "stdout",
     "output_type": "stream",
     "text": [
      "0\n",
      "2\n"
     ]
    }
   ],
   "source": [
    "print(dok[0,3])\n",
    "print(dok[0,4])"
   ]
  },
  {
   "cell_type": "markdown",
   "metadata": {},
   "source": [
    "## coo matrix"
   ]
  },
  {
   "cell_type": "code",
   "execution_count": 14,
   "metadata": {
    "collapsed": true
   },
   "outputs": [],
   "source": [
    "coo = coo_matrix(x)"
   ]
  },
  {
   "cell_type": "markdown",
   "metadata": {},
   "source": [
    "(row, column, value) list \n",
    "\n",
    "연산 불가. 저장 및 확인"
   ]
  },
  {
   "cell_type": "markdown",
   "metadata": {},
   "source": [
    "### csr matrix\n",
    "\n",
    "compressed sparse row (CSR) "
   ]
  },
  {
   "cell_type": "code",
   "execution_count": 49,
   "metadata": {
    "collapsed": true
   },
   "outputs": [],
   "source": [
    "csr = csr_matrix(x)"
   ]
  },
  {
   "cell_type": "code",
   "execution_count": 50,
   "metadata": {},
   "outputs": [
    {
     "name": "stdout",
     "output_type": "stream",
     "text": [
      "[0 4 1 3 0 3]\n"
     ]
    }
   ],
   "source": [
    "print(csr.indices)"
   ]
  },
  {
   "cell_type": "code",
   "execution_count": 51,
   "metadata": {},
   "outputs": [
    {
     "name": "stdout",
     "output_type": "stream",
     "text": [
      "[0 2 4 4 6]\n"
     ]
    }
   ],
   "source": [
    "print(csr.indptr) # [0 2 4 4 6]"
   ]
  },
  {
   "cell_type": "code",
   "execution_count": 52,
   "metadata": {},
   "outputs": [
    {
     "data": {
      "text/plain": [
       "5"
      ]
     },
     "execution_count": 52,
     "metadata": {},
     "output_type": "execute_result"
    }
   ],
   "source": [
    "len(csr.indptr) # num of rows + 1"
   ]
  },
  {
   "cell_type": "code",
   "execution_count": 53,
   "metadata": {},
   "outputs": [
    {
     "name": "stdout",
     "output_type": "stream",
     "text": [
      "[1 2 3 4 5 6]\n"
     ]
    }
   ],
   "source": [
    "print(csr.data) # [1 2 3 4 5 6]"
   ]
  },
  {
   "cell_type": "code",
   "execution_count": 26,
   "metadata": {},
   "outputs": [
    {
     "name": "stdout",
     "output_type": "stream",
     "text": [
      "[0 0 1 1 3 3]\n",
      "[0 4 1 3 0 3]\n"
     ]
    }
   ],
   "source": [
    "csr_rows, csr_cols = csr.nonzero()\n",
    "print(csr_rows) # array([0, 0, 1, 1, 3, 3], dtype=int32)\n",
    "print(csr_cols) # array([0, 4, 1, 3, 0, 3], dtype=int32)"
   ]
  },
  {
   "cell_type": "code",
   "execution_count": 27,
   "metadata": {},
   "outputs": [
    {
     "name": "stdout",
     "output_type": "stream",
     "text": [
      "(0, 0) = 1\n",
      "(0, 4) = 2\n",
      "(1, 1) = 3\n",
      "(1, 3) = 4\n",
      "(3, 0) = 5\n",
      "(3, 3) = 6\n"
     ]
    }
   ],
   "source": [
    "for i, (b, e) in enumerate(zip(csr.indptr, csr.indptr[1:])):\n",
    "    for idx in range(b, e):\n",
    "        j = csr.indices[idx]\n",
    "        d = csr.data[idx]\n",
    "        print('({}, {}) = {}'.format(i, j, d))"
   ]
  },
  {
   "cell_type": "markdown",
   "metadata": {},
   "source": [
    "## csc matrix\n",
    "\n",
    "compressed sparse column (CSC) "
   ]
  },
  {
   "cell_type": "code",
   "execution_count": 28,
   "metadata": {
    "collapsed": true
   },
   "outputs": [],
   "source": [
    "csc = csc_matrix(x)"
   ]
  },
  {
   "cell_type": "code",
   "execution_count": 33,
   "metadata": {},
   "outputs": [
    {
     "data": {
      "text/plain": [
       "6"
      ]
     },
     "execution_count": 33,
     "metadata": {},
     "output_type": "execute_result"
    }
   ],
   "source": [
    "len(csc.indptr) # num of columns + 1"
   ]
  },
  {
   "cell_type": "code",
   "execution_count": 29,
   "metadata": {},
   "outputs": [
    {
     "name": "stdout",
     "output_type": "stream",
     "text": [
      "[0 3 1 1 3 0]\n",
      "[0 2 3 3 5 6]\n",
      "[1 5 3 4 6 2]\n"
     ]
    }
   ],
   "source": [
    "print(csc.indices) # [0 3 1 1 3 0]\n",
    "print(csc.indptr)\n",
    "print(csc.data)"
   ]
  },
  {
   "cell_type": "code",
   "execution_count": 30,
   "metadata": {},
   "outputs": [
    {
     "name": "stdout",
     "output_type": "stream",
     "text": [
      "(0, 0) = 1\n",
      "(3, 0) = 5\n",
      "(1, 1) = 3\n",
      "(1, 3) = 4\n",
      "(3, 3) = 6\n",
      "(0, 4) = 2\n"
     ]
    }
   ],
   "source": [
    "for j, (b, e) in enumerate(zip(csc.indptr, csc.indptr[1:])):\n",
    "    for idx in range(b, e):\n",
    "        i = csc.indices[idx]\n",
    "        d = csc.data[idx]\n",
    "        print('({}, {}) = {}'.format(i, j, d))"
   ]
  },
  {
   "cell_type": "markdown",
   "metadata": {},
   "source": [
    "## IO"
   ]
  },
  {
   "cell_type": "code",
   "execution_count": 42,
   "metadata": {
    "collapsed": true
   },
   "outputs": [],
   "source": [
    "from scipy.io import mmwrite\n",
    "from scipy.io import mmread"
   ]
  },
  {
   "cell_type": "code",
   "execution_count": 44,
   "metadata": {
    "collapsed": true
   },
   "outputs": [],
   "source": [
    "mmwrite('csr.mtx', csr)"
   ]
  },
  {
   "cell_type": "code",
   "execution_count": 57,
   "metadata": {},
   "outputs": [
    {
     "data": {
      "text/plain": [
       "matrix([[0, 0, 0, 0, 0, 0],\n",
       "        [0, 1, 0, 0, 0, 2],\n",
       "        [0, 0, 3, 0, 4, 0],\n",
       "        [0, 0, 0, 0, 0, 0],\n",
       "        [0, 5, 0, 0, 6, 0]])"
      ]
     },
     "execution_count": 57,
     "metadata": {},
     "output_type": "execute_result"
    }
   ],
   "source": [
    "from scipy.sparse import csr_matrix\n",
    "\n",
    "def my_read(path):\n",
    "    with open(path) as f:\n",
    "        # skip head\n",
    "        for _ in range(3):\n",
    "            next(f)\n",
    "        rows = []\n",
    "        cols = []\n",
    "        data = []\n",
    "        for line in f:\n",
    "            elements = line.split()\n",
    "            i = int(elements[0])\n",
    "            j = int(elements[1])\n",
    "            d = float(elements[2])\n",
    "            rows.append(i)\n",
    "            cols.append(j)\n",
    "            data.append(d)\n",
    "    return csr_matrix((data, (rows, cols)), dtype=np.int)\n",
    "\n",
    "my_read('csr.mtx').todense()"
   ]
  },
  {
   "cell_type": "code",
   "execution_count": 45,
   "metadata": {},
   "outputs": [
    {
     "name": "stdout",
     "output_type": "stream",
     "text": [
      "%%MatrixMarket matrix coordinate integer general\n",
      "%\n",
      "4 5 6\n",
      "1 1 1\n",
      "1 5 2\n"
     ]
    }
   ],
   "source": [
    "with open('csr.mtx') as f:\n",
    "    for _ in range(5):\n",
    "        print(next(f).strip())"
   ]
  },
  {
   "cell_type": "code",
   "execution_count": 46,
   "metadata": {},
   "outputs": [
    {
     "name": "stdout",
     "output_type": "stream",
     "text": [
      "<class 'scipy.sparse.coo.coo_matrix'>\n"
     ]
    }
   ],
   "source": [
    "loaded = mmread('csr.mtx')\n",
    "print(type(loaded))"
   ]
  },
  {
   "cell_type": "code",
   "execution_count": 47,
   "metadata": {},
   "outputs": [
    {
     "name": "stdout",
     "output_type": "stream",
     "text": [
      "<class 'scipy.sparse.csr.csr_matrix'>\n"
     ]
    }
   ],
   "source": [
    "loaded = mmread('csr.mtx').tocsr()\n",
    "print(type(loaded))"
   ]
  },
  {
   "cell_type": "markdown",
   "metadata": {},
   "source": [
    "## Avoid for slicing\n",
    "\n",
    "class csr_matrix():\n",
    "    # ...\n",
    "\n",
    "    def _get_submatrix(self, row_slice, col_slice):\n",
    "        \"\"\"Return a submatrix of this matrix (new matrix is created).\"\"\"\n",
    "\n",
    "        def process_slice(sl, num):\n",
    "            # ...\n",
    "            return i0, i1\n",
    "\n",
    "        M,N = self.shape\n",
    "        i0, i1 = process_slice(row_slice, M)\n",
    "        j0, j1 = process_slice(col_slice, N)\n",
    "\n",
    "        indptr, indices, data = get_csr_submatrix(\n",
    "            M, N, self.indptr, self.indices, self.data, i0, i1, j0, j1)\n",
    "\n",
    "        shape = (i1 - i0, j1 - j0)\n",
    "        return self.__class__((data, indices, indptr), shape=shape,\n",
    "                              dtype=self.dtype, copy=False)"
   ]
  },
  {
   "cell_type": "code",
   "execution_count": 58,
   "metadata": {
    "collapsed": true
   },
   "outputs": [],
   "source": [
    "for i in range(csr.shape[0]):\n",
    "    row = csr[i,:]\n",
    "    # ...\n",
    "    "
   ]
  },
  {
   "cell_type": "code",
   "execution_count": 41,
   "metadata": {
    "collapsed": true
   },
   "outputs": [],
   "source": [
    "from sklearn.metrics import pairwise_distances\n",
    "from sklearn.metrics import pairwise_distances_argmin"
   ]
  },
  {
   "cell_type": "markdown",
   "metadata": {},
   "source": [
    "pairwise_distances(X, Y=None, metric='euclidean')\n",
    "\n",
    "- cityblock : manhattan_distances\n",
    "- cosine : 1 - cosine similarity\n",
    "- euclidean : L2 "
   ]
  },
  {
   "cell_type": "code",
   "execution_count": 34,
   "metadata": {
    "collapsed": true
   },
   "outputs": [],
   "source": [
    "import numpy as np\n",
    "np.dot?"
   ]
  },
  {
   "cell_type": "code",
   "execution_count": 59,
   "metadata": {
    "collapsed": true
   },
   "outputs": [],
   "source": [
    "csr_zero = csr.copy()"
   ]
  },
  {
   "cell_type": "code",
   "execution_count": 60,
   "metadata": {},
   "outputs": [
    {
     "name": "stderr",
     "output_type": "stream",
     "text": [
      "/home/lovit/anaconda2/envs/scrapper/lib/python3.6/site-packages/scipy/sparse/compressed.py:774: SparseEfficiencyWarning: Changing the sparsity structure of a csr_matrix is expensive. lil_matrix is more efficient.\n",
      "  SparseEfficiencyWarning)\n"
     ]
    }
   ],
   "source": [
    "csr_zero[:,3] = 0"
   ]
  },
  {
   "cell_type": "code",
   "execution_count": 61,
   "metadata": {},
   "outputs": [
    {
     "data": {
      "text/plain": [
       "8"
      ]
     },
     "execution_count": 61,
     "metadata": {},
     "output_type": "execute_result"
    }
   ],
   "source": [
    "len(csr_zero.data)"
   ]
  },
  {
   "cell_type": "code",
   "execution_count": 66,
   "metadata": {},
   "outputs": [
    {
     "data": {
      "text/plain": [
       "array([1, 2, 3, 4, 5, 6], dtype=int64)"
      ]
     },
     "execution_count": 66,
     "metadata": {},
     "output_type": "execute_result"
    }
   ],
   "source": [
    "csr.data"
   ]
  },
  {
   "cell_type": "code",
   "execution_count": 62,
   "metadata": {},
   "outputs": [
    {
     "data": {
      "text/plain": [
       "array([1, 0, 2, 3, 0, 0, 5, 0], dtype=int64)"
      ]
     },
     "execution_count": 62,
     "metadata": {},
     "output_type": "execute_result"
    }
   ],
   "source": [
    "csr_zero.data"
   ]
  },
  {
   "cell_type": "code",
   "execution_count": 63,
   "metadata": {
    "collapsed": true
   },
   "outputs": [],
   "source": [
    "rows, cols = csr_zero.nonzero()"
   ]
  },
  {
   "cell_type": "code",
   "execution_count": 64,
   "metadata": {},
   "outputs": [
    {
     "data": {
      "text/plain": [
       "array([0, 4, 1, 0], dtype=int32)"
      ]
     },
     "execution_count": 64,
     "metadata": {},
     "output_type": "execute_result"
    }
   ],
   "source": [
    "cols"
   ]
  },
  {
   "cell_type": "code",
   "execution_count": 65,
   "metadata": {},
   "outputs": [
    {
     "data": {
      "text/plain": [
       "array([0, 0, 1, 3], dtype=int32)"
      ]
     },
     "execution_count": 65,
     "metadata": {},
     "output_type": "execute_result"
    }
   ],
   "source": [
    "rows"
   ]
  },
  {
   "cell_type": "code",
   "execution_count": 70,
   "metadata": {},
   "outputs": [
    {
     "name": "stdout",
     "output_type": "stream",
     "text": [
      "(6,)\n",
      "(6,)\n",
      "(6,)\n"
     ]
    }
   ],
   "source": [
    "def remove_column(x, idx):\n",
    "    rows, cols = x.nonzero()\n",
    "    data = x.data\n",
    "    \n",
    "    rows_, cols_, data_ = [], [], []\n",
    "    for r, c, d in zip(rows, cols, data):\n",
    "        if c == idx:\n",
    "            continue\n",
    "        rows_.append(r)\n",
    "        cols_.append(c)\n",
    "        data_.append(d)\n",
    "    return x.__class__((data_, (rows_, cols_)), shape=x.shape)\n",
    "\n",
    "def remove_column_2(x_csr, idx):\n",
    "    indices = x_csr.indices\n",
    "    indptr = x_csr.indptr\n",
    "    data = x_csr.data\n",
    "    \n",
    "    indices_, indptr_, data_ = [], [], []\n",
    "    n_skips = 0\n",
    "    for b, e in zip(indptr, indptr[1:]):\n",
    "        for idx in range(b, e):\n",
    "            j = indices[idx]\n",
    "            if j == idx:\n",
    "                n_skips += 1\n",
    "                \n",
    "    \n",
    "    \n",
    "    \n",
    "\n",
    "csr_remove = remove_column(csr, 3)"
   ]
  },
  {
   "cell_type": "code",
   "execution_count": 71,
   "metadata": {},
   "outputs": [
    {
     "data": {
      "text/plain": [
       "4"
      ]
     },
     "execution_count": 71,
     "metadata": {},
     "output_type": "execute_result"
    }
   ],
   "source": [
    "csr_remove.nnz"
   ]
  },
  {
   "cell_type": "code",
   "execution_count": null,
   "metadata": {
    "collapsed": true
   },
   "outputs": [],
   "source": []
  }
 ],
 "metadata": {
  "kernelspec": {
   "display_name": "Python 3",
   "language": "python",
   "name": "python3"
  },
  "language_info": {
   "codemirror_mode": {
    "name": "ipython",
    "version": 3
   },
   "file_extension": ".py",
   "mimetype": "text/x-python",
   "name": "python",
   "nbconvert_exporter": "python",
   "pygments_lexer": "ipython3",
   "version": "3.6.2"
  }
 },
 "nbformat": 4,
 "nbformat_minor": 2
}
