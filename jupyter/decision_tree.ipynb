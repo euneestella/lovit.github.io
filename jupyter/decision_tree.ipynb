{
 "cells": [
  {
   "cell_type": "code",
   "execution_count": 1,
   "metadata": {},
   "outputs": [
    {
     "data": {
      "text/html": [
       "<script>requirejs.config({paths: { 'plotly': ['https://cdn.plot.ly/plotly-latest.min']},});if(!window.Plotly) {{require(['plotly'],function(plotly) {window.Plotly=plotly;});}}</script>"
      ],
      "text/vnd.plotly.v1+html": [
       "<script>requirejs.config({paths: { 'plotly': ['https://cdn.plot.ly/plotly-latest.min']},});if(!window.Plotly) {{require(['plotly'],function(plotly) {window.Plotly=plotly;});}}</script>"
      ]
     },
     "metadata": {},
     "output_type": "display_data"
    }
   ],
   "source": [
    "import sys\n",
    "sys.path.append('/mnt/lovit/git/synthetic_dataset/')\n",
    "import soydata"
   ]
  },
  {
   "cell_type": "code",
   "execution_count": 2,
   "metadata": {
    "collapsed": true
   },
   "outputs": [],
   "source": [
    "from soydata.visualize import ipython_2d_scatter\n",
    "from soydata.data import get_decision_tree_data_1\n",
    "from soydata.data import get_decision_tree_data_2"
   ]
  },
  {
   "cell_type": "code",
   "execution_count": 8,
   "metadata": {
    "collapsed": true
   },
   "outputs": [],
   "source": [
    "X_1, y_1 = get_decision_tree_data_1(n_samples=2000)\n",
    "# ipython_2d_scatter(X_1, y_1, marker_size=5, height=1000, width=1000, title='Synthetic dataset 1')"
   ]
  },
  {
   "cell_type": "code",
   "execution_count": 10,
   "metadata": {
    "collapsed": true
   },
   "outputs": [],
   "source": [
    "X_2, y_2 = get_decision_tree_data_2(n_samples=2000)\n",
    "# ipython_2d_scatter(X_2, y_2, marker_size=5, height=1000, width=1000, title='Synthetic dataset 2')"
   ]
  },
  {
   "cell_type": "code",
   "execution_count": 17,
   "metadata": {
    "scrolled": false
   },
   "outputs": [
    {
     "name": "stdout",
     "output_type": "stream",
     "text": [
      "dept = 6, accuracy = 1.0\n"
     ]
    }
   ],
   "source": [
    "import numpy as np\n",
    "from sklearn.tree import DecisionTreeClassifier\n",
    "\n",
    "# for depth in [1, 2, 3, 5, 10]:\n",
    "for depth in [6]:\n",
    "    dt = DecisionTreeClassifier(max_depth=depth, random_state=42)\n",
    "    dt.fit(X_1, y_1)\n",
    "    y_1_pred = dt.predict(X_1)\n",
    "\n",
    "    error = y_1_pred - y_1\n",
    "    correct = np.zeros(X_1.shape[0]).reshape(-1)\n",
    "    correct[np.where(error == 0)[0]] = 1\n",
    "    \n",
    "    accuracy = correct.sum() / X_1.shape[0]\n",
    "    print('dept = {}, accuracy = {}'.format(depth, accuracy))\n",
    "\n",
    "#     ipython_2d_scatter(X_1, y_1_pred, height=1000, marker_size=5, width=1000, title='Synthetic dataset 1 prediction with\\ndepth = {}, accoracy={}'.format(depth, accuracy))"
   ]
  },
  {
   "cell_type": "code",
   "execution_count": 102,
   "metadata": {
    "scrolled": false
   },
   "outputs": [
    {
     "name": "stdout",
     "output_type": "stream",
     "text": [
      "dept = 4, accuracy = 0.9107676969092722\n",
      "dept = 6, accuracy = 0.9760717846460618\n",
      "dept = 9, accuracy = 0.9990029910269193\n"
     ]
    }
   ],
   "source": [
    "import numpy as np\n",
    "from sklearn.tree import DecisionTreeClassifier\n",
    "\n",
    "for depth in [4, 6, 9]:\n",
    "    dt = DecisionTreeClassifier(max_depth=depth, random_state=42)\n",
    "    dt.fit(X_2, y_2)\n",
    "    y_2_pred = dt.predict(X_2)\n",
    "\n",
    "    error = y_2_pred - y_2\n",
    "    correct = np.zeros(X_2.shape[0]).reshape(-1)\n",
    "    correct[np.where(error == 0)[0]] = 1\n",
    "    \n",
    "    accuracy = correct.sum() / X_2.shape[0]\n",
    "    print('dept = {}, accuracy = {}'.format(depth, accuracy))\n",
    "\n",
    "#     ipython_2d_scatter(X_2, y_2_pred, height=1000, marker_size=5, width=1000, title='Synthetic dataset 2 prediction with\\ndepth = {}, accoracy={}'.format(depth, accuracy))"
   ]
  },
  {
   "cell_type": "code",
   "execution_count": 28,
   "metadata": {
    "collapsed": true
   },
   "outputs": [],
   "source": [
    "# https://stackoverflow.com/questions/20224526/how-to-extract-the-decision-rules-from-scikit-learn-decision-tree?utm_medium=organic&utm_source=google_rich_qa&utm_campaign=google_rich_qa\n",
    "\n",
    "def get_lineage(tree, feature_names):\n",
    "    left      = tree.tree_.children_left\n",
    "    right     = tree.tree_.children_right\n",
    "    threshold = tree.tree_.threshold\n",
    "    features  = [feature_names[i] for i in tree.tree_.feature]\n",
    "    # get ids of child nodes\n",
    "    idx = np.argwhere(left == -1)[:,0]     \n",
    "    def recurse(left, right, child, lineage=None):          \n",
    "        if lineage is None:\n",
    "            lineage = [child]\n",
    "        if child in left:\n",
    "            parent = np.where(left == child)[0].item()\n",
    "            split = 'l'\n",
    "        else:\n",
    "            parent = np.where(right == child)[0].item()\n",
    "            split = 'r'\n",
    "        lineage.append((parent, split, threshold[parent], features[parent]))\n",
    "        if parent == 0:\n",
    "            lineage.reverse()\n",
    "            return lineage\n",
    "        else:\n",
    "            return recurse(left, right, parent, lineage)\n",
    "    for child in idx:\n",
    "        for node in recurse(left, right, child):\n",
    "            print (node)"
   ]
  },
  {
   "cell_type": "code",
   "execution_count": 31,
   "metadata": {
    "collapsed": true
   },
   "outputs": [],
   "source": [
    "# get_lineage(dt, ['x', 'y'])"
   ]
  },
  {
   "cell_type": "code",
   "execution_count": 22,
   "metadata": {
    "collapsed": true
   },
   "outputs": [],
   "source": [
    "left      = dt.tree_.children_left\n",
    "right     = dt.tree_.children_right\n",
    "threshold = dt.tree_.threshold"
   ]
  },
  {
   "cell_type": "code",
   "execution_count": 24,
   "metadata": {},
   "outputs": [
    {
     "data": {
      "text/plain": [
       "(59,)"
      ]
     },
     "execution_count": 24,
     "metadata": {},
     "output_type": "execute_result"
    }
   ],
   "source": [
    "left.shape"
   ]
  },
  {
   "cell_type": "code",
   "execution_count": 25,
   "metadata": {},
   "outputs": [
    {
     "data": {
      "text/plain": [
       "(59,)"
      ]
     },
     "execution_count": 25,
     "metadata": {},
     "output_type": "execute_result"
    }
   ],
   "source": [
    "right.shape"
   ]
  },
  {
   "cell_type": "code",
   "execution_count": 26,
   "metadata": {},
   "outputs": [
    {
     "data": {
      "text/plain": [
       "(59,)"
      ]
     },
     "execution_count": 26,
     "metadata": {},
     "output_type": "execute_result"
    }
   ],
   "source": [
    "threshold.shape"
   ]
  },
  {
   "cell_type": "code",
   "execution_count": 27,
   "metadata": {},
   "outputs": [
    {
     "data": {
      "text/plain": [
       "array([ 1,  2, -1,  4, -1, -1,  7, -1,  9, 10, 11, 12, 13, -1, -1, -1, -1,\n",
       "       18, 19, 20, -1, 22, 23, -1, -1, -1, 27, 28, -1, 30, -1, -1, -1, 34,\n",
       "       35, 36, 37, -1, -1, -1, -1, 42, 43, 44, -1, -1, -1, 48, 49, -1, -1,\n",
       "       52, -1, -1, 55, -1, 57, -1, -1])"
      ]
     },
     "execution_count": 27,
     "metadata": {},
     "output_type": "execute_result"
    }
   ],
   "source": [
    "left"
   ]
  },
  {
   "cell_type": "code",
   "execution_count": 28,
   "metadata": {},
   "outputs": [
    {
     "data": {
      "text/plain": [
       "array([ 6,  3, -1,  5, -1, -1,  8, -1, 54, 17, 16, 15, 14, -1, -1, -1, -1,\n",
       "       33, 26, 21, -1, 25, 24, -1, -1, -1, 32, 29, -1, 31, -1, -1, -1, 41,\n",
       "       40, 39, 38, -1, -1, -1, -1, 47, 46, 45, -1, -1, -1, 51, 50, -1, -1,\n",
       "       53, -1, -1, 56, -1, 58, -1, -1])"
      ]
     },
     "execution_count": 28,
     "metadata": {},
     "output_type": "execute_result"
    }
   ],
   "source": [
    "right"
   ]
  },
  {
   "cell_type": "code",
   "execution_count": 29,
   "metadata": {},
   "outputs": [
    {
     "data": {
      "text/plain": [
       "array([ 4.00539017,  7.00503731, -2.        ,  3.49398017, -2.        ,\n",
       "       -2.        ,  2.00174618, -2.        ,  6.98615742,  4.36656189,\n",
       "        4.98681259,  3.27961016,  4.26769447, -2.        , -2.        ,\n",
       "       -2.        , -2.        ,  4.8539381 ,  7.30683231,  6.99763584,\n",
       "       -2.        ,  4.68205166,  7.00949955, -2.        , -2.        ,\n",
       "       -2.        ,  7.4809618 ,  7.38458014, -2.        ,  4.61641979,\n",
       "       -2.        , -2.        , -2.        ,  5.66478252,  5.6269908 ,\n",
       "        4.47982836,  5.11054134, -2.        , -2.        , -2.        ,\n",
       "       -2.        ,  6.48954964,  5.00303268,  7.36141872, -2.        ,\n",
       "       -2.        , -2.        ,  7.06216717,  6.63848925, -2.        ,\n",
       "       -2.        ,  7.27605534, -2.        , -2.        ,  8.00331211,\n",
       "       -2.        ,  8.01910591, -2.        , -2.        ])"
      ]
     },
     "execution_count": 29,
     "metadata": {},
     "output_type": "execute_result"
    }
   ],
   "source": [
    "threshold"
   ]
  },
  {
   "cell_type": "code",
   "execution_count": 30,
   "metadata": {},
   "outputs": [
    {
     "data": {
      "text/plain": [
       "array([ 1,  0, -2,  1, -2, -2,  0, -2,  1,  0,  1,  0,  1, -2, -2, -2, -2,\n",
       "        1,  0,  0, -2,  1,  0, -2, -2, -2,  0,  0, -2,  1, -2, -2, -2,  0,\n",
       "        1,  0,  1, -2, -2, -2, -2,  1,  1,  0, -2, -2, -2,  0,  0, -2, -2,\n",
       "        0, -2, -2,  0, -2,  1, -2, -2])"
      ]
     },
     "execution_count": 30,
     "metadata": {},
     "output_type": "execute_result"
    }
   ],
   "source": [
    "dt.tree_.feature"
   ]
  },
  {
   "cell_type": "code",
   "execution_count": 49,
   "metadata": {
    "collapsed": true
   },
   "outputs": [],
   "source": [
    "features = ['x{}'.format(feature) if feature >= 0 else None for feature in dt.tree_.feature]"
   ]
  },
  {
   "cell_type": "code",
   "execution_count": 50,
   "metadata": {},
   "outputs": [
    {
     "name": "stdout",
     "output_type": "stream",
     "text": [
      "['x1', 'x0', None, 'x1', None, None, 'x0', None, 'x1', 'x0', 'x1', 'x0', 'x1', None, None, None, None, 'x1', 'x0', 'x0', None, 'x1', 'x0', None, None, None, 'x0', 'x0', None, 'x1', None, None, None, 'x0', 'x1', 'x0', 'x1', None, None, None, None, 'x1', 'x1', 'x0', None, None, None, 'x0', 'x0', None, None, 'x0', None, None, 'x0', None, 'x1', None, None]\n"
     ]
    }
   ],
   "source": [
    "print(features)"
   ]
  },
  {
   "cell_type": "code",
   "execution_count": 103,
   "metadata": {},
   "outputs": [
    {
     "name": "stdout",
     "output_type": "stream",
     "text": [
      "(59, 1, 2)\n"
     ]
    }
   ],
   "source": [
    "print(dt.tree_.value.shape)"
   ]
  },
  {
   "cell_type": "code",
   "execution_count": 35,
   "metadata": {},
   "outputs": [
    {
     "data": {
      "text/plain": [
       "array([[1045.,  961.]])"
      ]
     },
     "execution_count": 35,
     "metadata": {},
     "output_type": "execute_result"
    }
   ],
   "source": [
    "dt.tree_.value[0]"
   ]
  },
  {
   "cell_type": "code",
   "execution_count": 38,
   "metadata": {
    "collapsed": true
   },
   "outputs": [],
   "source": [
    "prob = np.asarray([freq/freq.sum() for freq in dt.tree_.value])"
   ]
  },
  {
   "cell_type": "code",
   "execution_count": 44,
   "metadata": {},
   "outputs": [
    {
     "data": {
      "text/plain": [
       "array([[0.52093719, 0.47906281]])"
      ]
     },
     "execution_count": 44,
     "metadata": {},
     "output_type": "execute_result"
    }
   ],
   "source": [
    "prob[0]"
   ]
  },
  {
   "cell_type": "code",
   "execution_count": 54,
   "metadata": {},
   "outputs": [
    {
     "data": {
      "text/plain": [
       "array([0, 1, 1, 0, 0, 1, 0, 0, 0, 0, 1, 0, 1, 0, 1, 0, 1, 0, 1, 0, 0, 0,\n",
       "       0, 1, 0, 1, 1, 1, 1, 0, 0, 1, 1, 0, 1, 0, 0, 0, 1, 0, 1, 0, 0, 0,\n",
       "       0, 1, 0, 0, 1, 1, 1, 0, 0, 0, 0, 0, 1, 0, 1])"
      ]
     },
     "execution_count": 54,
     "metadata": {},
     "output_type": "execute_result"
    }
   ],
   "source": [
    "labels = np.asarray([prob_.argmax() for prob_ in prob])\n",
    "labels"
   ]
  },
  {
   "cell_type": "code",
   "execution_count": 32,
   "metadata": {},
   "outputs": [
    {
     "data": {
      "text/plain": [
       "array([ 2,  4,  5,  7, 13, 14, 15, 16, 20, 23, 24, 25, 28, 30, 31, 32, 37,\n",
       "       38, 39, 40, 44, 45, 46, 49, 50, 52, 53, 55, 57, 58])"
      ]
     },
     "execution_count": 32,
     "metadata": {},
     "output_type": "execute_result"
    }
   ],
   "source": [
    "np.argwhere(left == -1)[:,0]"
   ]
  },
  {
   "cell_type": "code",
   "execution_count": 52,
   "metadata": {
    "collapsed": true
   },
   "outputs": [],
   "source": [
    "l = [i for i in range(5)]"
   ]
  },
  {
   "cell_type": "code",
   "execution_count": null,
   "metadata": {
    "collapsed": true
   },
   "outputs": [],
   "source": []
  },
  {
   "cell_type": "code",
   "execution_count": 67,
   "metadata": {},
   "outputs": [
    {
     "data": {
      "text/plain": [
       "array([[0.52093719, 0.47906281]])"
      ]
     },
     "execution_count": 67,
     "metadata": {},
     "output_type": "execute_result"
    }
   ],
   "source": [
    "prob[0]"
   ]
  },
  {
   "cell_type": "code",
   "execution_count": 70,
   "metadata": {},
   "outputs": [
    {
     "name": "stdout",
     "output_type": "stream",
     "text": [
      "0.5209371884346959\n",
      "0.4790628115653041\n"
     ]
    }
   ],
   "source": [
    "for p in prob[0][0]:\n",
    "    print(p)"
   ]
  },
  {
   "cell_type": "code",
   "execution_count": null,
   "metadata": {
    "collapsed": true
   },
   "outputs": [],
   "source": []
  },
  {
   "cell_type": "code",
   "execution_count": null,
   "metadata": {
    "collapsed": true
   },
   "outputs": [],
   "source": []
  },
  {
   "cell_type": "code",
   "execution_count": null,
   "metadata": {
    "collapsed": true
   },
   "outputs": [],
   "source": []
  },
  {
   "cell_type": "code",
   "execution_count": 108,
   "metadata": {
    "scrolled": false
   },
   "outputs": [
    {
     "name": "stdout",
     "output_type": "stream",
     "text": [
      "Root n_samples=2006, prob=(0.521, 0.479)\n",
      "|---  (x1 < 4.005). label=1 n_samples=824, prob=(0.220, 0.780)\n",
      "|--- |---  (x0 < 7.005). label=1 n_samples=612, prob=(0.000, 1.000)\n",
      "|--- |---  (x0 > 7.005). label=0 n_samples=212, prob=(0.854, 0.146)\n",
      "|--- |--- |---  (x1 < 3.494). label=0 n_samples=181, prob=(1.000, 0.000)\n",
      "|--- |--- |---  (x1 > 3.494). label=1 n_samples=31, prob=(0.000, 1.000)\n",
      "|---  (x1 > 4.005). label=0 n_samples=1182, prob=(0.731, 0.269)\n",
      "|--- |---  (x0 < 2.002). label=0 n_samples=229, prob=(1.000, 0.000)\n",
      "|--- |---  (x0 > 2.002). label=0 n_samples=953, prob=(0.666, 0.334)\n",
      "|--- |--- |---  (x1 < 6.986). label=0 n_samples=474, prob=(0.511, 0.489)\n",
      "|--- |--- |--- |---  (x0 < 4.367). label=1 n_samples=135, prob=(0.141, 0.859)\n",
      "|--- |--- |--- |--- |---  (x1 < 4.987). label=0 n_samples=31, prob=(0.613, 0.387)\n",
      "|--- |--- |--- |--- |--- |---  (x0 < 3.280). label=1 n_samples=17, prob=(0.294, 0.706)\n",
      "|--- |--- |--- |--- |--- |--- |---  (x1 < 4.268). label=0 n_samples=5, prob=(1.000, 0.000)\n",
      "|--- |--- |--- |--- |--- |--- |---  (x1 > 4.268). label=1 n_samples=12, prob=(0.000, 1.000)\n",
      "|--- |--- |--- |--- |--- |---  (x0 > 3.280). label=0 n_samples=14, prob=(1.000, 0.000)\n",
      "|--- |--- |--- |--- |---  (x1 > 4.987). label=1 n_samples=104, prob=(0.000, 1.000)\n",
      "|--- |--- |--- |---  (x0 > 4.367). label=0 n_samples=339, prob=(0.658, 0.342)\n",
      "|--- |--- |--- |--- |---  (x1 < 4.854). label=1 n_samples=108, prob=(0.463, 0.537)\n",
      "|--- |--- |--- |--- |--- |---  (x0 < 7.307). label=0 n_samples=50, prob=(0.960, 0.040)\n",
      "|--- |--- |--- |--- |--- |--- |---  (x0 < 6.998). label=0 n_samples=39, prob=(1.000, 0.000)\n",
      "|--- |--- |--- |--- |--- |--- |---  (x0 > 6.998). label=0 n_samples=11, prob=(0.818, 0.182)\n",
      "|--- |--- |--- |--- |--- |--- |--- |---  (x1 < 4.682). label=0 n_samples=10, prob=(0.900, 0.100)\n",
      "|--- |--- |--- |--- |--- |--- |--- |--- |---  (x0 < 7.009). label=1 n_samples=1, prob=(0.000, 1.000)\n",
      "|--- |--- |--- |--- |--- |--- |--- |--- |---  (x0 > 7.009). label=0 n_samples=9, prob=(1.000, 0.000)\n",
      "|--- |--- |--- |--- |--- |--- |--- |---  (x1 > 4.682). label=1 n_samples=1, prob=(0.000, 1.000)\n",
      "|--- |--- |--- |--- |--- |---  (x0 > 7.307). label=1 n_samples=58, prob=(0.034, 0.966)\n",
      "|--- |--- |--- |--- |--- |--- |---  (x0 < 7.481). label=1 n_samples=7, prob=(0.286, 0.714)\n",
      "|--- |--- |--- |--- |--- |--- |--- |---  (x0 < 7.385). label=1 n_samples=4, prob=(0.000, 1.000)\n",
      "|--- |--- |--- |--- |--- |--- |--- |---  (x0 > 7.385). label=0 n_samples=3, prob=(0.667, 0.333)\n",
      "|--- |--- |--- |--- |--- |--- |--- |--- |---  (x1 < 4.616). label=0 n_samples=2, prob=(1.000, 0.000)\n",
      "|--- |--- |--- |--- |--- |--- |--- |--- |---  (x1 > 4.616). label=1 n_samples=1, prob=(0.000, 1.000)\n",
      "|--- |--- |--- |--- |--- |--- |---  (x0 > 7.481). label=1 n_samples=51, prob=(0.000, 1.000)\n",
      "|--- |--- |--- |--- |---  (x1 > 4.854). label=0 n_samples=231, prob=(0.749, 0.251)\n",
      "|--- |--- |--- |--- |--- |---  (x0 < 5.665). label=1 n_samples=57, prob=(0.333, 0.667)\n",
      "|--- |--- |--- |--- |--- |--- |---  (x1 < 5.627). label=0 n_samples=20, prob=(0.950, 0.050)\n",
      "|--- |--- |--- |--- |--- |--- |--- |---  (x0 < 4.480). label=0 n_samples=2, prob=(0.500, 0.500)\n",
      "|--- |--- |--- |--- |--- |--- |--- |--- |---  (x1 < 5.111). label=0 n_samples=1, prob=(1.000, 0.000)\n",
      "|--- |--- |--- |--- |--- |--- |--- |--- |---  (x1 > 5.111). label=1 n_samples=1, prob=(0.000, 1.000)\n",
      "|--- |--- |--- |--- |--- |--- |--- |---  (x0 > 4.480). label=0 n_samples=18, prob=(1.000, 0.000)\n",
      "|--- |--- |--- |--- |--- |--- |---  (x1 > 5.627). label=1 n_samples=37, prob=(0.000, 1.000)\n",
      "|--- |--- |--- |--- |--- |---  (x0 > 5.665). label=0 n_samples=174, prob=(0.885, 0.115)\n",
      "|--- |--- |--- |--- |--- |--- |---  (x1 < 6.490). label=0 n_samples=129, prob=(0.953, 0.047)\n",
      "|--- |--- |--- |--- |--- |--- |--- |---  (x1 < 5.003). label=0 n_samples=15, prob=(0.600, 0.400)\n",
      "|--- |--- |--- |--- |--- |--- |--- |--- |---  (x0 < 7.361). label=0 n_samples=9, prob=(1.000, 0.000)\n",
      "|--- |--- |--- |--- |--- |--- |--- |--- |---  (x0 > 7.361). label=1 n_samples=6, prob=(0.000, 1.000)\n",
      "|--- |--- |--- |--- |--- |--- |--- |---  (x1 > 5.003). label=0 n_samples=114, prob=(1.000, 0.000)\n",
      "|--- |--- |--- |--- |--- |--- |---  (x1 > 6.490). label=0 n_samples=45, prob=(0.689, 0.311)\n",
      "|--- |--- |--- |--- |--- |--- |--- |---  (x0 < 7.062). label=1 n_samples=14, prob=(0.071, 0.929)\n",
      "|--- |--- |--- |--- |--- |--- |--- |--- |---  (x0 < 6.638). label=1 n_samples=11, prob=(0.000, 1.000)\n",
      "|--- |--- |--- |--- |--- |--- |--- |--- |---  (x0 > 6.638). label=1 n_samples=3, prob=(0.333, 0.667)\n",
      "|--- |--- |--- |--- |--- |--- |--- |---  (x0 > 7.062). label=0 n_samples=31, prob=(0.968, 0.032)\n",
      "|--- |--- |--- |--- |--- |--- |--- |--- |---  (x0 < 7.276). label=0 n_samples=3, prob=(0.667, 0.333)\n",
      "|--- |--- |--- |--- |--- |--- |--- |--- |---  (x0 > 7.276). label=0 n_samples=28, prob=(1.000, 0.000)\n",
      "|--- |--- |---  (x1 > 6.986). label=0 n_samples=479, prob=(0.820, 0.180)\n",
      "|--- |--- |--- |---  (x0 < 8.003). label=0 n_samples=349, prob=(1.000, 0.000)\n",
      "|--- |--- |--- |---  (x0 > 8.003). label=1 n_samples=130, prob=(0.338, 0.662)\n",
      "|--- |--- |--- |--- |---  (x1 < 8.019). label=0 n_samples=44, prob=(1.000, 0.000)\n",
      "|--- |--- |--- |--- |---  (x1 > 8.019). label=1 n_samples=86, prob=(0.000, 1.000)\n"
     ]
    }
   ],
   "source": [
    "def print_tree_traversal(dt, feature_names=None, indent=4):\n",
    "    left = dt.tree_.children_left\n",
    "    right = dt.tree_.children_right\n",
    "    threshold = dt.tree_.threshold\n",
    "    if feature_names:\n",
    "        features = [feature_names[f] if f >= 0 else None for f in dt.tree_.feature]\n",
    "    else:\n",
    "        features = ['x{}'.format(f) if f >= 0 else None for f in dt.tree_.feature]\n",
    "    size = np.asarray([freq.sum() for freq in dt.tree_.value], dtype=np.int)\n",
    "    prob = np.asarray([freq/freq.sum() for freq in dt.tree_.value])\n",
    "    labels = np.asarray([prob_.argmax() for prob_ in prob])\n",
    "    _print_tree_traversal(left, right, features, threshold, labels, size, prob, indent)\n",
    "\n",
    "def _print_tree_traversal(left, right, features, threshold, labels, size, prob, indent=4):\n",
    "\n",
    "    def is_leaf(i):\n",
    "        return features[i] is None\n",
    "\n",
    "    def print_status(i, depth, equation):\n",
    "        message = '{} ({}). label={} n_samples={}, prob=({})'.format(\n",
    "            '|--- ' * depth, # indention\n",
    "            equation,        # equation\n",
    "            labels[i],       # label\n",
    "            size[i],         # n samples\n",
    "            ', '.join(['%.3f' % float(p) for p in prob[i][0]])) # prob\n",
    "        print(message, flush=True)\n",
    "\n",
    "    def make_stack_item(idx, depth):\n",
    "        # (child idx, depth, equation)\n",
    "        items = [\n",
    "            (right[idx], depth, '{} > {}'.format(features[idx], '%.3f'%threshold[idx])),\n",
    "            (left[idx], depth, '{} < {}'.format(features[idx], '%.3f'%threshold[idx]))\n",
    "        ]\n",
    "        return items\n",
    "\n",
    "    # initialize\n",
    "    stack = make_stack_item(idx=0, depth=1)\n",
    "\n",
    "    # print root\n",
    "    print('Root n_samples={}, prob=({})'.format(\n",
    "        size[0], ', '.join(['%.3f' % float(p) for p in prob[0][0]])))\n",
    "\n",
    "    # while stack is not empty\n",
    "    while stack:\n",
    "        idx, depth, equation = stack.pop()\n",
    "        # if node is leaf print status        \n",
    "        if is_leaf(idx):\n",
    "            print_status(idx, depth, equation)\n",
    "        # else print status and add children (left, right) order\n",
    "        else:\n",
    "            print_status(idx, depth, equation)\n",
    "            stack += make_stack_item(idx, depth+1)\n",
    "\n",
    "#_print_tree_traversal(left, right, features, threshold, labels, prob)\n",
    "print_tree_traversal(dt)"
   ]
  },
  {
   "cell_type": "code",
   "execution_count": 107,
   "metadata": {},
   "outputs": [
    {
     "name": "stdout",
     "output_type": "stream",
     "text": [
      "|--- Root n_samples=2006, prob=(0.521, 0.479)\n",
      "|---  (var2 < 4.005). label=1 n_samples=824, prob=(0.220, 0.780)\n",
      "|--- |---  (var1 < 7.005). label=1 n_samples=612, prob=(0.000, 1.000)\n",
      "|--- |---  (var1 > 7.005). label=0 n_samples=212, prob=(0.854, 0.146)\n",
      "|--- |--- |---  (var2 < 3.494). label=0 n_samples=181, prob=(1.000, 0.000)\n",
      "|--- |--- |---  (var2 > 3.494). label=1 n_samples=31, prob=(0.000, 1.000)\n",
      "|---  (var2 > 4.005). label=0 n_samples=1182, prob=(0.731, 0.269)\n",
      "|--- |---  (var1 < 2.002). label=0 n_samples=229, prob=(1.000, 0.000)\n",
      "|--- |---  (var1 > 2.002). label=0 n_samples=953, prob=(0.666, 0.334)\n",
      "|--- |--- |---  (var2 < 6.986). label=0 n_samples=474, prob=(0.511, 0.489)\n",
      "|--- |--- |--- |---  (var1 < 4.367). label=1 n_samples=135, prob=(0.141, 0.859)\n",
      "|--- |--- |--- |--- |---  (var2 < 4.987). label=0 n_samples=31, prob=(0.613, 0.387)\n",
      "|--- |--- |--- |--- |--- |---  (var1 < 3.280). label=1 n_samples=17, prob=(0.294, 0.706)\n",
      "|--- |--- |--- |--- |--- |--- |---  (var2 < 4.268). label=0 n_samples=5, prob=(1.000, 0.000)\n",
      "|--- |--- |--- |--- |--- |--- |---  (var2 > 4.268). label=1 n_samples=12, prob=(0.000, 1.000)\n",
      "|--- |--- |--- |--- |--- |---  (var1 > 3.280). label=0 n_samples=14, prob=(1.000, 0.000)\n",
      "|--- |--- |--- |--- |---  (var2 > 4.987). label=1 n_samples=104, prob=(0.000, 1.000)\n",
      "|--- |--- |--- |---  (var1 > 4.367). label=0 n_samples=339, prob=(0.658, 0.342)\n",
      "|--- |--- |--- |--- |---  (var2 < 4.854). label=1 n_samples=108, prob=(0.463, 0.537)\n",
      "|--- |--- |--- |--- |--- |---  (var1 < 7.307). label=0 n_samples=50, prob=(0.960, 0.040)\n",
      "|--- |--- |--- |--- |--- |--- |---  (var1 < 6.998). label=0 n_samples=39, prob=(1.000, 0.000)\n",
      "|--- |--- |--- |--- |--- |--- |---  (var1 > 6.998). label=0 n_samples=11, prob=(0.818, 0.182)\n",
      "|--- |--- |--- |--- |--- |--- |--- |---  (var2 < 4.682). label=0 n_samples=10, prob=(0.900, 0.100)\n",
      "|--- |--- |--- |--- |--- |--- |--- |--- |---  (var1 < 7.009). label=1 n_samples=1, prob=(0.000, 1.000)\n",
      "|--- |--- |--- |--- |--- |--- |--- |--- |---  (var1 > 7.009). label=0 n_samples=9, prob=(1.000, 0.000)\n",
      "|--- |--- |--- |--- |--- |--- |--- |---  (var2 > 4.682). label=1 n_samples=1, prob=(0.000, 1.000)\n",
      "|--- |--- |--- |--- |--- |---  (var1 > 7.307). label=1 n_samples=58, prob=(0.034, 0.966)\n",
      "|--- |--- |--- |--- |--- |--- |---  (var1 < 7.481). label=1 n_samples=7, prob=(0.286, 0.714)\n",
      "|--- |--- |--- |--- |--- |--- |--- |---  (var1 < 7.385). label=1 n_samples=4, prob=(0.000, 1.000)\n",
      "|--- |--- |--- |--- |--- |--- |--- |---  (var1 > 7.385). label=0 n_samples=3, prob=(0.667, 0.333)\n",
      "|--- |--- |--- |--- |--- |--- |--- |--- |---  (var2 < 4.616). label=0 n_samples=2, prob=(1.000, 0.000)\n",
      "|--- |--- |--- |--- |--- |--- |--- |--- |---  (var2 > 4.616). label=1 n_samples=1, prob=(0.000, 1.000)\n",
      "|--- |--- |--- |--- |--- |--- |---  (var1 > 7.481). label=1 n_samples=51, prob=(0.000, 1.000)\n",
      "|--- |--- |--- |--- |---  (var2 > 4.854). label=0 n_samples=231, prob=(0.749, 0.251)\n",
      "|--- |--- |--- |--- |--- |---  (var1 < 5.665). label=1 n_samples=57, prob=(0.333, 0.667)\n",
      "|--- |--- |--- |--- |--- |--- |---  (var2 < 5.627). label=0 n_samples=20, prob=(0.950, 0.050)\n",
      "|--- |--- |--- |--- |--- |--- |--- |---  (var1 < 4.480). label=0 n_samples=2, prob=(0.500, 0.500)\n",
      "|--- |--- |--- |--- |--- |--- |--- |--- |---  (var2 < 5.111). label=0 n_samples=1, prob=(1.000, 0.000)\n",
      "|--- |--- |--- |--- |--- |--- |--- |--- |---  (var2 > 5.111). label=1 n_samples=1, prob=(0.000, 1.000)\n",
      "|--- |--- |--- |--- |--- |--- |--- |---  (var1 > 4.480). label=0 n_samples=18, prob=(1.000, 0.000)\n",
      "|--- |--- |--- |--- |--- |--- |---  (var2 > 5.627). label=1 n_samples=37, prob=(0.000, 1.000)\n",
      "|--- |--- |--- |--- |--- |---  (var1 > 5.665). label=0 n_samples=174, prob=(0.885, 0.115)\n",
      "|--- |--- |--- |--- |--- |--- |---  (var2 < 6.490). label=0 n_samples=129, prob=(0.953, 0.047)\n",
      "|--- |--- |--- |--- |--- |--- |--- |---  (var2 < 5.003). label=0 n_samples=15, prob=(0.600, 0.400)\n",
      "|--- |--- |--- |--- |--- |--- |--- |--- |---  (var1 < 7.361). label=0 n_samples=9, prob=(1.000, 0.000)\n",
      "|--- |--- |--- |--- |--- |--- |--- |--- |---  (var1 > 7.361). label=1 n_samples=6, prob=(0.000, 1.000)\n",
      "|--- |--- |--- |--- |--- |--- |--- |---  (var2 > 5.003). label=0 n_samples=114, prob=(1.000, 0.000)\n",
      "|--- |--- |--- |--- |--- |--- |---  (var2 > 6.490). label=0 n_samples=45, prob=(0.689, 0.311)\n",
      "|--- |--- |--- |--- |--- |--- |--- |---  (var1 < 7.062). label=1 n_samples=14, prob=(0.071, 0.929)\n",
      "|--- |--- |--- |--- |--- |--- |--- |--- |---  (var1 < 6.638). label=1 n_samples=11, prob=(0.000, 1.000)\n",
      "|--- |--- |--- |--- |--- |--- |--- |--- |---  (var1 > 6.638). label=1 n_samples=3, prob=(0.333, 0.667)\n",
      "|--- |--- |--- |--- |--- |--- |--- |---  (var1 > 7.062). label=0 n_samples=31, prob=(0.968, 0.032)\n",
      "|--- |--- |--- |--- |--- |--- |--- |--- |---  (var1 < 7.276). label=0 n_samples=3, prob=(0.667, 0.333)\n",
      "|--- |--- |--- |--- |--- |--- |--- |--- |---  (var1 > 7.276). label=0 n_samples=28, prob=(1.000, 0.000)\n",
      "|--- |--- |---  (var2 > 6.986). label=0 n_samples=479, prob=(0.820, 0.180)\n",
      "|--- |--- |--- |---  (var1 < 8.003). label=0 n_samples=349, prob=(1.000, 0.000)\n",
      "|--- |--- |--- |---  (var1 > 8.003). label=1 n_samples=130, prob=(0.338, 0.662)\n",
      "|--- |--- |--- |--- |---  (var2 < 8.019). label=0 n_samples=44, prob=(1.000, 0.000)\n",
      "|--- |--- |--- |--- |---  (var2 > 8.019). label=1 n_samples=86, prob=(0.000, 1.000)\n"
     ]
    }
   ],
   "source": [
    "print_tree_traversal(dt, feature_names=['var1', 'var2'], indent=8)"
   ]
  },
  {
   "cell_type": "code",
   "execution_count": null,
   "metadata": {
    "collapsed": true
   },
   "outputs": [],
   "source": []
  }
 ],
 "metadata": {
  "kernelspec": {
   "display_name": "Python 3",
   "language": "python",
   "name": "python3"
  },
  "language_info": {
   "codemirror_mode": {
    "name": "ipython",
    "version": 3
   },
   "file_extension": ".py",
   "mimetype": "text/x-python",
   "name": "python",
   "nbconvert_exporter": "python",
   "pygments_lexer": "ipython3",
   "version": "3.6.2"
  }
 },
 "nbformat": 4,
 "nbformat_minor": 2
}
